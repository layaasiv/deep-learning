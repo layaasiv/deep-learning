{
 "cells": [
  {
   "cell_type": "code",
   "execution_count": 119,
   "id": "f3c2fab0",
   "metadata": {
    "execution": {
     "iopub.execute_input": "2025-09-28T22:08:26.352021Z",
     "iopub.status.busy": "2025-09-28T22:08:26.351244Z",
     "iopub.status.idle": "2025-09-28T22:08:26.355496Z",
     "shell.execute_reply": "2025-09-28T22:08:26.354664Z",
     "shell.execute_reply.started": "2025-09-28T22:08:26.351995Z"
    }
   },
   "outputs": [],
   "source": [
    "import math, matplotlib.pyplot as plt, torch, operator\n",
    "from functools import partial"
   ]
  },
  {
   "cell_type": "code",
   "execution_count": 120,
   "id": "929c934b",
   "metadata": {
    "execution": {
     "iopub.execute_input": "2025-09-28T22:08:26.357170Z",
     "iopub.status.busy": "2025-09-28T22:08:26.356799Z",
     "iopub.status.idle": "2025-09-28T22:08:26.375185Z",
     "shell.execute_reply": "2025-09-28T22:08:26.374466Z",
     "shell.execute_reply.started": "2025-09-28T22:08:26.357154Z"
    }
   },
   "outputs": [],
   "source": [
    "torch.set_printoptions(precision=3, linewidth=140, sci_mode=False)"
   ]
  },
  {
   "cell_type": "markdown",
   "id": "94fee58a",
   "metadata": {},
   "source": [
    "# Create data"
   ]
  },
  {
   "cell_type": "code",
   "execution_count": 121,
   "id": "53116882",
   "metadata": {
    "execution": {
     "iopub.execute_input": "2025-09-28T22:08:26.376106Z",
     "iopub.status.busy": "2025-09-28T22:08:26.375872Z",
     "iopub.status.idle": "2025-09-28T22:08:26.389456Z",
     "shell.execute_reply": "2025-09-28T22:08:26.388811Z",
     "shell.execute_reply.started": "2025-09-28T22:08:26.376084Z"
    }
   },
   "outputs": [],
   "source": [
    "n_clusters = 6\n",
    "n_samples = 250"
   ]
  },
  {
   "cell_type": "code",
   "execution_count": 122,
   "id": "cc43e928",
   "metadata": {
    "execution": {
     "iopub.execute_input": "2025-09-28T22:08:26.390622Z",
     "iopub.status.busy": "2025-09-28T22:08:26.390429Z",
     "iopub.status.idle": "2025-09-28T22:08:26.403759Z",
     "shell.execute_reply": "2025-09-28T22:08:26.403101Z",
     "shell.execute_reply.started": "2025-09-28T22:08:26.390607Z"
    }
   },
   "outputs": [],
   "source": [
    "centroids = torch.rand(n_clusters, 2)*70-35 "
   ]
  },
  {
   "cell_type": "markdown",
   "id": "92c9363d",
   "metadata": {},
   "source": [
    "```torch.rand``` returns numbers sampled from a uniform distribution on interval ```[0,1)```. In this case, 2 values for each of the 6 clusters is sampled as the x,y coordinate of the centroids. The tensor is scaled by a factor of 70, which changes range of coordinates to ```[0,70)```. Then, it is shifted by 35 units, which changes its range again to ```[-35,35)```. "
   ]
  },
  {
   "cell_type": "code",
   "execution_count": 123,
   "id": "e1d55076",
   "metadata": {
    "execution": {
     "iopub.execute_input": "2025-09-28T22:08:26.405826Z",
     "iopub.status.busy": "2025-09-28T22:08:26.405630Z",
     "iopub.status.idle": "2025-09-28T22:08:26.418636Z",
     "shell.execute_reply": "2025-09-28T22:08:26.417958Z",
     "shell.execute_reply.started": "2025-09-28T22:08:26.405802Z"
    }
   },
   "outputs": [
    {
     "data": {
      "text/plain": [
       "tensor([[0.309, 0.878],\n",
       "        [0.703, 0.692],\n",
       "        [0.741, 0.603]])"
      ]
     },
     "execution_count": 123,
     "metadata": {},
     "output_type": "execute_result"
    }
   ],
   "source": [
    "torch.rand(3,2)"
   ]
  },
  {
   "cell_type": "markdown",
   "id": "6e5f287e",
   "metadata": {},
   "source": [
    "Now, we sample from a multivariate normal distribution for the x,y coordinates of the 250 samples in each cluster. Choose to sample from this distribution because it produces points that form circular/elliptical clusters centered around the mean, simulating natural clusters. "
   ]
  },
  {
   "cell_type": "code",
   "execution_count": 124,
   "id": "2eb7467d",
   "metadata": {
    "execution": {
     "iopub.execute_input": "2025-09-28T22:08:26.419533Z",
     "iopub.status.busy": "2025-09-28T22:08:26.419322Z",
     "iopub.status.idle": "2025-09-28T22:08:26.430946Z",
     "shell.execute_reply": "2025-09-28T22:08:26.430291Z",
     "shell.execute_reply.started": "2025-09-28T22:08:26.419511Z"
    }
   },
   "outputs": [],
   "source": [
    "from torch.distributions.multivariate_normal import MultivariateNormal\n",
    "from torch import tensor "
   ]
  },
  {
   "cell_type": "code",
   "execution_count": 125,
   "id": "4d219447",
   "metadata": {
    "execution": {
     "iopub.execute_input": "2025-09-28T22:08:26.431759Z",
     "iopub.status.busy": "2025-09-28T22:08:26.431584Z",
     "iopub.status.idle": "2025-09-28T22:08:26.444891Z",
     "shell.execute_reply": "2025-09-28T22:08:26.444288Z",
     "shell.execute_reply.started": "2025-09-28T22:08:26.431745Z"
    }
   },
   "outputs": [
    {
     "data": {
      "text/plain": [
       "tensor([[5., 0.],\n",
       "        [0., 5.]])"
      ]
     },
     "execution_count": 125,
     "metadata": {},
     "output_type": "execute_result"
    }
   ],
   "source": [
    "torch.diag(tensor([5.,5.]))"
   ]
  },
  {
   "cell_type": "code",
   "execution_count": 126,
   "id": "27fed827",
   "metadata": {
    "execution": {
     "iopub.execute_input": "2025-09-28T22:08:26.445743Z",
     "iopub.status.busy": "2025-09-28T22:08:26.445561Z",
     "iopub.status.idle": "2025-09-28T22:08:26.457948Z",
     "shell.execute_reply": "2025-09-28T22:08:26.457448Z",
     "shell.execute_reply.started": "2025-09-28T22:08:26.445728Z"
    }
   },
   "outputs": [
    {
     "data": {
      "text/plain": [
       "tensor([[ 13.593, -15.559],\n",
       "        [ 33.204, -14.728],\n",
       "        [ 19.668,  17.967],\n",
       "        [ -1.743,   0.992],\n",
       "        [  0.926,  19.380],\n",
       "        [ -8.055, -19.312]])"
      ]
     },
     "execution_count": 126,
     "metadata": {},
     "output_type": "execute_result"
    }
   ],
   "source": [
    "centroids"
   ]
  },
  {
   "cell_type": "code",
   "execution_count": 127,
   "id": "d36ce916",
   "metadata": {
    "execution": {
     "iopub.execute_input": "2025-09-28T22:08:26.459400Z",
     "iopub.status.busy": "2025-09-28T22:08:26.458650Z",
     "iopub.status.idle": "2025-09-28T22:08:26.473144Z",
     "shell.execute_reply": "2025-09-28T22:08:26.472266Z",
     "shell.execute_reply.started": "2025-09-28T22:08:26.459383Z"
    }
   },
   "outputs": [
    {
     "data": {
      "text/plain": [
       "tensor([[ 14.110, -16.305],\n",
       "        [  7.865, -16.544],\n",
       "        [ 13.164, -16.175],\n",
       "        [ 10.847, -19.293],\n",
       "        [ 16.322, -17.037]])"
      ]
     },
     "execution_count": 127,
     "metadata": {},
     "output_type": "execute_result"
    }
   ],
   "source": [
    "MultivariateNormal(centroids[0], torch.diag(tensor([5.,5.]))).sample((n_samples,))[:5]"
   ]
  },
  {
   "cell_type": "markdown",
   "id": "ba8a7fe7",
   "metadata": {},
   "source": [
    "Using covariance matrix of zero off-diagonal means there is no correlation between x and y, and (in this case) each dimension is spread out with a std. dev. = $\\sqrt{5} \\approx 2.24$"
   ]
  },
  {
   "cell_type": "code",
   "execution_count": 128,
   "id": "aaf30048",
   "metadata": {
    "execution": {
     "iopub.execute_input": "2025-09-28T22:08:26.474321Z",
     "iopub.status.busy": "2025-09-28T22:08:26.473888Z",
     "iopub.status.idle": "2025-09-28T22:08:26.484810Z",
     "shell.execute_reply": "2025-09-28T22:08:26.484216Z",
     "shell.execute_reply.started": "2025-09-28T22:08:26.474303Z"
    }
   },
   "outputs": [],
   "source": [
    "def sample(c): \n",
    "    return MultivariateNormal(c, torch.diag(tensor([5.,5.]))).sample((n_samples,))"
   ]
  },
  {
   "cell_type": "code",
   "execution_count": 129,
   "id": "8b57ec49",
   "metadata": {
    "execution": {
     "iopub.execute_input": "2025-09-28T22:08:26.487264Z",
     "iopub.status.busy": "2025-09-28T22:08:26.487076Z",
     "iopub.status.idle": "2025-09-28T22:08:26.502085Z",
     "shell.execute_reply": "2025-09-28T22:08:26.501416Z",
     "shell.execute_reply.started": "2025-09-28T22:08:26.487249Z"
    }
   },
   "outputs": [],
   "source": [
    "slices = [sample(c) for c in centroids]"
   ]
  },
  {
   "cell_type": "code",
   "execution_count": 130,
   "id": "693af35a",
   "metadata": {
    "execution": {
     "iopub.execute_input": "2025-09-28T22:08:26.503100Z",
     "iopub.status.busy": "2025-09-28T22:08:26.502814Z",
     "iopub.status.idle": "2025-09-28T22:08:26.515089Z",
     "shell.execute_reply": "2025-09-28T22:08:26.514524Z",
     "shell.execute_reply.started": "2025-09-28T22:08:26.503074Z"
    }
   },
   "outputs": [
    {
     "data": {
      "text/plain": [
       "6"
      ]
     },
     "execution_count": 130,
     "metadata": {},
     "output_type": "execute_result"
    }
   ],
   "source": [
    "len(slices)"
   ]
  },
  {
   "cell_type": "code",
   "execution_count": 131,
   "id": "06203539",
   "metadata": {
    "execution": {
     "iopub.execute_input": "2025-09-28T22:08:26.515922Z",
     "iopub.status.busy": "2025-09-28T22:08:26.515720Z",
     "iopub.status.idle": "2025-09-28T22:08:26.529836Z",
     "shell.execute_reply": "2025-09-28T22:08:26.529279Z",
     "shell.execute_reply.started": "2025-09-28T22:08:26.515904Z"
    }
   },
   "outputs": [
    {
     "data": {
      "text/plain": [
       "torch.Size([1500, 2])"
      ]
     },
     "execution_count": 131,
     "metadata": {},
     "output_type": "execute_result"
    }
   ],
   "source": [
    "data = torch.cat(slices)\n",
    "data.shape"
   ]
  },
  {
   "cell_type": "code",
   "execution_count": 132,
   "id": "5bfd1749",
   "metadata": {
    "execution": {
     "iopub.execute_input": "2025-09-28T22:08:26.530780Z",
     "iopub.status.busy": "2025-09-28T22:08:26.530529Z",
     "iopub.status.idle": "2025-09-28T22:08:26.545079Z",
     "shell.execute_reply": "2025-09-28T22:08:26.544459Z",
     "shell.execute_reply.started": "2025-09-28T22:08:26.530757Z"
    }
   },
   "outputs": [],
   "source": [
    "def plot_data(centroids, data, ax=None):\n",
    "    if ax is None: _,ax = plt.subplots()\n",
    "    for i,centroid in enumerate(centroids):\n",
    "        c = data[i*n_samples:(i+1)*n_samples]\n",
    "        ax.scatter(c[:,0], c[:,1], s=1)\n",
    "        ax.plot(*centroid, markersize=10, marker=\"x\", color='k', mew=5)\n",
    "        ax.plot(*centroid, markersize=5, marker=\"x\", color='m', mew=2)"
   ]
  },
  {
   "cell_type": "code",
   "execution_count": 133,
   "id": "546d10b2",
   "metadata": {
    "execution": {
     "iopub.execute_input": "2025-09-28T22:08:26.545913Z",
     "iopub.status.busy": "2025-09-28T22:08:26.545705Z",
     "iopub.status.idle": "2025-09-28T22:08:26.771762Z",
     "shell.execute_reply": "2025-09-28T22:08:26.770989Z",
     "shell.execute_reply.started": "2025-09-28T22:08:26.545899Z"
    }
   },
   "outputs": [
    {
     "data": {
      "image/png": "[encoded data removed]",
      "text/plain": [
       "<Figure size 640x480 with 1 Axes>"
      ]
     },
     "metadata": {},
     "output_type": "display_data"
    }
   ],
   "source": [
    "plot_data(centroids, data)"
   ]
  },
  {
   "cell_type": "markdown",
   "id": "b1de2553",
   "metadata": {},
   "source": [
    "# Mean shift clustering algorithm\n",
    "\n",
    "This algorithm doesn't require you to select the number of clusters ahead of time and can handle clusters of any shape. This is in contrast to kmeans, which requires selection of number of clusters and can only handle circular clusters. \n",
    "\n",
    "The algorithm is as follows:\n",
    "1. For each point in ```data```, its **distance (d)** from every other point in the dataset is computed. \n",
    "2. Create weights for each point in ```data``` using the **Gaussian kernel** of its **distance** from the current datapoint of interest (```x```). \n",
    "    * Can be pictured as putting a gaussian window around ```x```, controlled by the **bandwith** which is the std.dev. of the Gaussian.\n",
    "    * Penalizes points that are further away from ```x``` by driving its weight to 0. Essentially, you're finding neighbors within the bandwidth.\n",
    "    * Rate at which weights fall to 0 is determined by bandwidth -- larger bandwidth (SD) = larger window = fewer zero weights --> larger, smoother clusters.\n",
    "3. Update coordinates of ```x``` as the **weighted average** of all the points in the ```data``` using weight computed in (2).\n",
    "\n",
    "Ultimately, this will push points that are close together even closer until they are right next to each other. Those that converge to the ~same final position (within a small threshold) belong to the same cluster. "
   ]
  },
  {
   "cell_type": "markdown",
   "id": "d8152ef1",
   "metadata": {},
   "source": [
    "### Gaussian kernel\n",
    "\n",
    "Here is the gaussian kernel formula:"
   ]
  },
  {
   "cell_type": "code",
   "execution_count": 136,
   "id": "9fb5104c",
   "metadata": {
    "execution": {
     "iopub.execute_input": "2025-09-28T22:08:27.002733Z",
     "iopub.status.busy": "2025-09-28T22:08:27.002125Z",
     "iopub.status.idle": "2025-09-28T22:08:27.006258Z",
     "shell.execute_reply": "2025-09-28T22:08:27.005648Z",
     "shell.execute_reply.started": "2025-09-28T22:08:27.002704Z"
    }
   },
   "outputs": [],
   "source": [
    "def gaussian(d,bw):\n",
    "    return torch.exp(-0.5*((d/bw)**2)) / (bw*math.sqrt(2*math.pi))"
   ]
  },
  {
   "cell_type": "code",
   "execution_count": 137,
   "id": "a19bbfd2",
   "metadata": {
    "execution": {
     "iopub.execute_input": "2025-09-28T22:08:27.007349Z",
     "iopub.status.busy": "2025-09-28T22:08:27.007101Z",
     "iopub.status.idle": "2025-09-28T22:08:27.021680Z",
     "shell.execute_reply": "2025-09-28T22:08:27.020955Z",
     "shell.execute_reply.started": "2025-09-28T22:08:27.007327Z"
    }
   },
   "outputs": [],
   "source": [
    "def plot_func(f):\n",
    "    x = torch.linspace(0,10,100)\n",
    "    plt.plot(x,f(x))"
   ]
  },
  {
   "cell_type": "code",
   "execution_count": 138,
   "id": "21a81bb2",
   "metadata": {
    "execution": {
     "iopub.execute_input": "2025-09-28T22:08:27.022763Z",
     "iopub.status.busy": "2025-09-28T22:08:27.022402Z",
     "iopub.status.idle": "2025-09-28T22:08:27.319659Z",
     "shell.execute_reply": "2025-09-28T22:08:27.318923Z",
     "shell.execute_reply.started": "2025-09-28T22:08:27.022744Z"
    }
   },
   "outputs": [
    {
     "data": {
      "image/png": "[encoded data removed]",
      "text/plain": [
       "<Figure size 640x480 with 1 Axes>"
      ]
     },
     "metadata": {},
     "output_type": "display_data"
    }
   ],
   "source": [
    "plot_func(partial(gaussian, bw=2.5))"
   ]
  },
  {
   "cell_type": "markdown",
   "id": "13fba0b0",
   "metadata": {},
   "source": [
    "### Writing the algorithm\n",
    "\n",
    "Let's start by writing the algorithm for 1 single data point:"
   ]
  },
  {
   "cell_type": "code",
   "execution_count": 139,
   "id": "bb321f0f",
   "metadata": {
    "execution": {
     "iopub.execute_input": "2025-09-28T22:08:27.320639Z",
     "iopub.status.busy": "2025-09-28T22:08:27.320341Z",
     "iopub.status.idle": "2025-09-28T22:08:27.324603Z",
     "shell.execute_reply": "2025-09-28T22:08:27.323958Z",
     "shell.execute_reply.started": "2025-09-28T22:08:27.320615Z"
    }
   },
   "outputs": [],
   "source": [
    "X = data.clone()\n",
    "x = data[0]"
   ]
  },
  {
   "cell_type": "code",
   "execution_count": 140,
   "id": "78ace3df",
   "metadata": {
    "execution": {
     "iopub.execute_input": "2025-09-28T22:08:27.325513Z",
     "iopub.status.busy": "2025-09-28T22:08:27.325291Z",
     "iopub.status.idle": "2025-09-28T22:08:27.339522Z",
     "shell.execute_reply": "2025-09-28T22:08:27.338976Z",
     "shell.execute_reply.started": "2025-09-28T22:08:27.325497Z"
    }
   },
   "outputs": [
    {
     "data": {
      "text/plain": [
       "tensor([ 12.074, -17.093])"
      ]
     },
     "execution_count": 140,
     "metadata": {},
     "output_type": "execute_result"
    }
   ],
   "source": [
    "x"
   ]
  },
  {
   "cell_type": "code",
   "execution_count": 141,
   "id": "5626bebe",
   "metadata": {
    "execution": {
     "iopub.execute_input": "2025-09-28T22:08:27.340301Z",
     "iopub.status.busy": "2025-09-28T22:08:27.340118Z",
     "iopub.status.idle": "2025-09-28T22:08:27.353303Z",
     "shell.execute_reply": "2025-09-28T22:08:27.352645Z",
     "shell.execute_reply.started": "2025-09-28T22:08:27.340287Z"
    }
   },
   "outputs": [
    {
     "data": {
      "text/plain": [
       "(torch.Size([2]), torch.Size([1500, 2]))"
      ]
     },
     "execution_count": 141,
     "metadata": {},
     "output_type": "execute_result"
    }
   ],
   "source": [
    "x.shape, X.shape"
   ]
  },
  {
   "cell_type": "markdown",
   "id": "8dcf34ce",
   "metadata": {},
   "source": [
    "Start with computing the distance of ```x``` from all points in ```X```. \n",
    "\n",
    "```x``` will automatically broadcast to match size of ```X``` since first dim matches (note: to meet broadcasting rules, all dims (from right to left) except broadcasting dim must match). "
   ]
  },
  {
   "cell_type": "code",
   "execution_count": 142,
   "id": "62335b3c",
   "metadata": {
    "execution": {
     "iopub.execute_input": "2025-09-28T22:08:27.354228Z",
     "iopub.status.busy": "2025-09-28T22:08:27.354049Z",
     "iopub.status.idle": "2025-09-28T22:08:27.367891Z",
     "shell.execute_reply": "2025-09-28T22:08:27.367282Z",
     "shell.execute_reply.started": "2025-09-28T22:08:27.354214Z"
    }
   },
   "outputs": [
    {
     "name": "stdout",
     "output_type": "stream",
     "text": [
      "torch.Size([1500, 2])\n"
     ]
    },
    {
     "data": {
      "text/plain": [
       "tensor([[ 0.000,  0.000],\n",
       "        [ 4.017,  1.101],\n",
       "        [ 2.813,  1.898],\n",
       "        [ 1.581, -0.359],\n",
       "        [ 0.406,  3.465],\n",
       "        [ 0.119,  0.052],\n",
       "        [ 0.831,  2.950],\n",
       "        [ 6.068, -0.321]])"
      ]
     },
     "execution_count": 142,
     "metadata": {},
     "output_type": "execute_result"
    }
   ],
   "source": [
    "print((X-x).shape)\n",
    "(X-x)[:8]"
   ]
  },
  {
   "cell_type": "markdown",
   "id": "1976fca3",
   "metadata": {},
   "source": [
    "We need to calculate the distance of each point from every other point using L2 norm:"
   ]
  },
  {
   "cell_type": "code",
   "execution_count": 143,
   "id": "76744c2f",
   "metadata": {
    "execution": {
     "iopub.execute_input": "2025-09-28T22:08:27.368853Z",
     "iopub.status.busy": "2025-09-28T22:08:27.368624Z",
     "iopub.status.idle": "2025-09-28T22:08:27.379677Z",
     "shell.execute_reply": "2025-09-28T22:08:27.378967Z",
     "shell.execute_reply.started": "2025-09-28T22:08:27.368833Z"
    }
   },
   "outputs": [
    {
     "data": {
      "text/plain": [
       "torch.Size([1500])"
      ]
     },
     "execution_count": 143,
     "metadata": {},
     "output_type": "execute_result"
    }
   ],
   "source": [
    "((X-x)**2).sum(1).sqrt().shape"
   ]
  },
  {
   "cell_type": "markdown",
   "id": "5fbdc945",
   "metadata": {},
   "source": [
    "We can also use **Einstein summation** to achieve this computation:"
   ]
  },
  {
   "cell_type": "code",
   "execution_count": 144,
   "id": "a22ddd9a",
   "metadata": {
    "execution": {
     "iopub.execute_input": "2025-09-28T22:08:27.380503Z",
     "iopub.status.busy": "2025-09-28T22:08:27.380258Z",
     "iopub.status.idle": "2025-09-28T22:08:27.390672Z",
     "shell.execute_reply": "2025-09-28T22:08:27.390135Z",
     "shell.execute_reply.started": "2025-09-28T22:08:27.380482Z"
    }
   },
   "outputs": [],
   "source": [
    "diff = X-x"
   ]
  },
  {
   "cell_type": "code",
   "execution_count": 145,
   "id": "70846884",
   "metadata": {
    "execution": {
     "iopub.execute_input": "2025-09-28T22:08:27.391451Z",
     "iopub.status.busy": "2025-09-28T22:08:27.391249Z",
     "iopub.status.idle": "2025-09-28T22:08:27.406026Z",
     "shell.execute_reply": "2025-09-28T22:08:27.405461Z",
     "shell.execute_reply.started": "2025-09-28T22:08:27.391430Z"
    }
   },
   "outputs": [
    {
     "data": {
      "text/plain": [
       "torch.Size([1500, 2])"
      ]
     },
     "execution_count": 145,
     "metadata": {},
     "output_type": "execute_result"
    }
   ],
   "source": [
    "diff.shape"
   ]
  },
  {
   "cell_type": "code",
   "execution_count": 146,
   "id": "b4110099",
   "metadata": {
    "execution": {
     "iopub.execute_input": "2025-09-28T22:08:27.410355Z",
     "iopub.status.busy": "2025-09-28T22:08:27.409779Z",
     "iopub.status.idle": "2025-09-28T22:08:27.420519Z",
     "shell.execute_reply": "2025-09-28T22:08:27.419921Z",
     "shell.execute_reply.started": "2025-09-28T22:08:27.410332Z"
    }
   },
   "outputs": [
    {
     "name": "stdout",
     "output_type": "stream",
     "text": [
      "CPU times: user 160 µs, sys: 0 ns, total: 160 µs\n",
      "Wall time: 167 µs\n"
     ]
    },
    {
     "data": {
      "text/plain": [
       "tensor([  0.000,  17.351,  11.518,  ..., 444.472, 445.912, 438.941])"
      ]
     },
     "execution_count": 146,
     "metadata": {},
     "output_type": "execute_result"
    }
   ],
   "source": [
    "%time torch.einsum(\"ik,ik -> i\", diff, diff)"
   ]
  },
  {
   "cell_type": "code",
   "execution_count": 147,
   "id": "2be6cc44",
   "metadata": {
    "execution": {
     "iopub.execute_input": "2025-09-28T22:08:27.421295Z",
     "iopub.status.busy": "2025-09-28T22:08:27.421141Z",
     "iopub.status.idle": "2025-09-28T22:08:27.435882Z",
     "shell.execute_reply": "2025-09-28T22:08:27.435336Z",
     "shell.execute_reply.started": "2025-09-28T22:08:27.421283Z"
    }
   },
   "outputs": [
    {
     "name": "stdout",
     "output_type": "stream",
     "text": [
      "CPU times: user 194 µs, sys: 17 µs, total: 211 µs\n",
      "Wall time: 178 µs\n"
     ]
    },
    {
     "data": {
      "text/plain": [
       "tensor([  0.000,  17.351,  11.518,  ..., 444.472, 445.912, 438.941])"
      ]
     },
     "execution_count": 147,
     "metadata": {},
     "output_type": "execute_result"
    }
   ],
   "source": [
    "%time ((X-x)**2).sum(1)"
   ]
  },
  {
   "cell_type": "markdown",
   "id": "53f18b91",
   "metadata": {},
   "source": [
    "Faster using ```torch.einsum```!"
   ]
  },
  {
   "cell_type": "code",
   "execution_count": 148,
   "id": "455ade22",
   "metadata": {
    "execution": {
     "iopub.execute_input": "2025-09-28T22:08:27.436690Z",
     "iopub.status.busy": "2025-09-28T22:08:27.436475Z",
     "iopub.status.idle": "2025-09-28T22:08:27.448213Z",
     "shell.execute_reply": "2025-09-28T22:08:27.447556Z",
     "shell.execute_reply.started": "2025-09-28T22:08:27.436671Z"
    }
   },
   "outputs": [],
   "source": [
    "dist = torch.einsum(\"ik,ik->i\", diff, diff).sqrt()"
   ]
  },
  {
   "cell_type": "code",
   "execution_count": 149,
   "id": "df3e6097",
   "metadata": {
    "execution": {
     "iopub.execute_input": "2025-09-28T22:08:27.449273Z",
     "iopub.status.busy": "2025-09-28T22:08:27.448996Z",
     "iopub.status.idle": "2025-09-28T22:08:27.463461Z",
     "shell.execute_reply": "2025-09-28T22:08:27.462805Z",
     "shell.execute_reply.started": "2025-09-28T22:08:27.449252Z"
    }
   },
   "outputs": [
    {
     "data": {
      "text/plain": [
       "torch.Size([1500])"
      ]
     },
     "execution_count": 149,
     "metadata": {},
     "output_type": "execute_result"
    }
   ],
   "source": [
    "dist.shape"
   ]
  },
  {
   "cell_type": "markdown",
   "id": "e59db57c",
   "metadata": {},
   "source": [
    "Now, calculate weight for each data points using the **Gaussian kernel**:"
   ]
  },
  {
   "cell_type": "code",
   "execution_count": 150,
   "id": "253683d1",
   "metadata": {
    "execution": {
     "iopub.execute_input": "2025-09-28T22:08:27.464293Z",
     "iopub.status.busy": "2025-09-28T22:08:27.464119Z",
     "iopub.status.idle": "2025-09-28T22:08:27.477890Z",
     "shell.execute_reply": "2025-09-28T22:08:27.477284Z",
     "shell.execute_reply.started": "2025-09-28T22:08:27.464280Z"
    }
   },
   "outputs": [],
   "source": [
    "weights = gaussian(dist, bw=2.5)"
   ]
  },
  {
   "cell_type": "code",
   "execution_count": 151,
   "id": "f113c165",
   "metadata": {
    "execution": {
     "iopub.execute_input": "2025-09-28T22:08:27.478883Z",
     "iopub.status.busy": "2025-09-28T22:08:27.478680Z",
     "iopub.status.idle": "2025-09-28T22:08:27.493699Z",
     "shell.execute_reply": "2025-09-28T22:08:27.493026Z",
     "shell.execute_reply.started": "2025-09-28T22:08:27.478861Z"
    }
   },
   "outputs": [
    {
     "data": {
      "text/plain": [
       "(torch.Size([1500]), torch.Size([1500, 2]))"
      ]
     },
     "execution_count": 151,
     "metadata": {},
     "output_type": "execute_result"
    }
   ],
   "source": [
    "weights.shape, X.shape"
   ]
  },
  {
   "cell_type": "markdown",
   "id": "662aaf05",
   "metadata": {},
   "source": [
    "Now, the weighted average of all the data points. The dims don't match from right to left, so have to add a dim before we do the operation:"
   ]
  },
  {
   "cell_type": "code",
   "execution_count": 152,
   "id": "50e72993",
   "metadata": {
    "execution": {
     "iopub.execute_input": "2025-09-28T22:08:27.495143Z",
     "iopub.status.busy": "2025-09-28T22:08:27.494388Z",
     "iopub.status.idle": "2025-09-28T22:08:27.509476Z",
     "shell.execute_reply": "2025-09-28T22:08:27.508904Z",
     "shell.execute_reply.started": "2025-09-28T22:08:27.495121Z"
    }
   },
   "outputs": [
    {
     "data": {
      "text/plain": [
       "tensor([[     1.927,     -2.728],\n",
       "        [     0.641,     -0.637],\n",
       "        [     0.945,     -0.965],\n",
       "        ...,\n",
       "        [    -0.000,     -0.000],\n",
       "        [    -0.000,     -0.000],\n",
       "        [    -0.000,     -0.000]])"
      ]
     },
     "execution_count": 152,
     "metadata": {},
     "output_type": "execute_result"
    }
   ],
   "source": [
    "weights[:,None]*X"
   ]
  },
  {
   "cell_type": "code",
   "execution_count": 153,
   "id": "fdf8e4e8",
   "metadata": {
    "execution": {
     "iopub.execute_input": "2025-09-28T22:08:27.510395Z",
     "iopub.status.busy": "2025-09-28T22:08:27.510198Z",
     "iopub.status.idle": "2025-09-28T22:08:27.524356Z",
     "shell.execute_reply": "2025-09-28T22:08:27.523851Z",
     "shell.execute_reply.started": "2025-09-28T22:08:27.510373Z"
    }
   },
   "outputs": [
    {
     "data": {
      "text/plain": [
       "tensor([ 228.695, -287.576])"
      ]
     },
     "execution_count": 153,
     "metadata": {},
     "output_type": "execute_result"
    }
   ],
   "source": [
    "(weights[:,None]*X).sum(0)"
   ]
  },
  {
   "cell_type": "code",
   "execution_count": 154,
   "id": "9ef50923",
   "metadata": {
    "execution": {
     "iopub.execute_input": "2025-09-28T22:08:27.525238Z",
     "iopub.status.busy": "2025-09-28T22:08:27.525028Z",
     "iopub.status.idle": "2025-09-28T22:08:27.539008Z",
     "shell.execute_reply": "2025-09-28T22:08:27.538345Z",
     "shell.execute_reply.started": "2025-09-28T22:08:27.525223Z"
    }
   },
   "outputs": [
    {
     "data": {
      "text/plain": [
       "tensor([ 12.882, -16.199])"
      ]
     },
     "execution_count": 154,
     "metadata": {},
     "output_type": "execute_result"
    }
   ],
   "source": [
    "((weights[:,None]*X).sum(0)) / weights.sum()"
   ]
  },
  {
   "cell_type": "markdown",
   "id": "f66e1a73",
   "metadata": {},
   "source": [
    "This is the updated coordinate of ```x```! This algorithm is repeated until convergence (points stop moving).\n",
    "\n",
    "### Putting it all together"
   ]
  },
  {
   "cell_type": "code",
   "execution_count": 155,
   "id": "ec85619f",
   "metadata": {
    "execution": {
     "iopub.execute_input": "2025-09-28T22:08:27.539875Z",
     "iopub.status.busy": "2025-09-28T22:08:27.539724Z",
     "iopub.status.idle": "2025-09-28T22:08:27.551540Z",
     "shell.execute_reply": "2025-09-28T22:08:27.550972Z",
     "shell.execute_reply.started": "2025-09-28T22:08:27.539863Z"
    }
   },
   "outputs": [],
   "source": [
    "def one_update(X, bw=2.5):\n",
    "    for i,x in enumerate(X):\n",
    "        diff = X-x\n",
    "        dist = torch.einsum(\"ik,ik->i\", diff, diff).sqrt()\n",
    "        weights = gaussian(dist, bw)\n",
    "        X[i] = ((weights[:,None]*X).sum(0)) / weights.sum()"
   ]
  },
  {
   "cell_type": "code",
   "execution_count": 156,
   "id": "1475e141",
   "metadata": {
    "execution": {
     "iopub.execute_input": "2025-09-28T22:08:27.552526Z",
     "iopub.status.busy": "2025-09-28T22:08:27.552279Z",
     "iopub.status.idle": "2025-09-28T22:08:27.567934Z",
     "shell.execute_reply": "2025-09-28T22:08:27.567438Z",
     "shell.execute_reply.started": "2025-09-28T22:08:27.552506Z"
    }
   },
   "outputs": [],
   "source": [
    "def meanshift(data):\n",
    "    X = data.clone()\n",
    "    for it in range(5):\n",
    "        one_update(X)\n",
    "    return X"
   ]
  },
  {
   "cell_type": "code",
   "execution_count": 157,
   "id": "a9d6c9a8",
   "metadata": {
    "execution": {
     "iopub.execute_input": "2025-09-28T22:08:27.568973Z",
     "iopub.status.busy": "2025-09-28T22:08:27.568741Z",
     "iopub.status.idle": "2025-09-28T22:08:29.229317Z",
     "shell.execute_reply": "2025-09-28T22:08:29.228718Z",
     "shell.execute_reply.started": "2025-09-28T22:08:27.568953Z"
    }
   },
   "outputs": [
    {
     "name": "stdout",
     "output_type": "stream",
     "text": [
      "CPU times: user 1.65 s, sys: 357 µs, total: 1.65 s\n",
      "Wall time: 1.65 s\n"
     ]
    }
   ],
   "source": [
    "%time X_ms = meanshift(data)"
   ]
  },
  {
   "cell_type": "code",
   "execution_count": 158,
   "id": "9e42eed5",
   "metadata": {
    "execution": {
     "iopub.execute_input": "2025-09-28T22:08:29.230383Z",
     "iopub.status.busy": "2025-09-28T22:08:29.230191Z",
     "iopub.status.idle": "2025-09-28T22:08:29.433196Z",
     "shell.execute_reply": "2025-09-28T22:08:29.432395Z",
     "shell.execute_reply.started": "2025-09-28T22:08:29.230368Z"
    }
   },
   "outputs": [
    {
     "data": {
      "image/png": "[encoded data removed]",
      "text/plain": [
       "<Figure size 640x480 with 1 Axes>"
      ]
     },
     "metadata": {},
     "output_type": "display_data"
    }
   ],
   "source": [
    "plot_data(centroids+2, X_ms) # displace the centroid a little to see that all data in same cluster ended up on top of e/o"
   ]
  },
  {
   "cell_type": "markdown",
   "id": "046806f3",
   "metadata": {},
   "source": [
    "# Animation\n",
    "\n",
    "Animate the iterations of the algorithm so we can visualize all the intermediate steps "
   ]
  },
  {
   "cell_type": "code",
   "execution_count": 159,
   "id": "64ab642e",
   "metadata": {
    "execution": {
     "iopub.execute_input": "2025-09-28T22:08:29.434736Z",
     "iopub.status.busy": "2025-09-28T22:08:29.433989Z",
     "iopub.status.idle": "2025-09-28T22:08:29.438770Z",
     "shell.execute_reply": "2025-09-28T22:08:29.437976Z",
     "shell.execute_reply.started": "2025-09-28T22:08:29.434717Z"
    }
   },
   "outputs": [],
   "source": [
    "from matplotlib.animation import FuncAnimation\n",
    "from IPython.display import HTML\n",
    "%matplotlib inline"
   ]
  },
  {
   "cell_type": "code",
   "execution_count": 160,
   "id": "3b9640b7",
   "metadata": {
    "execution": {
     "iopub.execute_input": "2025-09-28T22:08:29.439609Z",
     "iopub.status.busy": "2025-09-28T22:08:29.439379Z",
     "iopub.status.idle": "2025-09-28T22:08:29.453552Z",
     "shell.execute_reply": "2025-09-28T22:08:29.452944Z",
     "shell.execute_reply.started": "2025-09-28T22:08:29.439594Z"
    }
   },
   "outputs": [],
   "source": [
    "def do_one(d):\n",
    "    if d: one_update(X)\n",
    "    ax.clear()\n",
    "    plot_data(centroids+2, X, ax=ax)"
   ]
  },
  {
   "cell_type": "code",
   "execution_count": 161,
   "id": "2a7ec215",
   "metadata": {
    "execution": {
     "iopub.execute_input": "2025-09-28T22:08:29.454363Z",
     "iopub.status.busy": "2025-09-28T22:08:29.454149Z",
     "iopub.status.idle": "2025-09-28T22:08:31.604589Z",
     "shell.execute_reply": "2025-09-28T22:08:31.603797Z",
     "shell.execute_reply.started": "2025-09-28T22:08:29.454347Z"
    }
   },
   "outputs": [
    {
     "data": {
      "text/html": [
       "\n",
       "<link rel=\"stylesheet\"\n",
       "href=\"https://maxcdn.bootstrapcdn.com/font-awesome/4.4.0/css/font-awesome.min.css\">\n",
       "<script language=\"javascript\">\n",
       "  function isInternetExplorer() {\n",
       "    ua = navigator.userAgent;\n",
       "    /* MSIE used to detect old browsers and Trident used to newer ones*/\n",
       "    return ua.indexOf(\"MSIE \") > -1 || ua.indexOf(\"Trident/\") > -1;\n",
       "  }\n",
       "\n",
       "  /* Define the Animation class */\n",
       "  function Animation(frames, img_id, slider_id, interval, loop_select_id){\n",
       "    this.img_id = img_id;\n",
       "    this.slider_id = slider_id;\n",
       "    this.loop_select_id = loop_select_id;\n",
       "    this.interval = interval;\n",
       "    this.current_frame = 0;\n",
       "    this.direction = 0;\n",
       "    this.timer = null;\n",
       "    this.frames = new Array(frames.length);\n",
       "\n",
       "    for (var i=0; i<frames.length; i++)\n",
       "    {\n",
       "     this.frames[i] = new Image();\n",
       "     this.frames[i].src = frames[i];\n",
       "    }\n",
       "    var slider = document.getElementById(this.slider_id);\n",
       "    slider.max = this.frames.length - 1;\n",
       "    if (isInternetExplorer()) {\n",
       "        // switch from oninput to onchange because IE <= 11 does not conform\n",
       "        // with W3C specification. It ignores oninput and onchange behaves\n",
       "        // like oninput. In contrast, Microsoft Edge behaves correctly.\n",
       "        slider.setAttribute('onchange', slider.getAttribute('oninput'));\n",
       "        slider.setAttribute('oninput', null);\n",
       "    }\n",
       "    this.set_frame(this.current_frame);\n",
       "  }\n",
       "\n",
       "  Animation.prototype.get_loop_state = function(){\n",
       "    var button_group = document[this.loop_select_id].state;\n",
       "    for (var i = 0; i < button_group.length; i++) {\n",
       "        var button = button_group[i];\n",
       "        if (button.checked) {\n",
       "            return button.value;\n",
       "        }\n",
       "    }\n",
       "    return undefined;\n",
       "  }\n",
       "\n",
       "  Animation.prototype.set_frame = function(frame){\n",
       "    this.current_frame = frame;\n",
       "    document.getElementById(this.img_id).src =\n",
       "            this.frames[this.current_frame].src;\n",
       "    document.getElementById(this.slider_id).value = this.current_frame;\n",
       "  }\n",
       "\n",
       "  Animation.prototype.next_frame = function()\n",
       "  {\n",
       "    this.set_frame(Math.min(this.frames.length - 1, this.current_frame + 1));\n",
       "  }\n",
       "\n",
       "  Animation.prototype.previous_frame = function()\n",
       "  {\n",
       "    this.set_frame(Math.max(0, this.current_frame - 1));\n",
       "  }\n",
       "\n",
       "  Animation.prototype.first_frame = function()\n",
       "  {\n",
       "    this.set_frame(0);\n",
       "  }\n",
       "\n",
       "  Animation.prototype.last_frame = function()\n",
       "  {\n",
       "    this.set_frame(this.frames.length - 1);\n",
       "  }\n",
       "\n",
       "  Animation.prototype.slower = function()\n",
       "  {\n",
       "    this.interval /= 0.7;\n",
       "    if(this.direction > 0){this.play_animation();}\n",
       "    else if(this.direction < 0){this.reverse_animation();}\n",
       "  }\n",
       "\n",
       "  Animation.prototype.faster = function()\n",
       "  {\n",
       "    this.interval *= 0.7;\n",
       "    if(this.direction > 0){this.play_animation();}\n",
       "    else if(this.direction < 0){this.reverse_animation();}\n",
       "  }\n",
       "\n",
       "  Animation.prototype.anim_step_forward = function()\n",
       "  {\n",
       "    this.current_frame += 1;\n",
       "    if(this.current_frame < this.frames.length){\n",
       "      this.set_frame(this.current_frame);\n",
       "    }else{\n",
       "      var loop_state = this.get_loop_state();\n",
       "      if(loop_state == \"loop\"){\n",
       "        this.first_frame();\n",
       "      }else if(loop_state == \"reflect\"){\n",
       "        this.last_frame();\n",
       "        this.reverse_animation();\n",
       "      }else{\n",
       "        this.pause_animation();\n",
       "        this.last_frame();\n",
       "      }\n",
       "    }\n",
       "  }\n",
       "\n",
       "  Animation.prototype.anim_step_reverse = function()\n",
       "  {\n",
       "    this.current_frame -= 1;\n",
       "    if(this.current_frame >= 0){\n",
       "      this.set_frame(this.current_frame);\n",
       "    }else{\n",
       "      var loop_state = this.get_loop_state();\n",
       "      if(loop_state == \"loop\"){\n",
       "        this.last_frame();\n",
       "      }else if(loop_state == \"reflect\"){\n",
       "        this.first_frame();\n",
       "        this.play_animation();\n",
       "      }else{\n",
       "        this.pause_animation();\n",
       "        this.first_frame();\n",
       "      }\n",
       "    }\n",
       "  }\n",
       "\n",
       "  Animation.prototype.pause_animation = function()\n",
       "  {\n",
       "    this.direction = 0;\n",
       "    if (this.timer){\n",
       "      clearInterval(this.timer);\n",
       "      this.timer = null;\n",
       "    }\n",
       "  }\n",
       "\n",
       "  Animation.prototype.play_animation = function()\n",
       "  {\n",
       "    this.pause_animation();\n",
       "    this.direction = 1;\n",
       "    var t = this;\n",
       "    if (!this.timer) this.timer = setInterval(function() {\n",
       "        t.anim_step_forward();\n",
       "    }, this.interval);\n",
       "  }\n",
       "\n",
       "  Animation.prototype.reverse_animation = function()\n",
       "  {\n",
       "    this.pause_animation();\n",
       "    this.direction = -1;\n",
       "    var t = this;\n",
       "    if (!this.timer) this.timer = setInterval(function() {\n",
       "        t.anim_step_reverse();\n",
       "    }, this.interval);\n",
       "  }\n",
       "</script>\n",
       "\n",
       "<style>\n",
       ".animation {\n",
       "    display: inline-block;\n",
       "    text-align: center;\n",
       "}\n",
       "input[type=range].anim-slider {\n",
       "    width: 374px;\n",
       "    margin-left: auto;\n",
       "    margin-right: auto;\n",
       "}\n",
       ".anim-buttons {\n",
       "    margin: 8px 0px;\n",
       "}\n",
       ".anim-buttons button {\n",
       "    padding: 0;\n",
       "    width: 36px;\n",
       "}\n",
       ".anim-state label {\n",
       "    margin-right: 8px;\n",
       "}\n",
       ".anim-state input {\n",
       "    margin: 0;\n",
       "    vertical-align: middle;\n",
       "}\n",
       "</style>\n",
       "\n",
       "<div class=\"animation\">\n",
       "  <img id=\"_anim_img9c08200be8574e759569ddaf61edfd23\">\n",
       "  <div class=\"anim-controls\">\n",
       "    <input id=\"_anim_slider9c08200be8574e759569ddaf61edfd23\" type=\"range\" class=\"anim-slider\"\n",
       "           name=\"points\" min=\"0\" max=\"1\" step=\"1\" value=\"0\"\n",
       "           oninput=\"anim9c08200be8574e759569ddaf61edfd23.set_frame(parseInt(this.value));\">\n",
       "    <div class=\"anim-buttons\">\n",
       "      <button title=\"Decrease speed\" aria-label=\"Decrease speed\" onclick=\"anim9c08200be8574e759569ddaf61edfd23.slower()\">\n",
       "          <i class=\"fa fa-minus\"></i></button>\n",
       "      <button title=\"First frame\" aria-label=\"First frame\" onclick=\"anim9c08200be8574e759569ddaf61edfd23.first_frame()\">\n",
       "        <i class=\"fa fa-fast-backward\"></i></button>\n",
       "      <button title=\"Previous frame\" aria-label=\"Previous frame\" onclick=\"anim9c08200be8574e759569ddaf61edfd23.previous_frame()\">\n",
       "          <i class=\"fa fa-step-backward\"></i></button>\n",
       "      <button title=\"Play backwards\" aria-label=\"Play backwards\" onclick=\"anim9c08200be8574e759569ddaf61edfd23.reverse_animation()\">\n",
       "          <i class=\"fa fa-play fa-flip-horizontal\"></i></button>\n",
       "      <button title=\"Pause\" aria-label=\"Pause\" onclick=\"anim9c08200be8574e759569ddaf61edfd23.pause_animation()\">\n",
       "          <i class=\"fa fa-pause\"></i></button>\n",
       "      <button title=\"Play\" aria-label=\"Play\" onclick=\"anim9c08200be8574e759569ddaf61edfd23.play_animation()\">\n",
       "          <i class=\"fa fa-play\"></i></button>\n",
       "      <button title=\"Next frame\" aria-label=\"Next frame\" onclick=\"anim9c08200be8574e759569ddaf61edfd23.next_frame()\">\n",
       "          <i class=\"fa fa-step-forward\"></i></button>\n",
       "      <button title=\"Last frame\" aria-label=\"Last frame\" onclick=\"anim9c08200be8574e759569ddaf61edfd23.last_frame()\">\n",
       "          <i class=\"fa fa-fast-forward\"></i></button>\n",
       "      <button title=\"Increase speed\" aria-label=\"Increase speed\" onclick=\"anim9c08200be8574e759569ddaf61edfd23.faster()\">\n",
       "          <i class=\"fa fa-plus\"></i></button>\n",
       "    </div>\n",
       "    <form title=\"Repetition mode\" aria-label=\"Repetition mode\" action=\"#n\" name=\"_anim_loop_select9c08200be8574e759569ddaf61edfd23\"\n",
       "          class=\"anim-state\">\n",
       "      <input type=\"radio\" name=\"state\" value=\"once\" id=\"_anim_radio1_9c08200be8574e759569ddaf61edfd23\"\n",
       "             checked>\n",
       "      <label for=\"_anim_radio1_9c08200be8574e759569ddaf61edfd23\">Once</label>\n",
       "      <input type=\"radio\" name=\"state\" value=\"loop\" id=\"_anim_radio2_9c08200be8574e759569ddaf61edfd23\"\n",
       "             >\n",
       "      <label for=\"_anim_radio2_9c08200be8574e759569ddaf61edfd23\">Loop</label>\n",
       "      <input type=\"radio\" name=\"state\" value=\"reflect\" id=\"_anim_radio3_9c08200be8574e759569ddaf61edfd23\"\n",
       "             >\n",
       "      <label for=\"_anim_radio3_9c08200be8574e759569ddaf61edfd23\">Reflect</label>\n",
       "    </form>\n",
       "  </div>\n",
       "</div>\n",
       "\n",
       "\n",
       "<script language=\"javascript\">\n",
       "  /* Instantiate the Animation class. */\n",
       "  /* The IDs given should match those used in the template above. */\n",
       "  (function() {\n",
       "    var img_id = \"_anim_img9c08200be8574e759569ddaf61edfd23\";\n",
       "    var slider_id = \"_anim_slider9c08200be8574e759569ddaf61edfd23\";\n",
       "    var loop_select_id = \"_anim_loop_select9c08200be8574e759569ddaf61edfd23\";\n",
       "    var frames = new Array(5);\n",
       "    \n",
       "  frames[0] = \"data:image/png;base64,iVBORw0KGgoAAAANSUhEUgAAAoAAAAHgCAYAAAA10dzkAAAAOXRFWHRTb2Z0d2FyZQBNYXRwbG90\\\n",
       "bGliIHZlcnNpb24zLjcuMiwgaHR0cHM6Ly9tYXRwbG90bGliLm9yZy8pXeV/AAAACXBIWXMAAA9h\\\n",
       "AAAPYQGoP6dpAABp+klEQVR4nO3de3xU5b0u8Gcm9wQygEBCMAIiDZcoBspNqLVoIUovdFc5oVuF\\\n",
       "CuqmAUXQghVMqLjxVi9Aqigo2lYi9Rxx70pRDmo5oCByUYOQrWy5bCABCiSQy+Qy6/wxvCtrrVlr\\\n",
       "Zs39sp5vP3ySzKxZs2aaj/Pk977v77VJkiSBiIiIiCzDHu0LICIiIqLIYgAkIiIishgGQCIiIiKL\\\n",
       "YQAkIiIishgGQCIiIiKLYQAkIiIishgGQCIiIiKLYQAkIiIishgGQCIiIiKLYQAkIiIishgGQCIi\\\n",
       "IiKLYQAkIiIishgGQCIiIiKLYQAkIiIishgGQCIiIiKLYQAkIiIishgGQCIiIiKLYQAkIiIishgG\\\n",
       "QCIiIiKLYQAkIiIishgGQCIiIiKLYQAkIiIishgGQCIiIiKLYQAkIiIishgGQCIiIiKLYQAkIiIi\\\n",
       "shgGQCIiIiKLYQAkIiIishgGQCIiIiKLYQAkIiIishgGQCIiIiKLYQAkIiIishgGQCIiIiKLYQAk\\\n",
       "IiIishgGQCIiIiKLYQAkIiIishgGQCIiIiKLYQAkIiIishgGQCIiIiKLYQAkIiIishgGQCIiIiKL\\\n",
       "YQAkIiIishgGQCIiIiKLYQAkIiIishgGQCIiIiKLYQAkIiIishgGQCIiIiKLYQAkIiIishgGQCIi\\\n",
       "IiKLYQAkIiIishgGQCIiIiKLYQAkIiIishgGQCIiIiKLYQAkIiIishgGQCIiIiKLYQAkIiIispjk\\\n",
       "aF9APHO5XDhx4gQ6d+4Mm80W7cshIiIiEyRJwoULF5CXlwe73Zq1MAbAIJw4cQL5+fnRvgwiIiIK\\\n",
       "wLFjx3D55ZdH+zKiggEwCJ07dwbg/gXKzs6O8tUQERGRGfX19cjPz5c/x62IATAIYtg3OzubAZCI\\\n",
       "iCjOWHn6ljUHvomIiIgsjAGQiIiIyGIYAImIiIgshgGQiIiIyGIYAImIiIgshgGQiIiIyGIYAImI\\\n",
       "iIgshgGQiIiIyGIYAImIiIgshgGQiIiIyGIYAImIiIgshgGQiIiIyGIYAIkipGrrcbzxu+2o2no8\\\n",
       "2pdCREQWxwBIFCF7Nh3GhbNO7Nl0ONqXQkREFscASBQhw4r7onO3NAwr7hvtSyFSWV+9HhPenoD1\\\n",
       "1eujfSlEFCE2SZKkaF9EvKqvr4fD4UBdXR2ys7OjfTlERAGZ8PYEnGw4iV5ZvfDBrR9E+3KIwo6f\\\n",
       "36wAEhFZ3syrZ6JXVi/MvHpmtC+FiCKEFcAg8C8IIiKi+MPPb1YAiYiIiCyHAZCIfGILGyKixMIA\\\n",
       "SBSHIh3I2MKGiCixMAASxaFIBzK2sCEiSizJ0b4AIvLfsOK+2LPpcMQCWeH1vVF4fe+IPBcREYUf\\\n",
       "AyBRBFVtPS4Ht2ACFQMZEREFg0PARCFiZl6e2aHbD9bsxx9/8yE+WLM/xFdJRETEAEgUMmbCndm5\\\n",
       "dN/uroXkcn/Vw1W5ZITbuhGRGQyARCFiJtwVXt8bd/77WJ/Dt1cNz4HN7v6qh6tyycjqr1bjZMNJ\\\n",
       "rP5qddifi2GTKH5xJ5AgsJM4RUuo5hJS4llfvR6rv1qNmVfPxJSCKWF9Lu4hTPGKn9+sABLFJVFJ\\\n",
       "BMChYFKZUjAFH9z6QVjCn7bixz2EieIXAyBRHDMaCuYcQdIT7JCtdng5nGGTiMKLAZAojg0r7ou0\\\n",
       "zGS0NLejautxOfjt2HDI1BzBSAVFBtLYEOz8QFb8iBIH+wASxTAzc/1amtsguSCHvQtnnYANSMtM\\\n",
       "xrDivqpzvP3hK+jRowdKS0sBqCuI4vwVFRU4ffo0ysvLQ/Y69J6HIm/m1TPl+YGBmFIwhdU+ogTB\\\n",
       "AEgUw3wFpz2bDkNyATY75NXHWyurIbmA1PQkFF7fG2/8bjsunHVi8SOLsWHba/JjS0tLPXYUqaio\\\n",
       "wOzZs+VjQhUCI71zCblpF4SI8KYcwo3k8xNR7OAq4CBwFRGFilGlT+925W0AvN5feH1vVG097hH+\\\n",
       "AGDlypUoLS2Vj69u+hj//vwi1TFlZWUhrQRSZOmt0o3kyl2uEqZYxc9vzgEkCgmjOW5m574ZLebQ\\\n",
       "6xuorQpqVwNrH/P2h694hD8AmD17NioqKrBn02H8betbHuEPAJYsWcIAGMf05uyFax6f3gITzhkk\\\n",
       "il2sAAaBf0EQ4A55Yti1c7c0OZABkIdftbfrncNsXz+9Y/Wex6jyp3VFrytx9OR/ez2GlUDrCHTY\\\n",
       "ltU+iif8/OYcQKKg6c3DE4zmvlVtPY4dGw4BAEZP7o/C63sbBj9t4FMeK+7L7d8FwHnV8+zZdBgp\\\n",
       "UifD6y5EIapQJYc/8bOeHj16GL8BFHP0Qpzytt21u7Hp8CYU9y3Gk9c/qXqscqWwPwEw2AUmRBRZ\\\n",
       "rAAGgX9BEBDYrhyiYgd4Vg214VAM+Yqt4WoOnZefy1uFUVzXZ0f+joo3H1fdNw3TMB3TsQqrUIlK\\\n",
       "lKAE9+JerMVavI7XVcf+bu5SFGTcwF1H4sjYdWNR31KP7NRsbJ+6HYC6QlfbWAuX5ILdZscXd36h\\\n",
       "eqzZCiAXeFA84+c3A2BQ+AtEgaraehzb//oN2lpdSE6xY+xtA+QFG2I4GYC8t7C4zWaHPNQ8rLiv\\\n",
       "RxXRiHJ1byEKsQIr5PvqUAcHHPLPczBHrgSuXLkSnY9fa2oYm2LHuHXjUNdSB0eqA9umbgNgvgJo\\\n",
       "Fod8KZ7x85uLQIhCwt9Gx4XX90ZG5xQAQFurS178IYaTRR+/3P5dsGfTYVw1PAedu6Whe35n2OyQ\\\n",
       "b3c2tiE1PQlAxyIQ5bWI73949WSsXLnSfa2owiqskq9FGf5WYZUc/n43d6ncKkYETooP9w27D72y\\\n",
       "euG+YffJt00pmCIP0w7PGY5HRj2Cvaf2YsHWBX7vDrK+ej0aWhvgSHX4NeQb7E4kRBQ6rAAGgX9B\\\n",
       "kGB2sYeS3jxA7XCy9rzKn8X8wtz+XfDt7lq5MghAPkb5/Z3/Phb9+34P/33kGwDABmxQhb861GEy\\\n",
       "JgMABg0ahK+//jpUb4/H6/Z3yDxSEn1YU1m1a2htQH1LPWywQYIkV/LMvAeBVv/0hqaJooGf36wA\\\n",
       "EoVEIFWywut7Y+az12Pms9frhj+98+o9z3dfnJaHjC+ccyK9c6p8jHKruEceeFwOfyUoUYU/wF0J\\\n",
       "LEEJAODAgQOoqKgI7M3wwajlTSwIdqu0WKdsy2KDDQCQlpSG7NRsNLY2YsHWBXh85+M+3wPHxw60\\\n",
       "/b82r9W/iooKj5Xj4jnFVyKKHq4CJgqCMrQFOz9Ob9cPb6uDxfEqEnDm2AX85o/jVcf9betb+Ot2\\\n",
       "97y/QhTiXtwr36+cA3gv7kXVpf+JOYM/vHpySCt2sbwrSKKvZNVu5SZeqwi+mw5vkheH6L0H66vX\\\n",
       "48HfPYhj/+cYAOB00WmgwPN5jHaUuW/YffJzJnq1lSjWcQg4CCwhUyBDv4J2R48dGw6hvdWFpBS7\\\n",
       "alGH8jgR+jp3S0Nu/y74ZlctAPfikO75nXHm2AVcNTwHE2YMkR+7rPwZvPnR86rn9mcV8K9+NBfX\\\n",
       "fe+nsNmB60sKYm7YNh74assS7QAkrqWoZxH2ntpreE39p/THf/9V3TNS7CgjaMMfoN9HkotIKJr4\\\n",
       "+c0AGBT+AlEw89mU4RGA3OpF21Bab96fMgx6C2Z3TpyHP33wnO7za/v+eesDOOUHc3D94Ml+z3GM\\\n",
       "1bl+kRbtLdkCoQ2o5eXlWLJkie6xIgTqhT9BGwJjKQCT9fDzO4HnAC5btgwjRoxA586d0bNnT0ye\\\n",
       "PBnV1dWqY5qbm1FaWorLLrsMnTp1wi9/+UvU1tZG6YopHult1eaNcoWucj6f+F6s9lUOjyqPU279\\\n",
       "1tLcjrTMZI/wp3yOTnleruVS2LuyzwDVz3ou659sao6j8rljea5fpEVqSzZvq2y19xkdK25/Yc8L\\\n",
       "8lxAb+EPcG8rOHjwYMPwB3huKzilYAo+uPUDhj+iKEnYCmBxcTFKSkowYsQItLW14Xe/+x2qqqrw\\\n",
       "9ddfIysrCwAwa9YsvPfee1i7di0cDgdmz54Nu92O7dvNrU7jXxCJKZyVK+2Q8Qdr9uPb3bWqYdtA\\\n",
       "ziOue8eGQ3A2tQFSRxXxN7+ehxfX6lcBA6ncmL0uZbXS6hXAcBPVNLGyNzs1G1kpWarqmrbiaFSB\\\n",
       "FLc7Uh3ITMnEzKtn4vT/PW34++FPJVk7XEwULfz8TuAK4KZNmzB9+nQMGTIEQ4cOxdq1a3H06FHs\\\n",
       "3r0bAFBXV4c1a9bg2Wefxfjx4zF8+HC89tpr+OSTT7Bjx44oXz1FUzgrV8pqXtXW4/hml7t9yze7\\\n",
       "ak33EATcfQBFP0DldTsb3eFPHAMAf3ztWZSVlXmcQ3wYV209js7Hr0Xprx7xOEYb/nz1O9SrVhpV\\\n",
       "Jyl0xCIOG2zoldULNthwsuEkHt/5uFzhK+pZBBtsONd8Duur1xtWIMXt9w27T67QlZaWyn0klaZh\\\n",
       "GlZghbx6vAQlWIEVmIZpHscy/BHFloQNgFp1dXUAgG7dugEAdu/ejdbWVtx0003yMQMHDsQVV1yB\\\n",
       "Tz/9VPccTqcT9fX1qn+UeCLV+FgbMH0FThGeRNVQcgE1h87L9w8r7gtldw1xX9XW47i8fjx+Onq6\\\n",
       "fN8dEx7AgPQb8MbvtmPHhkO4cNaJkX1uVn3I61X+lOFY23B69byt2LHhkNeKH4eFw0Mb2u4bdh/s\\\n",
       "Njtckktu57L31F5IkNDc3izv86s3BGt0uzYEFqIQ0zEdgHv1+AZskFeXT8d0FKJQPlYb/vxpCM3m\\\n",
       "0UThYYk2MC6XC3PnzsXYsWNRWOj+j1JNTQ1SU1PRpUsX1bE5OTmoqanRPc+yZcu8zoOhxOCt9Uow\\\n",
       "lNu8iaFR5bZvymqe8jHaRR8Xz9fKu4W0NLejautx1TWL5tIiwIrK4MShdyAp2YbMFAdG9fuJvII4\\\n",
       "LTNZUbVzDyefPn1aDn/Ka9BbhCLCnLOxTX4+o/cvllvAxDNtexfxvbKlzcyrZ2L5nuWQIAU871CE\\\n",
       "uNmzZ8s7yojQZ7SjjF7lT9lv0dccQH+OJSLzEnYOoNKsWbPw97//Hdu2bcPll18OAHjzzTfx61//\\\n",
       "Gk6nuo/ayJEj8aMf/QhPPum5P6bT6VQdX19fj/z8fEvPISA3M/MGV8/bKoekASNykDegi+6cPeX5\\\n",
       "Wprb4Wxs89j5o+bQedV93lbmancc2bHhkHwdZlq7GM3rA6D63uy+xBQbzKzCNTrm8qsux/FD7mH8\\\n",
       "QHaU8WcFMFcLUzhwDqAFKoCzZ8/G3/72N2zdulUOfwCQm5uLlpYWnD9/XlUFrK2tRW5uru650tLS\\\n",
       "kJaWFu5Lpjik18TZm5pD51Fz6DycjW1ITrGjvd2F3P5dPBZyJKfY5bl+4rwidJ345jy+2VWLC2ed\\\n",
       "+GDNfo9FJMpQOvPZ61X36YU1bV9CX1U/7fw+hr7QiUToeWHPC6hvqccLe15QPYfyufWqbxUVFXL4\\\n",
       "87ajTCUq5R1ltBVAbcXSG3+OJSLzEjYASpKEOXPm4J133sHHH3+Mfv36qe4fPnw4UlJSsGXLFvzy\\\n",
       "l78EAFRXV+Po0aMYM2ZMNC6Z4pgyJBlVA0X1TRwPQK7ytbW6UHPoPI7u/6eqOpeUYpfvE8frzaH7\\\n",
       "dnctJswYgg/W7Mc3n9ciOcWOpGQ7nI1tHqFUDBeL6xS3iXPv2HAILc1t8lC1NuhxCDf8RPB6fOfj\\\n",
       "AKAbgIIJieur1+NCywUAHduyaVcSK0NgUc8iTHh7AvK/zMerj70KwP8dZUpLS1nNI4ohCTsE/Jvf\\\n",
       "/AZvvvkm3n33XRQUdOxV5HA4kJGRAcA9NLxx40asXbsW2dnZmDNnDgDgk08+MfUcLCGTHl+7g2gr\\\n",
       "bdvf/gZtrS4M+H5ORwC0AT+c6v69NRpm1T52wowh+ONvPpTnFKZlJiM1PcmjoifCnPY6tcPO3Pkj\\\n",
       "etZXr8fjOx+HS3Kp2rEoQ5O3RtJ6O3sAkG9Tbvn2yKhHMKVgim77F2ULmap3q3DyzydVz+PPjjJ3\\\n",
       "Lb4Ln1/1OVySS75mBkKKFn5+J3AAtNn0Nxt/7bXXMH36dADuRtDz58/HunXr4HQ6MXHiRPzxj380\\\n",
       "HALW4i9QfAlVfz9f5zG6Xy9gJSW5K3wAfPbOM7Pt3Adr9suLO8Q8Q+1cQu08Q224vGLIZag5dD5s\\\n",
       "/fu4Q4gnb1vFiYqcNuh5C08izImVwL2yegGA6jYASLYlIzMlE/cPux8AdM+3vno9Fj6xEN+t/U73\\\n",
       "2v3pA9jr9l7o8eMeHqEzVndDocTFz+8EDoCRwF+g+BLMvr2hOI94XHKqHW0tLvWdlyp+eoFRBCVv\\\n",
       "wUncl9u/i9wiRrnFnLIaqBe6lAtUgn1/fAnV/w+JxEw1T1TxXtjzAmyw4b5h9/lcvOGrAigon1f7\\\n",
       "2HPN53Dk7SM4/e5pr69h0KBBOHDggNdjrrztSix7bFlM7odM1sLP7wSeA0ikFaoWJP6eRxnOWpr/\\\n",
       "6V7gcUlyih1JKfrtOM0sLNFWFUWLGJtdPc9QrBz2yQa/3p9AqnlsBeNJzLXTa8+iXAQx4e0JqG9x\\\n",
       "9x8V/f2UAUoZqPQqauI8w3OGY/me5XC2u7saNLY2Yn31ekwpmCLPP6w9XAuX5IINNuT8IgdpSWn4\\\n",
       "n//zP7rXf9fiu7Dm92v83lGGCzyIoscyjaCJgtm3N5jziCD33RenO3bqsLnn6I29bQBS05PkxRrC\\\n",
       "B2v248I5J5JT7Kogp10AIpo4t7e6VHsJi7l74lprDp332oB59OT+6NwtTVWFNLNrRyCNnf19/6xA\\\n",
       "2XzZW+PjmVfPRHZqNhypDtUqXbHjh3LVLuCusI1dNxbj1o1TnW9KwRRsm7oNu27fha7pXVHXUic/\\\n",
       "plu6u1l+TmYOemX1ws39bkavrF74w7//wXBHmTW/XwPAs1m0cOVtV2Lw1MEety/YugBD3xiKBVsX\\\n",
       "BPCuEVEwGACJDIRq1wqxs4iY6we4h3tnPns9Cq/vLd+f27+LHLi+3V0LSEB7u0se/m1pbkdaZrJu\\\n",
       "5SwpxY47/30sJswYohuufO1uohfKzLz+SO2aYiXaEKc0pWAKtk/djvuG3ScP0yp3/NBu77b6q9Wo\\\n",
       "b6lXBTwt8Rix0vfrf7r79p1sOInaRvd8UhFOy8vLceVtV8qPvWvxXR4tXrQhsOfknsiclKkKpSLg\\\n",
       "iqHoTYc3BfGOEVEgGACJDJgJN2aqZCJcDfh+DmADklPtuvcrq3RXDXcfm5Rkl4dZnY1tSE1P8mgt\\\n",
       "07lbmrwq2Nc1GC1a0XsNZl4/q3mhZ7RHr5IIiXtP7cUjox6Rj9du41bUs0h+jPJ7JfGYvaf24mTD\\\n",
       "SSTZkuT79MLZsseWoefknuh1ey8cu+aY7jlFCOz1i17oObmn6vmVAbe4bzHsNjsGdRvE7d6IIowB\\\n",
       "kMiAmXDjT5Uwb0AX2GxAW4tL93hl4JowYwg6d3VXDcV8Ob0wJiqIYm9e7f683sKpuF8MI2uvSfn6\\\n",
       "zQRdCo0pBVPk4V1tIBLVs6KeRYahT2n78e3y93tP7fX6vCJ4ZqVkAQDSk9J1w9mUgilY8cQK9Lul\\\n",
       "nzx3UE9paSm6/7y7x/MrA+6T1z+JL+78AmebzxpWPYkoPBgAiYLgzxDonk2HPRZoKInABbhXyub2\\\n",
       "76LYo9c4jCpDqNH3gGelT9zf3uqSdxvxdu2hGA4nc4yGgZWVP19zBtdXr5cXjADGFUCtsb3HoldW\\\n",
       "Lzw04iF8cecXOHbhGE42nMTTu56Wn2dKwRRkpWSphpbXV6/HuHXjMHbdWPlabu53M2ywIT0pXa5o\\\n",
       "6gVWM1VPIgotBkCiIPgzBCrC4vUl7gbPRhU1EbZqDp03dW5lCDX6XnleUS0UcwqTUuyQXJBXCetV\\\n",
       "+zjXL7KMApHe7d7CooSOLl++KoB64RLo2CnE2e5UPY/yWtZXr8fSHUtR11Inby8HuFcb52bl4qER\\\n",
       "D3ld7eutiklE4cE+gEFgHyFrC6ahsdEuHHqtW/w5v5legco9ffWaT7NPX3wxaiK9fM9y1LfUQ4Kk\\\n",
       "2vHD6LGAZyPo9dXr8fSup9Hc3gy7zQ5JkjD4ssE423zWY6eQkw0du4Q4Uh3YNnUbGz1TzOLnNyuA\\\n",
       "RAELdFhUb0WvtuefmdYt/l6Tslo5rLgv0jKT0dLcDgCqSqNRtY/zAGOTXvVs9VerUddSB8AdxvTC\\\n",
       "nzjuZMNJvLDnBd2GzKu/Wo3m9mYA7gUhEiTs/+d+eUhYmHn1TDhSHUhPSkd6UjokSFhfvd6wkumt\\\n",
       "1Q0RRQYrgEHgXxDWFmgFUK/6p93jV1sBBNT7APtqDK3cPcTocf5W+lgZjB/KvYS9bSEHuENeY2sj\\\n",
       "6lrq5LAmdhsZ23ssth/fLjeMTktKk4Ml4A6XEiTcP+x+j2qgt6ofK4MUbfz85k4gRAETjZa90Qtk\\\n",
       "yupf1dbj2FpZLW/dphyCBc7Lw7Nipw8AXncGEbeLCqBoH6P3OG87cuiFW+7gET9EGNPbXeSFPS/I\\\n",
       "8/S2T90u3yaaS4shX8A9b3Db1G2qxy/YugCbDm9Cqj1VDoMv7HlBfk5vu5oIZo4hovDiEDBRGGmH\\\n",
       "ZLX9/PRWBiuHYMXjAffOIUaNoI2eUwz1KgOnGMbVtpABvLeGMbPghcPE0SWGVhdsXWC4x65Y1NHS\\\n",
       "3oIJb0/A07uelucKTimYIlf7gI6Vw8oh2+E5w5GTmYPxV4z3OJdYIexrQYc4BgCHgomihBVAojDS\\\n",
       "Vs28/SyClbayGMxeu9pzieqiqAZq5x6Kn9Myk72u+tWrbCorld6qlBQ+2n18V3+1WhXE1levh7Pd\\\n",
       "CRtsaHG1qBZuiDB3c7+bsfG7jQDcfQQnvD1BHiIWK4BPNpwETgGLRi/C6q9Wo6G1Qd6SDoDp1bzK\\\n",
       "FcxcAUwUWZwDGATOIaB4YxTc/JlnCHjOBxQ/p2UmIzU9KaCV0RQ8Mb+vqGcR9p7a61EB1K7WFWyw\\\n",
       "IS0pTW7XIs5zrvkcmtubkZ6Ujq7pXTHz6pnYXbsbmw5vwqBug3DswjG0tLcAcLeJkSDBkepAZkqm\\\n",
       "bvXR6Hp9HWv2OCKz+PnNABgU/gJRNAXThkaPP4s8vAVJBr/YJdrDSJCQ3zkfB84eQKo9VZ7zJxZl\\\n",
       "iMB1uvE02qQ2pCelY9ftuwB0hEixB7EgQmJDawPqW+pDusCDi0Yo1Pj5zTmARGHnz7w4f44NdncO\\\n",
       "7XP50+xZOx+QewLHJuWcwAlvTwAAbJu6DdunbkflTyrxxZ1f4KERDyE9KR0AcK75nBz+TjacRLvk\\\n",
       "bhPkbHfK8/SKehbJW8Rlp3Z8cKYlpeGDWz/A/cPuR3Zqtu42cYG2f+FOIUShxwpgEPgXBJlhVFkT\\\n",
       "VTNluxdlg2Z/q3Chui6Kb8rhUhHkRLXObrOjuG+xx/Cwcmg4OzUb9w+7H8v3LEdDawPaJPcqclF9\\\n",
       "01bj9IZnjSp2rORRrODnNyuARGFnVFkTYe/b3bWqVbuBVuFCdV0Uv0T/P7Ego6hnEXpl9UJx32I5\\\n",
       "BG46vMlj6zhlZa2prUm+T4Q/oGNFsHYLOL25eWa3svNWEWSzaKLwYgUwCPwLgoKhVwHUC3Nmt3fz\\\n",
       "tychxRczCyG0izyUlTZfC0TGrhuL+pZ62GCDBAnZqdloaW+R5wfqbScXbEXP2+PNnJuLQyhQ/Pxm\\\n",
       "BZAIQMd8uA/W7I9YHztRwZswY4hcyavaehyr523F6nlb5WvwNtfPn3mAwc4ZpOBoK1r+VriULVOM\\\n",
       "zisqbLf0u8WjAid67z15/ZOqPn3i8eN6j0OvrF64ud/N6JXVC+N6j0OLq0V+vGgroxTsVm/e5vaZ\\\n",
       "mfdn9J4QkW+sAAaBf0EkDjEfzmaHvCtHpObFKbdra291oa3VvbJSuVVcMBVAs5XGaLBSVVJb0fK3\\\n",
       "era+er28Rdt9w+4zvfWa0eOMrkt7u9G8QX9ea7iwAkiB4uc3K4BEADrmw101PCfi8+LE7iDOxja0\\\n",
       "tV1qq2Hr2BnE21w/M/MAReVPudAkVnbqsFJVUlvR8ndl65SCKchKyUJdSx0e3/m4XF3zdR6x9Zuy\\\n",
       "kbNe1VD7eLHat7hvsUfV0N/XqhWq+X1mdh0hIn2sAAaBf0FQKCgrgFcMuSzkVTrl+QHA2dgWMyt/\\\n",
       "rVQBDIX11euxdMdSueGydp9e7bHKZs422LBo9CJMKZiiW6HTVtPMVvF8zS3Uw/l9FG38/GYADAp/\\\n",
       "gShecKeOxCEWa2SnZmP71O2Gx4mQZYMN2anZGNt7rBzQAPhs3aINYEaBTNsY2sywrz8LWtgyhsKB\\\n",
       "n98cAiaKG/40idYSQ9yjJ/dnw+Y4ox0uvX/Y/eiV1Qv3D7vf6+NmXj0TdpsdEiRkpmRi76m9XhdM\\\n",
       "iCFf0e5FO7xqtOBCDPcW9y02PaTta+h2ffV6NLQ2wJHqYPNnojBhBTAI/AuCAhXI0CcbN1tTMJUw\\\n",
       "ZaUNgEeDaOU5zSwm8XdINtBhXFb/KNz4+c0KIFFUBLL4YVhxX6RlJqOluT1mFnFQ+AWzDZqy0qb8\\\n",
       "Xu+cvp5Hr2rnazGHrzYtRo/n1m9E4ccKYBD4FwQFKtDFD6GoAnLhhbWsr16P5XuWQ4KE+4fdH9SC\\\n",
       "CrMLRcwuDGGlj6KFn9+sABJFlJjHByCguXih2L7NSq1XEp2Zdiqrv1qNupY61LfU44U9LwTVfkVb\\\n",
       "0TOq1Inj9p7a63WuHyt9RNHDCmAQ+BcE+Sta8/iUVT8AuhVAVgZjl1EVz2w7leV7lsPZ7oSz3QkJ\\\n",
       "UsAVN7Nz+tjChWIdP79ZASSKqFBU8AKhrPoZNY9mZTB2Kat4yvl0ZipoUwqmYNvUbeia3hUSJNht\\\n",
       "dvl4fxsym228zAbNRLGPAZAogkT4AhCxPYcBc8EzWuGUfJt59Uw4Uh3ITs3W3d9X9OnzFuZEWHxk\\\n",
       "1CM+W7uYFaodPYgo8jgEHASWkClQbOlCoRbIgopgh2q5owfFK35+swJIFFFiEUhu/y6stsW5WKt+\\\n",
       "BbKgItihWjPPGWyVkYjCgxXAIPAvCPJXrFX+uPAjcInQwkSvOhfqih0rgBSL+PnNCiBRWGm3b4uV\\\n",
       "eXbiunZsOMSFHwFKhBYmetW5UFfsQr0gJNYqr0TxigGQKIy0K2uNVuBG67oAxEQgjUeJsNJ15tUz\\\n",
       "kZ2ajcbWRjlQxXqw5ZAyUWgwABKFUaxU/LTEdY2e3D8mAilFx5SCKchKyUJdS50cqMwE22hW4WI9\\\n",
       "oBLFC84BDALnEBCRVrzNeQvkehNh/iNZGz+/WQEkIgqpeBuiDGQom1U4oviXHO0LICJKJDOvnilX\\\n",
       "1BLVlIIpcVHdJCJjHAIOAkvIRBRJ8Ta8TBSr+PnNIWAiorgRb8PLRBS7GACJiOKEP3Pv2C+PiLzh\\\n",
       "EHAQWEImoljFlbpExvj5zQogEVFC4kpdIvKGFcAg8C8IIiKi+MPPb1YAiYiIiCyHAZCIKIFw8QcR\\\n",
       "mcEASESUQNgqhojMYAAkIkogXPxBRGZwEUgQOImU/FW19Tj2bDqMYcV9UXh972hfDhGRJfHzmxVA\\\n",
       "oojas+kwLpx1Ys+mw9G+FCIisjAGQKIIGlbcF527pWFYcd9oXwoREVlYcrQvgMhKCq/vzaFfIiKK\\\n",
       "uoStAG7duhU//elPkZeXB5vNhg0bNqjulyQJjz76KHr16oWMjAzcdNNN+Oabb6JzsUREREQRlLAB\\\n",
       "sKGhAUOHDkVFRYXu/U899RSWL1+Ol156CTt37kRWVhYmTpyI5ubmCF8pERERUWQl7BDwzTffjJtv\\\n",
       "vln3PkmS8Pzzz2PRokX4+c9/DgB44403kJOTgw0bNqCkpCSSl0pEREQUUQlbAfTmu+++Q01NDW66\\\n",
       "6Sb5NofDgVGjRuHTTz+N4pURERERhV/CVgC9qampAQDk5OSobs/JyZHv0+N0OuF0OuWf6+vrw3OB\\\n",
       "RERERGFkyQpgoJYtWwaHwyH/y8/Pj/YlEREREfnNkgEwNzcXAFBbW6u6vba2Vr5Pz8MPP4y6ujr5\\\n",
       "37Fjx8J6nUREREThYMkA2K9fP+Tm5mLLli3ybfX19di5cyfGjBlj+Li0tDRkZ2er/hERERHFm4Sd\\\n",
       "A3jx4kV8++238s/fffcd9u3bh27duuGKK67A3LlzsXTpUgwYMAD9+vXD4sWLkZeXh8mTJ0fvoomI\\\n",
       "iIgiIGED4Oeff44f/ehH8s/z5s0DAEybNg1r167Fb3/7WzQ0NOCee+7B+fPnMW7cOGzatAnp6enR\\\n",
       "umQiIiKiiLBJkiRF+yLiVX19PRwOB+rq6jgcTEREFCf4+W3ROYBEREREVsYASERERGQxDIBERERE\\\n",
       "FsMASERERGQxDIBEREREFsMASERERGQxDIBEREREFsMASERERGQxDIBEREREFsMASERERGQxDIBE\\\n",
       "REREFsMASERERGQxDIBEREREFsMASERERGQxDIBEYXaushLfjL8R5yoro30pREREABgAicLuzMuv\\\n",
       "oO3ECZx5+ZVoXwoREREABkCisOt+z91IzstD93vujvalEBERAQBskiRJ0b6IeFVfXw+Hw4G6ujpk\\\n",
       "Z2dH+3KIiIjIBH5+swJIREREZDkMgEREREQWwwBIFGXBrBLmCmMiIgoEAyBRlPmzSlgb+LjCmIiI\\\n",
       "AsEASBRl/qwS1gY+rjAmIqJAMACSJZ2rrET1qNGoHjVaNXwajSHVriUlGPDhFnQtKfF5rDbw+fNY\\\n",
       "IiIigW1ggsBl5PHrm/E3ou3ECQBAcl4eBny4RXW78jZ/nKusxJmXX0H3e+5mKCMiilH8/GYFkCyq\\\n",
       "+z13w+5wwO5wqIZPgx1S5Zw8IiKKB6wABoF/QZCWmQogq4RERNHFz29WAIm8Mjsn8Pj8B3FgSCEa\\\n",
       "d33uc04eq4RERBRtDIBEXpgNa/WbNgHt7e6vPhgNM7OnHxERRQoDIJEX2rCmDWni5/RBg4CkJGQX\\\n",
       "F/s8p3blrjjHqeeej1hlkGGTiMjaOAcwCJxDYD3aVcK+Vg2bme8nzmF3OGDPyorI3MBgVzsTEcUz\\\n",
       "fn6zAkjkF21F0NeqYTGEfOq55w0rbuIcPR+Yq6oMlpeX4+m77tLtVyhUVFSgvLw86NdBRETWwgpg\\\n",
       "EPgXBPkiKoCuhga46upMV9zKy8uxZMkSAMCinjn4VdeuHo+tqKjA7NmzAQBlZWUBBUEiIivi5zcr\\\n",
       "gEQexIre4/MfDPpcYr5fzwfmelTcxDy84/MfVFUHleEPAJaeqsW65ibVY5XhDwCWLFnCAEhERKax\\\n",
       "AhgE/gURH/ztu3dgSCHQ3g4kJWHQ/qqwXZe8G0lSEtDejuS8PPzl+h+owp/SypUrUVpa6hH+lFgJ\\\n",
       "JCLyjZ/frACSBfjbdy+7uBiw2WBLSQl4n2DlsUYrhzOLipCcl4fs4mIk5+VhdbeuhuEPAGbPno3B\\\n",
       "gwcbhj/AXCWQK4CJiIgBkBKecsGDmfDT+w/PILlXL0jNzarQ6E+QFMfWPLbUo72L+Pnitm0Y8OEW\\\n",
       "9P7DMxjw4RZc8aMfGZ6vEIUAgAMHDqh+1tOjRw9T18ZG1ERE1sUASAlP2XfPbPjRWyXra+WsMlx2\\\n",
       "v+dueWgXgOpxUkuL6qtQWlqKlStXepx3GqZhBVagBO7h6xKUYAVWYBqmeRwrhon9fW1ERGQtnAMY\\\n",
       "BM4hiD/+zAf0daz2/oPXFkFqboYtPR0D9+3Vffy5ykrULPk9IElAcjIgScguLkbvPzwjn1c5x68Q\\\n",
       "hViBFfJ9daiDAw755zmYgyq45ymaCX9ERMTPb4ABMCj8BUpsvho0a5spHxg02B3sbDYMOvC113Mi\\\n",
       "KQlwueTjk3v1Up1fGQJLUIJ7ca/HuVZhFSrhHsp+dMD3sOS/qnWf099FMEREiY6f3xwCJjIkhkoB\\\n",
       "yMPG2mFe5VBq9i23uLeDu+UWw3NmFhXJW8aJ421paR7D0qWlpRg0aBAAoBKVqEOd6jx1qJPDX//M\\\n",
       "TMz9vf7ikXOVlah5bGnI5vxxAQkRUWJgACSCfrARcwc7jRsHJCUhs6hINYdQu6dv7z88g0H7q1TD\\\n",
       "uecqK1U7eTTu3Qu0t6Nx7175+JyFC2B3OOBqaJCfv6KiQl7wUYIS1bAvADjgkOcEHmpsxJv//Kfu\\\n",
       "6zrz8ivueYg2m+r8geICEiKixMAASATvwUYZ2vxZQCGqb666Orjq6nDquefhamiA3eFQPb5rSQns\\\n",
       "WVlw1dXhzMuveMwBVA7/KiuB9+JeeTXw7NmzUVFR4XEN4nrt2dny+YPBBSRERImBAZAIxsHmXGWl\\\n",
       "KrRpq37eKKtvdoe7gueqq4M9K8vj8eL5N/Tto+rzV4UqrMVaAO45f5MxGauwCgCwFmvlBSCAOwSW\\\n",
       "fa9At4qptxNJIPx5/UREFLu4CCQInESa+LQLPYCORRWZRUVyVdDMKmFfizG87fBRiEJV2NP+rORt\\\n",
       "QQgREfHzGwCSo30BRLGs+z13y6FNEMPF9bW1QHs7ah5bCgAeoa5rSYnqNvH9mZdfQeOuzz3C4+nT\\\n",
       "pw2vQ4S9QYMG4cCBA4bhDwCar7naz1dJRERWwyFgIi/0hjzFcG12cbHc7LnmsaU+t41Trsit37TJ\\\n",
       "Y85heXk5ysrKDK/lqV//Gl9//bVus2ihrKwMT779dqAvl4iILIIBkMhPIhT2/sMzyF28SDcE6i0q\\\n",
       "OfXc8/KcQLH/r3ZOXnl5OX5z2WUez7moZw5+svMznKusNNwxpKyszOc+wERERAADIJHs+PwHcWBI\\\n",
       "IY7Pf9D0Y7qWlKhCoAh82kUlx+c/CFddxwrezBHfV1UWlRXDB2/4kSoELh0/Hr/q2lV1/tLSUjw6\\\n",
       "4HvyMQx/RETkDwZAshyjZsb1mzYB7e3ur36cQ4RAEfjOVVbKLV/kc2/c2PFgSZKDnDjPqeeeR9uJ\\\n",
       "E+6vZ89i6cqVKCsrw8qVKzFFLNNKSlJVDOf+fgkeHfA9/PaXv1SFPzZrJiIiX7gKOAhcRRSf9Fb2\\\n",
       "Au4qXf2mTR578/pzDuV9AOT7DxYNg9TUJG8BZ0tPR86C38pDxXKbmPp6QJJ0Vx2b3crN6Nq4JRwR\\\n",
       "kRs/v1kBpDgWaKXLqOef3k4eRjKLigCbDe1nz3o8f/d77nbvH6xo+Jyz4LfuhsydOgGSBKmpCaee\\\n",
       "e16+lp4PzIU9K8u9N7Cm0qddiKLdXcTs6+MuHkREJDAAUtwKNNAoA5U2RPoKleL+i9u2uYNcc7PH\\\n",
       "cC4AFOzcgYKdO+TQ1rWkxLAJs6uhAaeeex6ZRUVIzstD7uJFXit0Z15+Rd5dRLs/sfb1KXEXDyIi\\\n",
       "EjgEHASWkKMrFEOa2uFSefg2KUk3iIn7xZAtAPR8YC66lpSgetRo904fDgd6PjBX1T/w1HPPy8O7\\\n",
       "docD9qwsucegdrjYzOs+9dzz8nOLc5h9PBGR1fHzmxVAimOh2JZMWxXrfs/dHit69Y7v+cBcjyqf\\\n",
       "knJRh6jYieHdng/MlYOaq6EBtowM2NLT4Wpo0O0leHz+gx5VSXtWFjqNGyfvSMLKHhER+YM7gZAl\\\n",
       "KauHyqqZcrcOvUCl3N1DW4EU1bjMoiLVqt/u99wtV+xEaBPP4aqrQ3JeHgDIw9nKa9DbcUS+/VLl\\\n",
       "sBEdO5YoXwMREZERy1cAKyoq0LdvX6Snp2PUqFH47LPPon1JFAHe5g/6qixqW7eIeXgiDDbu3auq\\\n",
       "9nUtKZGrhY1796LtxAnUPLZUVbnTm5+nt+OIHEyTktwH2WzyHELt62E7GCIiMmLpAPjWW29h3rx5\\\n",
       "KCsrw549ezB06FBMnDgRp06divalkY5QBppgFkTUPvEk2k6cgKuuTh66VQawzKIiICkJ2cXFugsx\\\n",
       "RJi7uG2bfLte6BQLRxr37lXtHKLsO2jPzpYbTCv7EGoDKhERkZKlF4GMGjUKI0aMkLfVcrlcyM/P\\\n",
       "x5w5c7Bw4UKfj+ck0sjy1nsvXPQWmhwYOKjjgEthTizsyCwqkhtKG12nOKeroUEeAjZ6Pb56+mUW\\\n",
       "FaFx717V9SkXqojFJhwWJiLqwM9vC1cAW1pasHv3btx0003ybXa7HTfddBM+/fRT3cc4nU7U19er\\\n",
       "/lHkRLKNyfH5D+LAoMGoKV/iUUWzpafL34vKnFjY0bh3r3u/X00vPyVR7ev5wFyfr8dXT7/GvXs9\\\n",
       "KofKhSrBLpIhIqLEZNlFIGfOnEF7eztycnJUt+fk5ODgwYO6j1m2bBmWLFkSicsjHcoFGOFWv2mT\\\n",
       "ex4f4BHmchYuMGw/IxZjmKm6Gb0ebZsXveqgeJ7MoiJ8M/5G1fNF8n0iIqL4ZNkKYCAefvhh1NXV\\\n",
       "yf+OHTsW7UuiMMkuLgZsNiAlxb17h4K3RSKhaE1z6rnnVY2etbQLTnzN8+NiECIi0rJsAOzevTuS\\\n",
       "kpJQW1urur22tha5ubm6j0lLS0N2drbqH8UHf0LQucpKNO7di9yyR5Hco4dhEAvk3H6dw2aTK3zK\\\n",
       "nUpqHlsqhz4zw+LcAo6IiLQsGwBTU1MxfPhwbNnSMbzmcrmwZcsWjBkzJopXRuHgTwhSHutPwDr1\\\n",
       "3POG28r5ConK5xRzA3PLHlVV+ET4U84xNFNx5BZwRESkZelVwG+99RamTZuGVatWYeTIkXj++eex\\\n",
       "fv16HDx40GNuoB6uIoof2nl13gKTv1vMiXOLdiy29HTY0tJUW7+5Ll5UrRbWnvtcZSVqn3gSktOJ\\\n",
       "7FtuQeaI7+PMy68guVs3NB84gOziYjkMGm1TR0RE5vDz2+IBEABWrlyJp59+GjU1Nbj22muxfPly\\\n",
       "jBo1ytRj+QsUX3zt8xuSc2slJcHeqZMqHErNzbptXWrKl8iPSc7Jka9VtJRRLvzQtn7R461VDBGR\\\n",
       "lfHz28JDwMLs2bNx5MgROJ1O7Ny503T4o/ij3ec3lIsjMouK3ItGBJsNdocDuYsXoecDc+WdO2xp\\\n",
       "aYZtXYTs4mLVLiDJeXnILCrya+GHOGfbiROo37Qp6DmAXEhCRJRYLB8AKf6ZDSfKHTRENc0oGPkb\\\n",
       "eMT2b3aHQ56/V7Bzh9ySRTxvp3HjdJ9DBL7c8jL0/sMz8ty+3n94Ru4v6M+8RAAeITKYOYBcSEJE\\\n",
       "lFgsPwQcDJaQY0OgO4R4m+vn7znNzhtUnheA4XNozxfK4Vx/5zgG+hgioljFz29WACkBeKuIeavk\\\n",
       "aVfQ6lXkfFXNxGMAeKzG1Xtu5Xm9PYe24iauVVQCax5bGvBwbCDVvFD0NyQiotjBCmAQ+BdE7POn\\\n",
       "khfIHrrK82t3AQlm72Kjitvx+Q+i/r33ACDgPZFZzSMiq+PnNyuAlOD86YEnjgVgukKmPP+p556X\\\n",
       "+wGK++wOB1wNDT6rddpqoVHFrXHvXvc3XvYa9oXVPCIiYgCkhOZP2BHHikbMZgKWr23h7FlZujuJ\\\n",
       "HJ//IA4MKcTx+Q8CMD8sKy8WCXEbG67yJSKyFgZASmiBBJtAK2QiOPZ8YK58mwhs2i3d6jdtAtrb\\\n",
       "3V9hvlIZruodV/kSEVkLAyDFFX8DXSDBJtBqmFE4czU0oH7jRtV1ZBcXA0lJ7q+XHivmEBo9r7iu\\\n",
       "4/MfDHm1jtvFERFZCxeBBIGTSCMvXO1ZAn0OX+dX7RByKfAZtXHx9bzKnUzE7iCBLAIhIrI6fn6z\\\n",
       "Akhxxt9KVSBDpv4s3vBVYRTnEruCeNvFQ++1KecKivvTBw0CkpLcu48QEREFgBXAIPAviMShreSZ\\\n",
       "rQL6W2H09/gDQwqB9nYgKQmD9lcBCLzxNRERufHzmxVAIgCelbxwLcrw5/hzlZWwpaQANps8V9Cf\\\n",
       "ayMiIjLCAEgEz1AV7l55ZhaanHn5FUjNzYDdjswR35dv9zdEsr0LERFpcQg4CCwhU6DMDOOeq6xE\\\n",
       "zWNLg1rwweFiIiJP/PxmBZDItFBW08wM43YtKUHu4kWmh3t97T1MREQksAIYBP4FYS3hWhgS6esj\\\n",
       "IrI6fn6zAkhkmtlqWih31fCn6shqHxERmcUKYBD4FwTpCWUFkFU9IqLQ4+c3kBztCyBKNF1LSkI2\\\n",
       "9Cu2h2NVj4iIQolDwESI3XYp4W5HQ0RE1sQASITQztsjIiKKdQyARIjsAopYrTYSEZF1cBFIEDiJ\\\n",
       "lALBhR1ERNHFz29WAIkiju1aiIgo2hgAiSLM28IODg8TEVEkMAASxRAuRiEiokhgACSKIRweJiKi\\\n",
       "SGAAJApSKIdt2fePiIgigQGQKEhmh205v4+IiGIFAyBRkHwN24rgd+q55zm/j4iIYgL3AiYKkq+9\\\n",
       "f0WF0O5wcH4fERHFBAZAojDrfs/dOPPyK+h+z92c20dERDGBO4EEgZ3EiYiI4g8/vzkHkIiIiMhy\\\n",
       "GACJiIiILIYBkIiIiMhiGACJiIiILIYBkIiIiMhiGACJiIiILIYBkIiIiMhiGACJiIiILIYBkIiI\\\n",
       "iMhiGACJiIiILIYBkIiIiMhiGACJiIiILIYBkIiIiMhiGACJiIiILIYBkIiIiMhiGACJiIiILIYB\\\n",
       "kIiIiMhiGACJiIiILIYBkIiIiMhiGACJiIiILIYBkIiIiMhiGACJiIisZNca4LlC91eyrIQMgI8/\\\n",
       "/jiuu+46ZGZmokuXLrrHHD16FJMmTUJmZiZ69uyJhx56CG1tbZG9UCIiokjb9hxQd8z9lSwrIQNg\\\n",
       "S0sLbrvtNsyaNUv3/vb2dkyaNAktLS345JNP8Prrr2Pt2rV49NFHI3ylREREETbuAcCR7/5KlmWT\\\n",
       "JEmK9kWEy9q1azF37lycP39edfvf//53/OQnP8GJEyeQk5MDAHjppZewYMECnD59GqmpqabOX19f\\\n",
       "D4fDgbq6OmRnZ4f68omIiCgM+PmdoBVAXz799FNcffXVcvgDgIkTJ6K+vh779++P4pUREVHUcY4c\\\n",
       "WYAlA2BNTY0q/AGQf66pqTF8nNPpRH19veofEZHWn3ccwdgnPsSfdxyJ9qVQIDhHjiwgbgLgwoUL\\\n",
       "YbPZvP47ePBgWK9h2bJlcDgc8r/8/PywPh8RxacXPz6E4+eb8OLHh6J9KRQIzpEjC0iO9gWYNX/+\\\n",
       "fEyfPt3rMVdeeaWpc+Xm5uKzzz5T3VZbWyvfZ+Thhx/GvHnz5J/r6+sZAonIw6wb+uPFjw9h1g39\\\n",
       "gz7Xn3cckc91++g+Ibg68mnEDPc/ogQWNwGwR48e6NGjR0jONWbMGDz++OM4deoUevbsCQDYvHkz\\\n",
       "srOzMXjwYMPHpaWlIS0tLSTXQESJ6/bRfUIW1pTVxFAHQIZLIuuKmyFgfxw9ehT79u3D0aNH0d7e\\\n",
       "jn379mHfvn24ePEiAGDChAkYPHgw7rjjDnzxxRd4//33sWjRIpSWljLgEVFMmXVDf/TukhGSaqIW\\\n",
       "h6qJrCsh28BMnz4dr7/+usftH330EW644QYAwJEjRzBr1ix8/PHHyMrKwrRp0/DEE08gOdl8UZTL\\\n",
       "yIkSVziqY7FWcYu16yGKFH5+J2gAjBT+AhHFplAEm7FPfIjj55vQu0sGti8cH5LrCsc5iQC4W9Zs\\\n",
       "e869cIXzF33i53eCDgETkbWFYmgzHEOv3s5ppnUM28tYlJm+hL5a17C3IWkwABJRwglFeLt9dB9s\\\n",
       "Xzg+pEOj3s5pJrRyzl6cCjZ8melL6Kt1jT+9DRkWLYEBkIgSTjjCW7iZCa3hXBBCYRRsY+lxDwDp\\\n",
       "XYGWix2hTBvSRswAHqhSD/8qj/GntyEbYVsC5wAGgXMIiIjIp1DMz3uu0B3KHPnuoKf8edwD+ud/\\\n",
       "rhDl736DHpd1Q+n/Pml46oqKCpw+fRrl5eWhu94Yx89vVgCJiACEb35dMOflnL8EoazOBTq8Ou4B\\\n",
       "IKMr4LzoWdEzqNiVf30llvyjBbP/Tw0qKip0T1tRUYHZs2djyZIlHQFQr5roC4eN4w4DIBER9OfX\\\n",
       "hSKAifOWvVuF+9bt9et8nPMXY0IRcgIdXh0xA0jtBDSfcz9WGdJ0hnfLy8uxZPV/yj/Pnj3bIwSK\\\n",
       "8CeoQqC/OGwcdxgAiSjh6QU5cZsIZcP7dJXn14n7nnm/2msAu2/dXvR/+D3ct26v4XPPuqE/kmxA\\\n",
       "uwS89+UJvwId5/zFmFCEHG1YU4ZKXwHTaB6fpmJXXl6OJUuWeDxcGQK14U8IOARy/+S4wzmAQeAc\\\n",
       "AqL4oNd/T9wmwpnefV0yUuRzPDixwGNRSf+H30O7BCTZgEPLJhk+v+hLOLxPV+w+ck7Vn5DNmCMo\\\n",
       "2Llt4Zgbp5zLB6jn+QXAKPwpDRo0CAcOHPB6TNnMn6L8lf8I6BriAT+/WQEkIgvQq6SJ2yZdk2d4\\\n",
       "34MTC5CVlozzTa26VbtJ1+Qhyeb+qqStOIpVycunFsmrk8vLy1FRUeF1mLeioiLwITnyFGwFL5C5\\\n",
       "cb4oK2fK7/2pDCr06NHD8L5CFAKAHP7Ez7rnObvLzxdCcUeigNXV1UkApLq6umhfChGFyZ8+PSxd\\\n",
       "t2yL9KdPD3u9TXn70PL3pT4L/iZdt2yL7jnLysokABIA6c75v9c918qVK+VjysrKDJ8zHCL5XBH1\\\n",
       "2WpJenaI+2sojgv2Md48O0SSyrLdX5Xf6z3nX+9SPbfyd0f8m4Zp0kf4SCpBiQRAKkGJ9BE+kqZh\\\n",
       "msexK/8lN3SvI0bx81uSOAQcBJaQiRLTn3ccwTPvVwMArv9eD3nYFnAvzGhwtuF8UyuSbMCSnxfK\\\n",
       "Q7fKoeOstGTdYV29IbqVK1eitLRU/llvftblN96JpO9Picg2cpbfsk7bciVUj1EOIQPeh5PNHCue\\\n",
       "05YESO2q51b+DhWiECuwQn5YHerggEP+eQ7moArux2l/FxMVP785BExE5OHFjw/hfFMrzje1qhZu\\\n",
       "iEUhzjaXPHdQOXSrHDrWa0QdzOT8/9nyBto/X69apBKu9jCWX3wSyIKGrO4d3xsN1yqHoI2Go8Vw\\\n",
       "L9Ax3Gw09Cyuc8gv3F/zR7kf+/YMlLa8iJUP/QoAUIUqrMIq+WHK8LcKq/wPf2z5khBYAQwC/4Ig\\\n",
       "SkxGFcBn3q/G+aZWdMlIwYMTC/xavBGyyfllZdicfr21K3SxaEk3dxVO0DZoBoAPH3MPst642P2z\\\n",
       "8r4tjwE2uO9vPue7+qi3IEWnIjh4xVkc+M7dBHoDNqjCXx3qMBmTAQCDutvx9caXzc1vDKRCGmP4\\\n",
       "+Q0kR/sCKPF8sXkjPtvwNkZOvhVDf3xLtC+HLCYUq2pvH93H8LEiGALwK3z5mpxfhSrV5HxRldE7\\\n",
       "z6zh/eXXSDFiyC+A/e8Ava4BGs6oGzRveQxw1ncM04qQpQxuzefc3yddWnmurCjqUVYQxXnEc+aP\\\n",
       "Ao7tRMXJoTjw3ZsAgBKUqMIf4K4ElqAElajEgTMuVDyxCKX/20QA1AZbikscAqaQ+2zD26g/cwqf\\\n",
       "bXg72pdCFhTO5sm3j+4jrwoue7dKdwjWaHjWMfwn6PezOR7HT8M0rMAKlKAEgPuDegVWYBqmeRwr\\\n",
       "hujica/jhHfrGqDsLHDPx54Nmm3oqA7mj/J8bP4oADYgJRNob3PfdvLLjvv1VgTnj+oY9n2iL/Bk\\\n",
       "X/exD1QBt65BReoszH7aHf4KUYh7ca98ujrUyd/fi3vl1cDyjiG+hnjDsRqaIo4BkEJu5ORbkd29\\\n",
       "J0ZOvjXal0IWFO75a8rGznoh0yiAvvjxIbgGTVSFwEIUYjqmA3B/EG/ABvmDejqmq9p03Dn/95aY\\\n",
       "nB/T/J37JoLS+MXuYVkAOLTF8xyHtgCQgOQ0oPCX7mOH/KLjfr25g9UbgfoTwMGN7uph0zl5PmHF\\\n",
       "b/9VNY+0ClVYi7UA3HP+JmOyPCdwLdaqqs2zZ89GxdLfdlQug3n9FNM4BzAInENAFLv8GQr2d9jY\\\n",
       "aI7g7aP7GJ5Lefvmt9/AG394FIC74qeszgirsAqVqAQAdPvxv2Hg+Ns43y/agpn79vYM9xBxUhrQ\\\n",
       "1qg+xxN93SEuvSuw8LDnY5Xz/Y584j6PPN/QBqR3cVcZxy9GxWfNuouIAM+pBd6mGqy8OR2lP8wB\\\n",
       "FiiuJwHm/gn8/GYADAp/gTjfj2KPCFqiVYuZhRJ6bU+UgQ2AR6jztpOIGb37DcCJw98C8D45P6/v\\\n",
       "Veh77yruHhILgtkJRISnjK7uPX0vzdMz1RJG7zwpmUCb010pvLWjIld+989UewDrGdQzBQdOtXo9\\\n",
       "pmxCD5QvXaa+NvG98trjdBiYn98cAqYgcb4fxRoxBAvA9FCw3rCxcihXb1jX204igPFcQMDd6kWE\\\n",
       "P2+T8wHgxOFvcdWZ7aqgF855juRFMHPfxHzA8Yvd5/h2S8cwqz/nFeeZsNQ957DPde75f0/0BXat\\\n",
       "QXn/L1H2w1TDh6986Ff4urYFK1euNDymrKwM5e+fcl+PdrHJA1Xu8KdtYcPh4bjDCmAQ+BcEK4AU\\\n",
       "e4Ktjunt2wt4VgB9MWqmHIoGvawARkgwFT9fj32yr3veXkomkHlZ4FU1UREE3MGw5SLQdA7l22xY\\\n",
       "sqVOdejKf8lF6cKl8nXpDReXlZWptx/Uex271nS0rRm/2H17nA0P8/ObATAo/AUiig++ApPyflFd\\\n",
       "8zakq5wD+ODEAp/nFPfrNXmehmmYjunynD8xJ3At1uJ1vK461iq7NIRFIGEumFCj7Ml3y9Oezymu\\\n",
       "x3nRPf9P9O5L7wqkdfI95Coenz/KvYhEp79g+XvH5N6TK/8lF6VTb+mYP3jpNSl/Jz3Cnz/vTTBh\\\n",
       "OQr4+c0AGBT+AhHFBl+BzNccP2XoEz9rF3WIiuDwPl3x3pcn0H7pv5xm5/4Z7fAB+Dk5nyEwMIGE\\\n",
       "uWArgBsf6ghb+aPc4UszZ09eHCL6B16q4MGR775fb6s37bm9vJ7y8nL06NEDpSPTOx6jCaUVFRU4\\\n",
       "ffq0+fAX7HsTA/j5zTmAZFFfbN6IV0rvwhebN0b7UigElFu36c2L05vjJ7Z1e/y9r3G2oQU2AMP7\\\n",
       "dPXosSfC4X9+4d4S7j++6Ah/XTJSTM0x/POOI3jinc8M7xdhL6PnFaqf9Zw+fVr3/KHaGi7c28xF\\\n",
       "TSDbuwUz52/EDHfIEs8pKm/731Efd2yn+/aGMx0tY8Rj8ke5w1qva9TXvu25jiCn2P5Nbw5eeXm5\\\n",
       "O/y9N//SymGbR0WytLTUv/AXKZxXGFYMgBR10QhjXLySWGbd0B9dMlIMA5le42RnmwsA0NTqQlNr\\\n",
       "OyQAu4+c83js8D5dkWQDku02j/uu/14Pj2qjXoB68eNDSPr+FHQZO9XwNfxw+gJ87zevoPctxtU9\\\n",
       "oyE6M4tCzAa7hF1gEunmxdoK2ZBfePb3AzpCnrJBdMtF9xy7Q1vU4VC544fYA3j/O+4qofiq3VsY\\\n",
       "uHTbpb9a0ruE5j0w2ss4lCLxHBbGAEhRF6kwpgya0WpWzcpjeNw+ug/2lU3AvrIJhvPxtOEnLVn9\\\n",
       "nz8boLuSVwz3ZqUlo0tGCjJSOh733pcnPI4ve7fKcMXwHaUP4fIb7/S4vn4/m4PzfcfjfFMruo/8\\\n",
       "mW4I9DY/y0zza7PBLtyNtC1DhJcPH3NXsfpc5161e+sadWVLVABFg+gPH3MPATefc2c2UfnbtQZY\\\n",
       "2gso7wK8v8h9mwiIsLnDoFGFc9wD7vYz6V075gkGK5CKaiw+h4UxAFLURSqMKYPm0B/fgrsrXo34\\\n",
       "ymVWHsPDV3VLL/w8OLEAvbtk4JreDiTZgJ8OzfNo3Fz2bhXaJSDJ5j4+Ky0ZTa3uyqENwKRr8lTP\\\n",
       "/eLHh+Tj9QLUyH7dcOz/vo6ysjL5tn4/mwPXoIkA3PMJASD56ptVO4Zow5/29ZrZGs5ssOM2cyEi\\\n",
       "wouEjnYvIvQpK1va4ySow5qY37fxIXcDaUjur9uek4t6SO/iDpZGFc4RM9wNnRcedn8fzNCqeCwQ\\\n",
       "/ooqt5wLKy4CCQInkcaXWGhZEwvXkIiMWq4I963bi/e+PIFJ1+Rh+dQi+XZlyOvdJUNe4DHpmjzs\\\n",
       "PnJObvS85OeF8oIQ5fHbF45XPbd2AYm36xOT8x3Df6K76GTWDf1Rt/tvupPzfb1eiiEi8InFHSmZ\\\n",
       "QGsTkJwBTFzaEW7EYhDtIhFA0erl0jQE8VjA3EIM7XB0KFY3x0m7FyP8/GYFkGJQuIZJo1X1i7Vr\\\n",
       "SES+qlu7j5xDu+Q5x09bsRPDvf/5xQk0ONvQJSNFDn9C53T3MHCDsw1/3nFEnn/Y4GwDAGxfOB6f\\\n",
       "fXcW/R9+D/et2+txfaJ6d1Xxr1XhD3AHO3GO20f3MZycr329RhXQhF3QEWu8VdSU+wE78t3hDxLQ\\\n",
       "7lSHNjEUfGyn53nzR12qCnYBJv0BWHTS/VizFTJlxXHXGncYTe9qfmhV+fo4LJswWAEMAv+CCI9X\\\n",
       "Su9C/ZlTyO7eE3dXvBrty/GKFb3Yo9d/T3ubXrPn20f3kSuFqcl2NLW6PCpsRtu/XbvkA5xvakWX\\\n",
       "jBTsK5uAfgvfk0fnumSkwNnm3rc1LTkJAOQt6gDI5+ucniLfbtSKxqiPoVFFkJXCMFJW1UTAMlMV\\\n",
       "06v07VrjnvsnevmJQKestgHu75MzgbZLFcSBt6j7Axq1Zgn0WoUEqfop8fObFUCKMV9s3oiW5kak\\\n",
       "Z3WO+AKNQHBOX+zRm+9n1Npl95FzqtuXTy3CoWWT8MikwboVtuF9unrd/k1IVywUOd/UemmlsQvn\\\n",
       "m9z7r4rHzrqhvxwmlbdrX4NoWSN6HWoZVUDNVgpJwez8OL15fKIli7fH9rkOSMt2L+AQx217zj08\\\n",
       "7KwHjnyiX20T37ddqiC2NQJVb6tXyYpr2vhQx7m1odBXBU/v9es9hi1a4h4DIMWUzza8jeaLF5Ga\\\n",
       "kaGqqMXq6tlorSYmY2YWO4jWLsP7dNW9XwRGwF1FEwFs63+5e/CN7NdNDmp/3nFEXlDy4MQCAMAj\\\n",
       "kwYjybNrDFIutZIRlbzbR/fBkp8Xyo8VYVQ7ZFx3KTgC+iFOe71Gi0MStsVLKJltPaIMRd72yNU7\\\n",
       "f/M5d+D78DH3baIFjNSuDnV6Q7x516rPZ0vqCGbjHuhoGq0XCt+e4XvOoN7r17sOtmiJewyAFhSu\\\n",
       "MBWK8xoFKm+VtmiGQ87piz3K0GNU8TKaEyiIx4ngB0A1ZPvix4dUYUobtESwE21jRBZ0SRLON7Wi\\\n",
       "7N0q3Ldur8ecP73X8OLHhyChYyWytxDnK+CxxYsJ3ipkyqqXXihSPlZbIVPO5xPanO6vynl/gDrU\\\n",
       "icd9+Jg7cDWcAfIuLWSyp3Q0dRaVPm07GGW49NYr0Mzr93Ucq4JxhQHQgsI1bBmK8xoFKm+Vtm3r\\\n",
       "/oT6M6ewbd2fdM+pFxC9hcZYrTaS/7SBSAS7y7JSvVYAxePON7XCBnfD5+0Lx8uVPjF8q13Yoa3K\\\n",
       "7SubgG5ZaXKAm3RNnjzkK3YWefy9r70Oy4pq5aRr8jyqg1q+Ap4lW7z4G0q8LazwVfVSPlZ7rPj5\\\n",
       "2E73AgzAPedPhEJHPlB4q/urcqeOLZeCX6uzI3Cd2Oe+z9XWcZw4/6Et7v2FP3ysY74h0NGEOlQL\\\n",
       "OFgVjHvJ0b4AiryRk2+VFy7E8nm1CywMq2w2SfW1vLwczn+ewpWuZvma6s+cwrbKN7Ct8g1AsuEf\\\n",
       "B/4L5+svAIDHebX9Ail+KRdTAB3BrqauSbcCKPYUdra1wwb357NyhxAxbCuI78ViC1ENNLqG20f3\\\n",
       "wch+3fDix4dwtsGJplYXmltd8vw+5bUq5/t5q1Yqaa+PoA4lwfaTE4sozAQo7bHan0VrmLpjQP0J\\\n",
       "j+3ZZKJ8nJLWsQDjg0VAayOQkuH5fM6L7iFmoGP7OeXev6JSCPgOuf6+X/68PxR1XAUcBK4iCi+x\\\n",
       "Gji9UyekpmcarrRVBsV3tn+GJUuWAAB+UTQEN48ZKYfAlqYmNDdcwPZvDuOdvfsBAPfe/iu89Ke/\\\n",
       "GJ6PATCxGK3+FUSQA9yrd4UHJxZ4DVZGq3S1z6f8uvnrGjS3unB1bwf+2dCCBmebx+pgcR1Zacny\\\n",
       "uX2t7PW1YthyjFbGhvKcZp9D73EbH3KHNKMVtnrnFrflj1KvAhb3bXnMHRz739hxP6AOiKISaHRu\\\n",
       "X7fFOX5+MwAGJdF/gaIdhMTzi+Dmqy1MeXm5HP6EhbNnYdmKP8rne/zRxfjrjj2qY7xtsUXWIiqA\\\n",
       "gHHo8ydgadvGiKqi+Aq4A96DEwtUzwsAj7/3NZpbXfjpUM/m1YG0hKEQ0rZFMdsmRe84oxYwepRB\\\n",
       "DOgIj8oKn/JYEQTHL+6o7GV0BVI7+dcSRlx3elcgrVNCBMFE//w2g3MAyVC0W5yI+YDjpt7hc6Wt\\\n",
       "XvgDgCdWvoiKigoAwLb/+s4j/AHAkiVLGABJDlYPTiww3FMY6GjJsnhDlc/Gy2L+3pA8B3p3yUB6\\\n",
       "irsPYHpKkjyyB7iHps83tSIrLVkexhVzB7VDv77m8XGhR4iZaYsS6MIJEf6azrurcqJRs3g+7fcb\\\n",
       "H+oYnt323KV9gKFe9SsoVxsrW9WMX9wxdy9/FAAb0PBP73MkxWNt4By/BMIASIb8aXESzoUTvlba\\\n",
       "GoU/Yfbs2Rg8eDBmz55teAxDIJlpkaJsySJdeoy3c4jVxv9saMH2hePxyKRB6N0lA49MGoTHJhfK\\\n",
       "w8yiv6AytAUa5Cy50COczLRFCXTPWtH/T9SFlVW5jQ91rPxVBT6be+6gduGItgfhuAfcFbsMLzt+\\\n",
       "HNsJ1d7CRrS7mXCOX0LgIhAy5HXhhUYoFk4EOuTco0cPw/sKUYgqVOHAgQOqn/09D8U/X/P/hvfp\\\n",
       "ipq6JsOVwQDkliw2AI6MFN3Gy8qFHNqftYs0tA2plQJZ0MH5f2Hg78IGb3PoxPw7EbZaLkKeEJDR\\\n",
       "RX2b1O7OhcrApdxT+NhO9bDtE33d597yWMc2ccpAKoZxlYs7xj3QMfxs5vVpz0lxjRVACglv1UKz\\\n",
       "1cFAh5xLS0uxcuVKj9unYRpWYAVKUAIAKEEJVmAFpmGax7ErV65EaWmpX89L8UWErfe+PKFb6RPV\\\n",
       "uve+PCEP4WqHdEVV7rHJhbrDxHr9ALUNmpXnvCwrFQDkr6F6jWz0HEL+Vvf0KobiNhvUiy+azrn3\\\n",
       "9xVDs+K2jEu33bi4I+SJUGlUhbNpvmrp9SgEgAWHgYWH3d+zh5+lcBFIEDiJ1FzVzuzevnrnMnN+\\\n",
       "ccx/29PxxMoXAbgrfSuwQj6mDnVwwCH/PAdz5Eogw581+KoA/nnHEZS9WyVvy3ZNbwf2n6hT7fmr\\\n",
       "dz5vew4LyoUZAOTvRTuaJBtwaNkk1fnFvsSTrlEvAjHzGlkBjCK9FbqA+dW2yoUbensCGy3WMLMP\\\n",
       "sPZ8oh+hWJUkVgcHst9vnK0U5uc3A2BQEv0XyEz4qrhrKpobLiA9qzNKX10XUIjzdr8yPCr7DCqP\\\n",
       "Ux7TMni4PNevBCW4F/d6PN8qrEIlKgEw/MWLSAWbP+84gkUb1B9+STZgyc8LPZ5Xb7Wt8ja9HoTa\\\n",
       "7z/77qwq5ClfpwijNgB5l84ndjdhyIsDZlcGm3mcP+HOn/OJ4WQASMl070wy5BfArQFUAQN9vVGS\\\n",
       "6J/fZnAImAyZGpLVNGHWe4yvRRziMVtefcljmFgMLecVDMSWV1/yOPcXmzeipakJ6Z06YeTkW1Fa\\\n",
       "WopBgwYBACpRiTrUqc5Xhzo5/PXq6vAr/JkdyuZOIqEXqqFNo63hlMTWbdf0dq/c1Qt/gP4iDeUe\\\n",
       "w0ZbxSm/Xz61CIeWTZIrfMrHiF1D0lOSVK/d7Hth5rVSGJldGWzmcUbD0GZ23jAa+hWLOsRCkaQ0\\\n",
       "97xD7bZ0wVw3xTQGQDKkN69PG27GldyJ7O49Ma7kTsPHmHkem90OyeXyCHei4nei+iAklwuw2dDS\\\n",
       "3Cg//2cb3kZzwwWkpmdi6I9vQUVFhbzgowQlqmFfAHDAIc8JPHmuDg/P+Y3u69Jjdo5itNvnJKJQ\\\n",
       "tTbxFZ5e/PgQmlpdcGSk4OjZRjQ42wzPpbfaVrnHcCDXrHyMCIc/Hpyj2rbO7HmNXiuDYYQEujLY\\\n",
       "n8flj3L3AFTuL+ztfNrAOGKGe/7fgsPu+YbBBLhAXy9FDYeAgxBPJeRQNXU2O58vFNenN/zb0tyI\\\n",
       "5osX5edXPm7bf30nD//6Mwdw4exZ6HHmfyC5XLDZ7bjxrn/ze6g6kOMo8nwNn4r7xa4cQMf8P+1j\\\n",
       "/ZkDGOj1AIE3djYzH5GNoiPE284dvh7j7/BusOe0iHj6/A4XBsAgxNMvUKiCWyTDjbf5hHkFA3Gi\\\n",
       "+qB8X0VFhUefv2mYhumYLs/5E3MC12ItXsfrqmN/UTQEYwf0BQDVe8QwZ016O4Jo5/eJOXrBBClt\\\n",
       "GAtFqDTz2jiHMMJEULMl+d72TSwCMbMoQ7szSDjCXYKGxnj6/A4XBsAghPMXKNTBI5xBJphFHoFe\\\n",
       "o9HCDy1t3z9vfQD/7dafY1jPboZVyFBWPCnyvAUfM6FIecwz71fLFUKxlVsgYUr7vKGuzjHsxQhf\\\n",
       "e/eKgCWGaAH3vDzA3BZxAPBk30stZLq6h3QDvUZt0IuzxR1mMQByDmDMCvU8Ml8LMYLh61rNvpZt\\\n",
       "6/6E+jOnsG3dnwyP+WLzRlTcNRWNF+qQntUZIyffitOnTxseL8JejqOz6mc9OUOulYeaxVzAQOY0\\\n",
       "UmzyNv/PzHw5vTl/NgDnm1oDXpyiPOefdxxBg7MNXXQaTAeKfQH9oLflW6jOI+bH3brGc56ccl6e\\\n",
       "cveO8Yvde/YqG0d7I2m++vt6jBaUcHFHwmIAjFHxFDx8NYFuvFAH2GzIKxjo/USaFcV6xKKPNqcT\\\n",
       "zqYGAO6t4MrKygwfs3LlStScr8fC2bMMjykrK0N5eblHWA1ncKbI8rZ4QqzevSwrFdcu+QDXLvlA\\\n",
       "rp7pBagHJxagd5cM/HRoHrpkpKDB2Yb71u01XFxhZuGFdj/gUOC+wH4ws6I2HOdRBizloowRM/wL\\\n",
       "X2IRx42LfV+Hmf2NBS7uSFgcAg6CFUrIwQ4diyFUAB7DqNpzG83v017PtnV/QnPjRUCSVIs29PYE\\\n",
       "nvqD0ViweDGG/vgWvFJ6F/7+6Wd4Z+9+1TEi/IXi9VL0BTLsKYZek2yQG0Ere/kZNY/We6x2+FbZ\\\n",
       "YNrb0C6Ha6MsVHPdAj1PIAtFAr2OBB3W9YcVPr99YQAMghV+gYKZAyfCWltbC5KTUzFu6h2GDZyV\\\n",
       "5/b1nNoQqDxOGQKn/mA0hve6zGPFsHLHEGX4o8QgAlmXjBRkpSWbClRi0YezzYW2dhfaXBJ+OrRj\\\n",
       "Bw5vc/N87TCiDIhGPQWJTC8UMeJP8EzQhR3+sMLnty/J0b4Ail1fbN6IluZGea6dv8RwbXpWZ6Rm\\\n",
       "ZMjnFBU25c4eSka3i8dvefUlSC4XklPT0N7WiryCgfJ5fzH5VqCsDM5/nsLljWcBySafZ+iPb5ED\\\n",
       "6OUDh+D06dOq8MfqX2IQVbsGZ5uqEbM3t4/uc2kI1h3UJLh7+WnPqRxKVVbsvC3YUD6W4Y8MiUUg\\\n",
       "2i3kzFIO+foKdSNmWDb4UQdWAIOQ6H9BBLsCVgSqxgt1aHM6kZyWhvbWVkguV8DnFNdks9uRlpkp\\\n",
       "9wRsaWpSbUlnZgs5o3OnZ3V2z0OUbB5VS+XrYlCMbYH25PM23Ks8TvQK9LVil0O7FhXpKhuren5J\\\n",
       "9M9vM7gIhAz5WtzhbecMZUhKTk4FALS1tMjNlv2tKIrny8jOhs1uR8GYcfIuJCMn3+qxgER57WZX\\\n",
       "IYvHwCah+eJFNDdc0H0Md/qID3qrds0cv3xqkdfHiYUhAILakUOLO3QkmFAtKjGLizXITwyAZMjb\\\n",
       "Clh/Wr+Mm3oHsrv3xMDrfoDs7j0Nd9pQ0gZMcb7a//4WksuFE9UHVden3JJOW6HLKxgIm93usQr5\\\n",
       "veVP4dmpP8OfH56LV0rvAgDcXfEqxpXcifROneShb+21mNkijxKXWFn74MQCVQsXo/CmXYn75x1H\\\n",
       "VCuNBbZsSTBsn0IxjkPAQbByCdloGNTMSl4z5xbz/ETQMlr5q/d8IiyKxyrPpRx2fnbqz9z7C18i\\\n",
       "ho+1zAyFmx0u5/Bx7ApmqNafBs7iWEC9KjgUQ8Ucbk4QHM4NOyt/fgsJWQE8fPgwZsyYgX79+iEj\\\n",
       "IwP9+/dHWVkZWlpaVMd9+eWX+MEPfoD09HTk5+fjqaeeitIVR4eyauVvBcuoOijC14nqg/L94tzv\\\n",
       "LX/K8DlEg+eKGSXYtu5PqqFisZgEcIc0ZQVRPN/B7VvliqN2+Ndo2LlgzDjY7HbYky+thTLoP+ir\\\n",
       "J+MXmzeipakJ6Z06+Rza5vBx7NKrwJkdlvWn396sG/qjS0YKumSkYHifriEZ9hXX+cz71awiJgIz\\\n",
       "w8ehalxNlpWQAfDgwYNwuVxYtWoV9u/fj+eeew4vvfQSfve738nH1NfXY8KECejTpw92796Np59+\\\n",
       "GuXl5Xj55ZejeOWRpQwjgQQTvdCoF5bEuas/3ebxHOIc2yrfQHPDBTRfvIi2thbVUPHIybfCZrcD\\\n",
       "koTUjAxV6FQO64qQpwynYvi3YMw4j7A66b7fYt66/8D3Rl0Hm92OvkOH6b5OX82gRUBNTc/0WdWL\\\n",
       "pwbfVqM3VFv2bpWpQOXPfMPbR/fBvrIJ2Fc2AbuPnJPPH8wQsL/zEinGmRk+9meOIcMi6UjINjDF\\\n",
       "xcUoLi6Wf77yyitRXV2NF198Ec888wwA4C9/+QtaWlrw6quvIjU1FUOGDMG+ffvw7LPP4p577onW\\\n",
       "pUeUtt2KUesVI8rQ6C34iOdRDtNqz+FeeWsDJAltLS2qIdKhP74F/3OgCgc/+X9ovFCH95Y/JZ/n\\\n",
       "2893yufSDguPnHwrTlQflOcMGjFzjKA3hOutbY2WshUNxZbbR/dRBbgXPz6EdglIsiFsgUrbXkbb\\\n",
       "aiaQ83DoNwYEO4Rrpk2LaBtjZo6hPy1iyDIsMwdw0aJF2LRpEz7//HMAwJ133on6+nps2LBBPuaj\\\n",
       "jz7C+PHjcfbsWXTt2tXjHE6nE06nU/65vr4e+fn5lp1DoBeGjObCeZszuK3yDUCyoe+1Raj+dBsk\\\n",
       "l0vuHShClZjHB7grfZLLJQdG9402zK/8T49rMNMCxp95ecG2xqH4Ear5dJyXZ0GxttMG5xR64BzA\\\n",
       "BB0C1vr222+xYsUK3HvvvfJtNTU1yMnJUR0nfq6pqdE9z7Jly+BwOOR/+fn54bvoOKA3NGq0QnbL\\\n",
       "qy/J1ULl0PHQH9+C1PRMNDdcQPWn21AwZpzciqX+zClsefUleU4gbDakd+okz92D4m+Xgdf9wPAa\\\n",
       "WpobsW3dnwznNxoN8Zod4qbE5G8bGSNc3WtB0VwBrDfcyxYxpCOuAuDChQths9m8/jt4UD2Md/z4\\\n",
       "cRQXF+O2227D3XffHdTzP/zww6irq5P/HTt2LKjzxTu9gKQXpsRCDNhsaGlqwrbKN1RzAcUcPzEM\\\n",
       "e3fFq/J8PPfj3Nu93TRjFkrXVGLSfb/FjXf9G5LT0gAAyWlpuHxQoe41bKt8Q+7pt63yDb9en968\\\n",
       "SF/zAYm0/FkgQgkimoHL29xAzgUkhbgKgPPnz8eBAwe8/rvyyivl40+cOIEf/ehHuO666zwWd+Tm\\\n",
       "5qK2tlZ1m/g5NzdX9/nT0tKQnZ2t+mdl/jZYTs/Kcq/mlWzI7t4TeQUD8UrpXfifA1VISkkBbDZ5\\\n",
       "UYeYj2ez2zGu5E6P0DX0x7cgs7MDANDmdBpfg2TT/94E9vtLPNFothyqSiKRKeMeADK6As6LnkEv\\\n",
       "0s2pKabFVQDs0aMHBg4c6PVfaqp714njx4/jhhtuwPDhw/Haa6/Bble/1DFjxmDr1q1obW2Vb9u8\\\n",
       "eTMKCgp05/+RJxGQRJDzNcQqN2ueegfurngVJ6oPyquD25xOQJLk4Ddy8q1Iz+qMpJQUw+HbkZNv\\\n",
       "RXJqmio4AlC1nYFNQnJqGtI7dcK4qXf49fqMqpls4xK/QjEcyx07KKaNmAGkdgKaz3kGPTanJoW4\\\n",
       "CoBmifB3xRVX4JlnnsHp06dRU1Ojmtv3q1/9CqmpqZgxYwb279+Pt956Cy+88ALmzZsXxSuPDWaq\\\n",
       "XMqFE4f37UX9mVNyUDN6rDZQiQBZMGacaucNcWxqRgbanE40N1zAx2+swbNTf+YOdYrzZWY7VMER\\\n",
       "ULedab54EcmpKUhNzwzJe8M5gPEtFMOxnNNHMc8o6HEuICkk5CrgtWvX4te//rXufcqX++WXX6K0\\\n",
       "tBS7du1C9+7dMWfOHCxYsMD08yTqKiJ/d75oaW5E88WLSO/UCanpmX6vktWuwlXu7vFfOz+Bq61N\\\n",
       "PtZmt2Peuv8wfKzyNtF2pqWpCc0NF+Tr4y4cFAyu6iWKf4n6+e2PhAyAkZKov0Bm2qIojwEgB65v\\\n",
       "P9+JNqcTyalpuOHOGbrbxGnPq23bIlq+2Ox2d2BXtHoZeN0PMOm+3/p1zeI+EQRD0cKFW7oREcWv\\\n",
       "RP389gcDYBD4C6QmgpygDVoVd011V+I0e+4qw5QYvhWS09Lc8wMV59MLn40X6tDmdBru5wsA7y1/\\\n",
       "Sm41oxciA3mt7AdIRBR/+PmdoDuBUHTkFQxE/T9Pw56UhNS0DM95cmKvXc2eu9rdMbZVvoG2llYk\\\n",
       "p6ZgXMmdAOAR+ESPwLSMSyuLbTbVufUqdP7s+GF0DuXwMgDOBSQioriUkItAyD+ham1yovogIEno\\\n",
       "1KUbSl9d5zE0Kq8CvhTq9IjG0G0tTsO9dZV9A0WPwIHX/UB1br3Vuv4u4NA7h7hN9Cvk8C8REcUj\\\n",
       "VgDJ9J6+voycfCu2rfsTWpob5V0+lMzsg/vF5o1oaW5UrQjWXp84h7c5eHr78/q7D6/eOfzZ95es\\\n",
       "iYtEiCgesAJIIWttIlq3NF+8aNgnz1e18bMNb6P54kWkZmSo2sWkd+qElqYm+XG+tm8DEHSFTu85\\\n",
       "xG0A2BCadLFNDBHFAwZACmh7M6Mg52v3DLENnNG2bHqPV+4XrN1L2J/zG12zt/MZHceG0GSEW78R\\\n",
       "UTxgAKSAGAUgn7tniO3YNNuyaSt3gLrCpgyGykUgHmHM4Pzerll7u5nj2BCajHDrNyKKBwyAFBB/\\\n",
       "ApDy2HFT75C3g/NWUdP+PPTHt8jhL69goLwIRMw5TE5NQ0tzI/peWySf3+w1a283c5yZqin3DSYi\\\n",
       "oljFPoBBYB+h4GgbQOvtBqJc5KF3vNiFRATCWOrLx16BRESxiZ/fDIBB4S+QPjO7cihX+JrdTcPM\\\n",
       "tm+BnDdcuFsIEVFs4uc3A2BQ+Aukz1vly+i+UIYlVt6IiMgbfn5zDiCFgbf5gWL+nthJQwjlqlrx\\\n",
       "/HkFAwOeg8f5e0RElMgYACnkvC2QMNqOTRsagwlg4vkPf7HHa8sZb/QCKUMhERElCgZAiiij6qA2\\\n",
       "NIakIuilJUwg18nef0RElCgYACmizDad9tVmRq8ap71N2XImFNfJ3n9ERJQouAgkCJxEGlr+LATR\\\n",
       "W+jBxR9ERGQGP79ZAaQghXJenNkh1i82b0TjhTrAZlMtJmGFjoiIyBwGQAsLRXgLZl6c9vnNBrjP\\\n",
       "NryNNqcTkCTVYpJA9jQmIiKyIgZACwvFooZgqm56272ZnR+Y3qkT0rM6q56Xq3SJiIjMYQC0sFAM\\\n",
       "mQZTdQvm+VPTMzFu6h2q5+UqXSIiInO4CCQInEQaHZHYTYSIiBIXP79ZAaQo0w7bmmnvYraXIBER\\\n",
       "EeljAKSAhWMRid4wbqBzBYmIiEgfAyAFLByLSPSqe2zvQkREFFqcAxgEq88h4Jw7IiKKR1b//AYY\\\n",
       "AIPCXyAiIqL4w89vDgFTgmAPQCIiIvMYACkhsAcgERGReQyAlBC4UISIiMg8zgEMAucQEBERxR9+\\\n",
       "frMCSERERGQ5DIBEREREFsMASERERGQxDIBEREREFsMASERERGQxDIBEREREFsMASERERGQxDIBE\\\n",
       "REREFsMASERERGQxDIBEREREFsMASERERGQxDIBEREREFsMASERERGQxydG+gHgmSRIAoL6+PspX\\\n",
       "QkRERGaJz23xOW5FDIBBuHDhAgAgPz8/yldCRERE/rpw4QIcDke0LyMqbJKV42+QXC4XTpw4gc6d\\\n",
       "O8Nms0X7cmJafX098vPzcezYMWRnZ0f7cuIK37vA8H0LDN+3wPG9C0w03jdJknDhwgXk5eXBbrfm\\\n",
       "bDhWAINgt9tx+eWXR/sy4kp2djb/wxggvneB4fsWGL5vgeN7F5hIv29WrfwJ1oy9RERERBbGAEhE\\\n",
       "RERkMQyAFBFpaWkoKytDWlpatC8l7vC9Cwzft8DwfQsc37vA8H2LDi4CISIiIrIYVgCJiIiILIYB\\\n",
       "kIiIiMhiGACJiIiILIYBkIiIiMhiGAAp7B5//HFcd911yMzMRJcuXXSPOXr0KCZNmoTMzEz07NkT\\\n",
       "Dz30ENra2iJ7oTGooqICffv2RXp6OkaNGoXPPvss2pcUc7Zu3Yqf/vSnyMvLg81mw4YNG1T3S5KE\\\n",
       "Rx99FL169UJGRgZuuukmfPPNN9G52BiybNkyjBgxAp07d0bPnj0xefJkVFdXq45pbm5GaWkpLrvs\\\n",
       "MnTq1Am//OUvUVtbG6Urjg0vvvgirrnmGrlp8ZgxY/D3v/9dvp/vmTlPPPEEbDYb5s6dK9/G9y6y\\\n",
       "GAAp7FpaWnDbbbdh1qxZuve3t7dj0qRJaGlpwSeffILXX38da9euxaOPPhrhK40tb731FubNm4ey\\\n",
       "sjLs2bMHQ4cOxcSJE3Hq1KloX1pMaWhowNChQ1FRUaF7/1NPPYXly5fjpZdews6dO5GVlYWJEyei\\\n",
       "ubk5wlcaW/7xj3+gtLQUO3bswObNm9Ha2ooJEyagoaFBPuaBBx7Af/7nf+Kvf/0r/vGPf+DEiRP4\\\n",
       "l3/5lyhedfRdfvnleOKJJ7B79258/vnnGD9+PH7+859j//79APiembFr1y6sWrUK11xzjep2vncR\\\n",
       "JhFFyGuvvSY5HA6P2zdu3CjZ7XappqZGvu3FF1+UsrOzJafTGcErjC0jR46USktL5Z/b29ulvLw8\\\n",
       "admyZVG8qtgGQHrnnXfkn10ul5Sbmys9/fTT8m3nz5+X0tLSpHXr1kXhCmPXqVOnJADSP/7xD0mS\\\n",
       "3O9TSkqK9Ne//lU+5sCBAxIA6dNPP43WZcakrl27SqtXr+Z7ZsKFCxekAQMGSJs3b5Z++MMfSvff\\\n",
       "f78kSfx9iwZWACnqPv30U1x99dXIycmRb5s4cSLq6+vlv6qtpqWlBbt378ZNN90k32a323HTTTfh\\\n",
       "008/jeKVxZfvvvsONTU1qvfR4XBg1KhRfB816urqAADdunUDAOzevRutra2q927gwIG44oor+N5d\\\n",
       "0t7ejsrKSjQ0NGDMmDF8z0woLS3FpEmTVO8RwN+3aEiO9gUQ1dTUqMIfAPnnmpqaaFxS1J05cwbt\\\n",
       "7e2678vBgwejdFXxR/z+6L2PVv3d0uNyuTB37lyMHTsWhYWFANzvXWpqqse8Xb53wFdffYUxY8ag\\\n",
       "ubkZnTp1wjvvvIPBgwdj3759fM+8qKysxJ49e7Br1y6P+/j7FnmsAFJAFi5cCJvN5vUfgwpRfCgt\\\n",
       "LUVVVRUqKyujfSlxoaCgAPv27cPOnTsxa9YsTJs2DV9//XW0LyumHTt2DPfffz/+8pe/ID09PdqX\\\n",
       "Q2AFkAI0f/58TJ8+3esxV155palz5ebmeqxuFSu/cnNzA7q+eNe9e3ckJSV5rICrra217HsSCPFe\\\n",
       "1dbWolevXvLttbW1uPbaa6N0VbFl9uzZ+Nvf/oatW7fi8ssvl2/Pzc1FS0sLzp8/r6rK8HcQSE1N\\\n",
       "xVVXXQUAGD58OHbt2oUXXngB/+t//S++ZwZ2796NU6dOYdiwYfJt7e3t2Lp1K1auXIn333+f712E\\\n",
       "sQJIAenRowcGDhzo9V9qaqqpc40ZMwZfffWVanXr5s2bkZ2djcGDB4frJcS01NRUDB8+HFu2bJFv\\\n",
       "c7lc2LJlC8aMGRPFK4sv/fr1Q25urup9rK+vx86dOy3/PkqShNmzZ+Odd97Bhx9+iH79+qnuHz58\\\n",
       "OFJSUlTvXXV1NY4ePWr5907L5XLB6XTyPfPixhtvxFdffYV9+/bJ/77//e/jX//1X+Xv+d5FFiuA\\\n",
       "FHZHjx7F2bNncfToUbS3t2Pfvn0AgKuuugqdOnXChAkTMHjwYNxxxx146qmnUFNTg0WLFqG0tBRp\\\n",
       "aWnRvfgomjdvHqZNm4bvf//7GDlyJJ5//nk0NDTg17/+dbQvLaZcvHgR3377rfzzd999h3379qFb\\\n",
       "t2644oorMHfuXCxduhQDBgxAv379sHjxYuTl5WHy5MnRu+gYUFpaijfffBPvvvsuOnfuLM+zcjgc\\\n",
       "yMjIgMPhwIwZMzBv3jx069YN2dnZmDNnDsaMGYPRo0dH+eqj5+GHH8bNN9+MK664AhcuXMCbb76J\\\n",
       "jz/+GO+//z7fMy86d+4szy8VsrKycNlll8m3872LsGgvQ6bEN23aNAmAx7+PPvpIPubw4cPSzTff\\\n",
       "LGVkZEjdu3eX5s+fL7W2tkbvomPEihUrpCuuuEJKTU2VRo4cKe3YsSPalxRzPvroI93fr2nTpkmS\\\n",
       "5G4Fs3jxYiknJ0dKS0uTbrzxRqm6ujq6Fx0D9N4zANJrr70mH9PU1CT95je/kbp27SplZmZKv/jF\\\n",
       "L6STJ09G76JjwF133SX16dNHSk1NlXr06CHdeOON0gcffCDfz/fMPGUbGEniexdpNkmSpMjHTiIi\\\n",
       "IiKKFs4BJCIiIrIYBkAiIiIii2EAJCIiIrIYBkAiIiIii2EAJCIiIrIYBkAiIiIii2EAJCIiIrIY\\\n",
       "BkAiIiIii2EAJCIiIrIYBkAiIiIii2EAJCIiIrIYBkAiIiIii2EAJCIiIrIYBkAiIiIii2EAJCIi\\\n",
       "IrIYBkAiIiIii2EAJCIiIrIYBkAiIiIii2EAJCIiIrIYBkAiIiIii2EAJCIiIrIYBkAiIiIii2EA\\\n",
       "JCIiIrIYBkAiIiIii2EAJCIiIrIYBkAiIiIii2EAJCIiIrIYBkAiIiIii2EAJCIiIrIYBkAiIiIi\\\n",
       "i2EAJCIiIrKY/w9PQkv3Vx7pcgAAAABJRU5ErkJggg==\\\n",
       "\"\n",
       "  frames[1] = \"data:image/png;base64,iVBORw0KGgoAAAANSUhEUgAAAoAAAAHgCAYAAAA10dzkAAAAOXRFWHRTb2Z0d2FyZQBNYXRwbG90\\\n",
       "bGliIHZlcnNpb24zLjcuMiwgaHR0cHM6Ly9tYXRwbG90bGliLm9yZy8pXeV/AAAACXBIWXMAAA9h\\\n",
       "AAAPYQGoP6dpAABCV0lEQVR4nO3de3xU9b3v//dM7lwygARCuInoDsRYRaoSYfOzygYs7S6tl8b9\\\n",
       "q0K9cWxii9putVWBoxZru9VKchRFi7Zb4+Vs6aPVUjl4YWMBLZdqJGSLR4RNSIACEwi5zqzzx7AW\\\n",
       "M5OZZJLJzGRmvZ595JHMrDVrvkzTrnc+35vDMAxDAAAAsA1nohsAAACA+CIAAgAA2AwBEAAAwGYI\\\n",
       "gAAAADZDAAQAALAZAiAAAIDNEAABAABshgAIAABgMwRAAAAAmyEAAgAA2AwBEAAAwGYIgAAAADZD\\\n",
       "AAQAALAZAiAAAIDNEAABAABshgAIAABgMwRAAAAAmyEAAgAA2AwBEAAAwGYIgAAAADZDAAQAALAZ\\\n",
       "AiAAAIDNEAABAABshgAIAABgMwRAAAAAmyEAAgAA2AwBEAAAwGYIgAAAADZDAAQAALAZAiAAAIDN\\\n",
       "EAABAABshgAIAABgMwRAAAAAmyEAAgAA2AwBEAAAwGYIgAAAADZDAAQAALAZAiAAAIDNEAABAABs\\\n",
       "hgAIAABgMwRAAAAAmyEAAgAA2AwBEAAAwGYIgAAAADZDAAQAALAZAiAAAIDNEAABAABshgAIAABg\\\n",
       "MwRAAAAAmyEAAgAA2AwBEAAAwGYIgAAAADZDAAQAALAZAiAAAIDNEAABAABshgAIAABgM+mJbkAy\\\n",
       "83q9qqur0+DBg+VwOBLdHAAAEAHDMHT8+HEVFBTI6bRnLYwAGIW6ujqNHTs20c0AAAC9sG/fPo0Z\\\n",
       "MybRzUgIAmAUBg8eLMn3C5Sbm5vg1gAAgEg0NjZq7Nix1n3cjgiAUTC7fXNzcwmAAAAkGTsP37Jn\\\n",
       "xzcAAICNEQABAABshgAIAABgMwRAAAAAmyEAAilg6dKlqqys7PKcyspKLV26ND4NAgD0a8wCBpLc\\\n",
       "0qVLtWzZMutxWVlZp3MqKytVXl4e8BoAgH1RAQSSWHD4Ky8v71QJDA5/y5YtIwACgM0RAIEkFRz+\\\n",
       "TP4hMDj8mQiBAGBvDsMwjEQ3Ilk1NjbK5XLJ7XazEDTiKlz48zd58mTV1NR0ec6SJUsIggBsh/s3\\\n",
       "FUAgKeXl5YU9VqxiSbLCn/m4p9cBAKQuAiCQhMrKylRRUdHp+QVaoBVaoVKVSpJKVaoVWqEFWtDp\\\n",
       "3IqKipATRgAAqY8u4ChQQkai+Y/xK1axVmiFdcwtt1xyWY9v1+2qVrUkwh8Ae+P+TQUQSGr+lcBq\\\n",
       "VWulVlrH/MPfSq0k/AEALFQAo8BfEIhE9Yb92rZ2jy6ce6aKZ46OyXsUFRVZY/7WaE1A+HPLrfma\\\n",
       "L8k3MWTnzp0xaQMAJAvu31QAgZjbtnaPjh9p1ba1e1S9Yb9e/OkHqt6wv8+uX1lZaYW/UpUGhD/J\\\n",
       "Vwk0xwTW1NR0u2MIEIlXa1/V7Ndn69XaVxPdFAC9QAAEYuzCuWdq8LAsXTj3zIAw2BeCxwAu0iLr\\\n",
       "mFtu6+dFWmTNBg61WDTQU6s+WaUDTQe06pNVPXod2xYC/QNbwQExFKr713wcbddw8CLP1arWaq3W\\\n",
       "Qi3USq1UlapUqlIt0iKt1mprDKAk63WMBURv3XzezVr1ySrdfN7NEb+GbQuB/oMxgFFgDAG68+JP\\\n",
       "P9DxI60aPCxLN/x8erfHqjfs1+Y1n0uSps2fGDYYhtvhQ/JVAv3DXvBjf0wIQbyEWrw8+Pcv1O81\\\n",
       "i5UjFrh/0wUMxJR/928kx7at3aPWkx1qPdmhzWs+Dxgv6D9+8NChQ2Hf0wx7kydPDngcSlfXAaS+\\\n",
       "GevHtoVA/0MABGKoeOZo3fDz6SErecUzRyt/4hBtqKrV2899KknKnzjEOu5p9waMF/QfP7h06VIt\\\n",
       "WbIk7PtWVFRo586dIReLNlFZQSR6O9bP1N22heXl5SoqKgpb0ZYIgUAspGwAXL58uS666CINHjxY\\\n",
       "I0aM0Pz581VbWxtwTktLi8rKynTGGWdo0KBBuuqqq9TQ0JCgFiNV9GSm7+6tDTK8vu/VG/Zr99bT\\\n",
       "v38dHV5lDUi3KoTBFcNwIdC/Wy3cjiGEP0Tq5vNu1qiBo3o01s8f2xYC/VPKBsD3339fZWVl2rx5\\\n",
       "s9atW6f29nbNnj1bTU1N1jl33HGH/vCHP+i1117T+++/r7q6On3nO99JYKuRCiKd6Vu9Yb/S0p2S\\\n",
       "Qxo+drDef7lWhtfvBEPKzE6TJK26c4M+eO0ztbV4VPfZMStgBofA4DFV1Rv2a/D+C/TTxQ9ZzxH+\\\n",
       "0BPXFl6rt69+W9cWXtvleeG6itm2EOifbDMJ5NChQxoxYoTef/99zZw5U263W3l5eXrppZd09dVX\\\n",
       "S5J27dqlyZMna9OmTZo2bVq312QQKULpbnavOdGj9WSHJMnpdMjr7fw/w/QMp9IyfH+jmedKkhyS\\\n",
       "DMnhlGaWFkqS7v/Z/Sr66kQ9/PjPAq7hP9Hk+OgdOnToEOEPMTH79dk60HRAowaO0ttXv93pONsW\\\n",
       "oj/h/m2jZWDcbt+aaMOGDZMkbd26Ve3t7Zo1a5Z1zqRJkzRu3LiwAbC1tVWtra3W48bGxhi3Gsmo\\\n",
       "eOboLpd1MSd6mEKFP0nqaPeqo90rZ5pD6RlOdbT7yoPp6U55PF4ZXmnzms/V1tKhWed+T4NzsgJe\\\n",
       "X71hv9paPFY3cvHM6aHeBugT3S0LY4a48vJya9tCc91Kti0E4i9lu4D9eb1eLV68WNOnT1dxsW+M\\\n",
       "SX19vTIzMzVkyJCAc0eOHKn6+vqQ11m+fLlcLpf1NXbs2Fg3HSmmesN+NR9v79FrvB7DCn8OpzT9\\\n",
       "mnM0s7RQg4f5Ap/h9T1vjg00xyCaVcbM7LSYbUGH0+y+M0YkXcVlZWXW7PQqVQUsVi75KoFVqpLk\\\n",
       "m8VO+ANixxYBsKysTNXV1aqqqorqOvfee6/cbrf1tW/fvj5qIZJVT7d2++C1z6ww1xuZ2b6ivTmD\\\n",
       "uLW5Q+kZTp09daS11Zw5BlGSNWkkFlvQIVC0s2XtgG0Lgf4j5QNgeXm5/vjHP+rdd9/VmDFjrOfz\\\n",
       "8/PV1tamY8eOBZzf0NCg/Pz8kNfKyspSbm5uwBfsLdSEj3Bh69XlH0UV/iTfWMD3X649PWPYkDwe\\\n",
       "r+o/P2a1w5wtPG3+RGsJmr7egg6dRTtbtj8LV93sSdWTbQuB/iVlA6BhGCovL9cbb7yhd955RxMm\\\n",
       "TAg4PnXqVGVkZGj9+vXWc7W1tdq7d69KSkri3VwkqXCLOR8/0tppIedDXx7vmzc1fO9x9tSRcjil\\\n",
       "s6eODGhHqLUHu1qQGn0j0tmyycisbv56268DAl9w1TNcIAy3baHkG/M3X/O1UislKeS2hYRAoO+l\\\n",
       "7CzgH/zgB3rppZf0+9//XoWFhdbzLpdLOTk5kqTbbrtNb731llavXq3c3FzdfvvtkqS//OUvEb0H\\\n",
       "s4gQijXLt7lDMqSsAenKzE6zumWj4pCyctI17twzVP/5MeVPHKL6z49FvJ9wtPsPw55erX1Vqz5Z\\\n",
       "pZPtJ+Vucys3M1cDMwZqyogp2n5wu24+72ZdW3htyJnAbFuI/oj7dwpXAJ966im53W5ddtllGjVq\\\n",
       "lPX1yiuvWOc8/vjj+sY3vqGrrrpKM2fOVH5+vv7jP/4jga1GsvLv9i2eOdq3ft+ppVrMHT36wv93\\\n",
       "XaFufmym1eX72UcNPerapSsYvWFWN3944Q81auAoNXc060DTAb2z9x2r6vlq7as62nJUDjk0ZcQU\\\n",
       "67VsWwj0TylbAYwH/oKAyVxvz6z2+Vfm/Nf8k6T0TN/fXR1tPR8P6N+Nu6Gq1poBPLO0kAogesSs\\\n",
       "6pnVu+7O86/2PbT5IRny3TpyM3PlkEOGDDW2+ZbGCl4LsKvt4MzKXleVQhYvR1/j/k0AjAq/QDCZ\\\n",
       "waqtxaPWkx0aPCxLN/x8esAxQ9KJI61hF36WpHMuGqkvdhwKOVnEmeaQ12NY1ybMIRrdLdwcfJ7T\\\n",
       "4ZTX8GrUwFGaMmKK/vTFn6wQKEmuTJcMGXLIoemjpwd0DUuhQ2Bwt26oEEj4Qyxw/07hLmAgnsyJ\\\n",
       "F9PmTww72eLEqW5gr9fw7eZxyjkXjbTW9Kv//JgmXJAnOWQtAG2em5GVpqwB6Wpr8VhdzWbIZIkX\\\n",
       "9FSks5ZvPu9m5WbmKtOZqey0bB1tOaqN+zcqNzPwpjl99HR9cN0H2njdRm0/uL3TkjjdbVsodd42\\\n",
       "jvAHxI5tdgIB4iF4F5DqDfutrlpTeoZT0685R5vXfC5JKjhniArOGWJV87at3SMZvgWgvR7D6lb2\\\n",
       "707evOZz6338x/VRCUSkri28NqIZy9cWXqtVn6yyunclqcXTIsep/5hVwO0Ht1vHp4yYooY9DQFj\\\n",
       "ASVZYS4vLy/shA7zebYtBGKLCiAQQ9vW7rHG6ZmVvunXnGMFNf8wZ4a//IlD5PD7X+a4c8+wjnlC\\\n",
       "dA2zxAti7ebzbpbTEXi7ME79R5Ky07I1ZcQUawmY7Qe3y2t4A0KhuURM0XVF3c7mLSsrI/wBMcYY\\\n",
       "wCgwhgD+Qo3J6+q55uPt6mj3KmtAuqbNn2hVCs0w5/9YUsAkE8b9IVbCTQ4JXgrGn9Ph1KCMQWps\\\n",
       "a7S6lYOvEemYQyAeuH/TBQz0meAlVszgZ47TM5nduOkZTivs+VcK/cPd5jWfq63Fo3HnniEp8vX+\\\n",
       "gN4yF3d+ctuTnULc0ZajavG0dHqN1/Cqsa1RrkxXwPnmGMBrC68NCIUAEo8KYBT4CwL+/Kt9Zhj0\\\n",
       "nw1snvP+y7XWAtE3Pzaz02v9A565vEzwdaJtHyES4dy94W6t3bNWmc5MK+yde8a5qjlSI6/R9dJF\\\n",
       "6Y50bb9hu16tfdVaKsaV6dLG6zbGo+lAxLh/UwEE+kzwBBAzbEmBy8TIkDWz15zNG/xa81hbi0dZ\\\n",
       "A9L7ZHwfk0UQCXP8Xmba6QD46d8/jei1HUaH1VVsjg9s9bRq9uuzrcpgpOsPAogtJoEAMRC8H+/m\\\n",
       "NZ/r+JFWq+s3KyddrSc7utyRY9vaPWo92aG2lo6w5/QEk0UQCXN5mBmjZwQ8n52WHdHrn9z2pG4+\\\n",
       "72br/BZPiw40HdCDmx/U3Rvu1q+3/draVxhA4hAAgTjzeLxdrhdounDumZJDMryyloyJRnAoBUIx\\\n",
       "t33zn8ErSW3etohe725za9Unq0KOFVy7Z60cp8rfDv/FMAHEHQEQiAPfJA6fs6eOjCiMFc8crawc\\\n",
       "RmkgMcxK4NcnfF2jBo7S3DPnRlwFPNB0wPrZIYfOPeNcOR1OzT1zrrWf8A8v/GGsmg4gAtxdgDio\\\n",
       "//yYJN+SLrNvOjfi102bPzFgLCEQL+EWij7vhfN6dJ37pt3X6TqM/QMSjwogEEPVG/brxZ9+oPyJ\\\n",
       "Qzp1+ZrHutrCjW5bJJK5ePOrta9aj3vC6XDq4S0P6+4Nd8eieQCiwDIwUWAaObrivw1cqGVcerLE\\\n",
       "y9vPfardWxt09tSRPaogAtGY8fIMudvcARM6esMhhz5e8HFfNg2ICvdvKoBAzAQv7hysJ7Nyd29t\\\n",
       "kOH1fQfixX8pl56EP6fDqdzMXKU7fKOM0hxpAZVEAIlHAARixAx4M0sLQ3bh9qR79+ypI+Vw+r4D\\\n",
       "fSW4izfYjNEz5HQ4VXRGUcQTQCTfziAzRs/QwIyBviDoTLd2F4m2TQD6Bl3AUaCEDCCZdbc/r9kF\\\n",
       "7Mp06YcX/lC//OiXavG0KN2RrnRnulo9rVaV8OsTvi5JeuuLtyT5un0NGRo1cJSa2pvU2Nao3Mxc\\\n",
       "fXDdB10uBs2ewYgH7t9UAAHAtsylXsLtz2uGO0NGwNp+HUaH2rxtunLClRo1cJTun3a/fjHzF/rF\\\n",
       "zF8oN9N3M81Ky7Ku/aMLf6RRA0fpRxf+SNLp/YbNvYJ70iYAfYMKYBT4CwJAKvOv1EmyKoCmUFW6\\\n",
       "SLZ6Yzs4JBr3byqAQNKIZNkYoC+Y4/Ak6e2r37bWBByaPVSS5Mp0KTczVyfbTwYsETP79dna2rC1\\\n",
       "2+ubu40Q/oDEIQACSWLb2j06fqS1y/2DgWi9WvuqHt7ysDVpw5yQ8WrtqzraclQOOTRm8BidaD9h\\\n",
       "bfsmne7WXbtnbdjuXQD9BwEQSBI9WTYG6K1Vn6yS1/DK6XDKkGGFOXMMoCFDNUdqrHPM7mFz7N7c\\\n",
       "M+cyhg9IAowBjAJjCACkmuBxf/4/P7ntSRkyNGP0DG0/uF1TRkzR9oPbGcuHpMP9m72AAQBhBO8H\\\n",
       "HG7JllWfrOrTAMgkESD26AIGgBTXk8WVu1qiJVislmzpSRsA9A4BEABSXKxCXaxm87IWIBB7jAGM\\\n",
       "AmMIACQDulSBQNy/CYBR4RcIAIDkw/2bLmAASGo9Gd/Xn64NILEIgACQxGI5YYLJGEDqIgACQBKL\\\n",
       "5YQJJmMAqYsxgFFgDAEAAMmH+zcVQAAAANshAAIAANgMARAAAMBmCIBADFRv2K8Xf/qBqjfsT3RT\\\n",
       "AADohAAIxMC2tXt0/Eirtq3dk+imAADQCQEQiIEL556pwcOydOHcMxPdFAAAOklPdAOAVFQ8c7SK\\\n",
       "Z45OdDMAAAiJCiAAAIDNEAABAABshgAIAABgMwRAAAAAmyEAAgAA2AwBEAAAwGYIgAAAADZDAAQA\\\n",
       "ALAZAiAAAIDNEAABAABshgAIAABgMwRAAAAAmyEAAgAA2AwBEAAAwGYIgAAAADZDAAQAALAZAiAA\\\n",
       "AIDNEAABAABshgAIAABgMwRAAAAAmyEAAgAA2AwBEAAAwGYIgAAAADZDAAQAALAZAiAAAIDNEAAB\\\n",
       "AABshgAIAABgMwRAAAAAm0nZALhhwwZ985vfVEFBgRwOh9asWRNw3DAMPfDAAxo1apRycnI0a9Ys\\\n",
       "ffbZZ4lpLAAAQBylbABsamrS+eefr8rKypDHH330UT355JN6+umntWXLFg0cOFBz5sxRS0tLnFsK\\\n",
       "AAAQX+mJbkCsXHnllbryyitDHjMMQ0888YTuu+8+fetb35Ikvfjiixo5cqTWrFmj0tLSeDYVAAAg\\\n",
       "rlK2AtiVL774QvX19Zo1a5b1nMvl0iWXXKJNmzaFfV1ra6saGxsDvgAAAJKNLQNgfX29JGnkyJEB\\\n",
       "z48cOdI6Fsry5cvlcrmsr7Fjx8a0nQAAALFgywDYW/fee6/cbrf1tW/fvkQ3CQAAoMdsGQDz8/Ml\\\n",
       "SQ0NDQHPNzQ0WMdCycrKUm5ubsAXAABAsrFlAJwwYYLy8/O1fv1667nGxkZt2bJFJSUlCWwZAABA\\\n",
       "7KXsLOATJ05o9+7d1uMvvvhCO3bs0LBhwzRu3DgtXrxYDz30kM455xxNmDBB999/vwoKCjR//vzE\\\n",
       "NRoAACAOUjYA/vWvf9XXvvY16/Gdd94pSVqwYIFWr16tf/3Xf1VTU5NuvfVWHTt2TDNmzNDatWuV\\\n",
       "nZ2dqCYDAADEhcMwDCPRjUhWjY2NcrlccrvdjAcEACBJcP+26RhAAAAAOyMAAgAA2AwBEAAAwGYI\\\n",
       "gAAAADZDAAQAALAZAiAAAIDNEAABAABshgAIAABgMwRAAAAAmyEAAgAA2AwBEAAAwGYIgAAAADZD\\\n",
       "AAQAALAZAiAAAIDNEAABAABshgAIAABgMwRAAAAAmyEAAgAA2AwBEAAAwGYIgAAAADZDAAQAALAZ\\\n",
       "AiAAAIDNEAABAABshgAIAABgMwRAAAAAmyEAAgAA2AwBEAAAwGYIgAAAADZDAAQAALAZAiAAAIDN\\\n",
       "EAABAABshgAIAABgMwRAAAAAmyEAAgAA2AwBEAAAwGYIgAAAADZDAAQAALAZAiAAAIDNEAABAABs\\\n",
       "hgAIxMHSpUtVWVnZ5TmVlZVaunRpfBoEALC19EQ3AEh1S5cu1bJly6zHZWVlnc6prKxUeXl5wGsA\\\n",
       "AIgVKoBADAWHv/Ly8k6VwODwt2zZMgIgACCmCIBAjASHP5N/CAwOfyZCIAAglhyGYRiJbkSyamxs\\\n",
       "lMvlktvtVm5ubqKbg34kXPjzN3nyZNXU1HR5zpIlSwiCANDHuH9TAQRiIi8vL+yxYhVLkhX+zMc9\\\n",
       "vQ4AAL1FAARioKysTBUVFZ2eX6AFWqEVKlWpJKlUpVqhFVqgBZ3OraioCDlhBACAaNEFHAVKyOiO\\\n",
       "/xi/YhVrhVZYx9xyyyWX9fh23a5qVUsi/AFALHH/pgII9NjRqip9dvkVOlpV1e0x/0pgtaq1Uiut\\\n",
       "c/3D30qtJPwBAOKGCmAU+AvCnj67/Ap11NUpvaBA57yzPqJjRUVF1pi/NVoTEP7ccmu+5kvyTQzZ\\\n",
       "uXNn7P8RAGBj3L+pAMLmuqrmhTP81luUXlCg4bfeEtGxyspKK/yVqjQg/Em+SqA5JrCmpqbbHUMA\\\n",
       "AIgWFcAo8BdE8uuqmne0qkqHn3lWA6ZM0cnt2zX81ls0tLS0R9dnDCAA9D/cv6kAwuYGTJkipaX5\\\n",
       "vgc5/Myz6qirU+Pateqoq9PhZ57t0bWDF3muVrVWa7Uk35i/+ZpvjQlcrdVW+JNC7xgCAEBfYS9g\\\n",
       "2NrJ7dslj8f3PcjwW2+xKoAnNm6U58gR1V4yTSPuWCzJFxDDVQXD7fDxgl7QVm21wl6VqlR96j/B\\\n",
       "zNdTCQQA9DUqgLC14DF7ocYEDrjoq3IOHCijpUVet1uHn3nWqg6GqwoeOnQo7HuaYW/y5MkBj3t6\\\n",
       "HQAAeosACFsbWlqqc95Zb1Xx/IOd/8/Db71FTpdLTpdLA6ZMkbepSU6XK+REEEn60aRJKj/zzLDv\\\n",
       "W1FRoZ07d4ZcLNrENnAAgFghAAJ+zKDnOXpUniNHAkKec+BADZoxQ41r18rrdst74kTIaxytqlL9\\\n",
       "gw/pB1nZIUOg/wSPcDuGEP4AALFEAISthery9Z44IaO5WUZLi/Vc/bL/6ZsQ8uabksfje9LjUf2D\\\n",
       "D3VaQubwM8/6zklL0z3fuSogBD50+eWdxvQFh0DCHwAg1pgEAlvz7+YdWlp6Oryd4m1sVMMjv5DC\\\n",
       "rZbk8VivDVg2RqcnkfwgK1ve4Xka5nTqWr/LmOcPv/UWKxQeOnSI8AcAiDkCIGzNDGnDb71F++/6\\\n",
       "sToOHJAjO1tpw4apo65OMoyASmAoniNHrDDXUVenk1LAmoKHn3lWP503z1pL0P95//DJbF8AQLyw\\\n",
       "EHQUWEgytdScW2x13crrtap+juxsSeoyCDqys+XIypIkjbhjcUQLRvtXAHu6wDQAoPe4fzMGELDk\\\n",
       "zp0rpaUpd+5cK8xJvuDXXRXQXCJGUsRhLngGMgAA8UIAhK35TwIZ/W+/0uRPqzX6336lkffcrfSC\\\n",
       "gkQ3DwCAmCAAwpbM4Hfw8SdCLuh87PX/7RsD2EODZswIObPY/z2DnwcAIN4IgLAlcwKG0dpq7QXs\\\n",
       "H9BaqsPvztGVExs3ht0lpLvdQwAAiBcCIGzJ3ALOkZVl7QXsH9B62/1rtLV12l4u+D3D7R4CAEC8\\\n",
       "MAs4CswiSn7+M3El6eDjT0iSjNbWbid+hOJ0uTTijsU6+PgTMtra5MjMjHhWMAAgPrh/EwCjwi9Q\\\n",
       "atl/1499O330kCM7W4OvuMJa5+/g409YM4IlXygs3LK5L5sKAIgC92+6gFVZWakzzzxT2dnZuuSS\\\n",
       "S/Thhx8muknohb6YYNH41lu9ep3R0qLj69dbi0p7m5p63QYAAOLB1gHwlVde0Z133qklS5Zo27Zt\\\n",
       "Ov/88zVnzhwdPHgw0U1DD/XFBAv/tf96ymhpsfYLVkeH73o5OUovKNCIOxb3+roAAMSCrQPgY489\\\n",
       "pltuuUXf//73VVRUpKeffloDBgzQ888/n+imoYcimWDRXZXQXPsvd948OV2uyN7Y4Tj9s/9oirQ0\\\n",
       "ZU2cqI6GBp386K+RXQsAgDixbQBsa2vT1q1bNWvWLOs5p9OpWbNmadOmTSFf09raqsbGxoAv9A+R\\\n",
       "7KoRSZXQ29SkExs3atCMGb4QmJHhO5CRERj2TkkfNUr5S5fIkZNz+sm0NOXff59aPv1U8nh63bUM\\\n",
       "AECs2DYAHj58WB6PRyNHjgx4fuTIkaqvrw/5muXLl8vlcllfY8eOjUdT0QeOVlXJ29Qkp8vVqUro\\\n",
       "vyi01+2W1+1W49q18rrdSs/L0+RdNZr8ycedL+pwaMCUKb4Zv83Np58+FRrNLuVoupYBAIgF2wbA\\\n",
       "3rj33nvldrutr3379iW6SYjA0aoq1T/4kLxut5wDB3aqEgYsCu1wyJGdrdy5c+V0ueQ5ckS1l0zT\\\n",
       "0aqqTkHOmZurk9u3B8z4lXzjAQ8/86zVpTzynrtj/m8EAKAnbBsAhw8frrS0NDU0NAQ839DQoPz8\\\n",
       "/JCvycrKUm5ubsAX+r/DzzwreTxSWlrIMYIBi0IbhtKGDdPof/uVJF+Y87rdAYEud948a3LH8Ftv\\\n",
       "CewqTk+3qoyRdEsDAJAItg2AmZmZmjp1qtavX2895/V6tX79epWUlCSwZehrZsDLv/++kGHMDGoj\\\n",
       "7lgceiKJwxHw3ICLvmoFu2Ov/29fBfDUBJD0ESOsNf/Y9xcA0F/ZeiHoV155RQsWLNDKlSt18cUX\\\n",
       "64knntCrr76qXbt2dRobGAoLSaY2/11ChpaW6rPLr1BHXZ3SCwp0zju+PxxqJk22zjfDY7hzAQD9\\\n",
       "A/dvKT3RDUik7373uzp06JAeeOAB1dfX64ILLtDatWsjCn/of4IDW7SGlpYGXMdc6NmsBh6tqvJ1\\\n",
       "/ba3K7u4WEOuvsqaYRx8LgAA/YmtK4DR4i+I/qW3VbfeBsfg96PqBwDJgfu3jccAIvVEshh0KN2t\\\n",
       "DxhuAeng9+vt+wMAEG9UAKPAXxCpobsKIJU9AEgt3L9tPgYQkDqP9QvGeD4AQKqhAhgF/oIAACD5\\\n",
       "cP9mDCDQI+HGAwIAkEwIgEAPdDdhBACAZEAABHpgwJQpUlqa7zsAAEmKAAj0wMnt2yWPx/cdAIAk\\\n",
       "RQAEwgg13o+1/gAAqYBZwFFgFlFqY/0/AEhN3L+pAAJhUe0DAKQqKoBR4C8IAACSD/dvKoAAAAC2\\\n",
       "QwAEAACwGQIgAACAzRAAAQAAbIYACAAAYDMEQAAAAJshAAIAANgMARAAAMBmCIAAAAA2QwAEAACw\\\n",
       "GQIgAACAzRAAAQAAbIYACAAAYDMEQAAAAJshAAIAANgMARAAAMBmCIAAAAA2QwAEAACwGQIgAACA\\\n",
       "zRAAAQAAbIYACAAAYDMEQAAAAJshAAIAANgMARAAAMBmCIAAAAA2QwAEAACwGQIgAACAzRAAAQAA\\\n",
       "bIYACAAAYDMEQAAAAJshAAIAANgMARAAAMBmCIAAAAA2QwAEAACwGQIgAACAzRAAAQAAbIYACAAA\\\n",
       "YDMEQAAAAJshAAIAANgMARAAAMBmCIAAAAA2QwAEAACwGQIgAACAzRAAAQAAbIYACAAAYDMEQAAA\\\n",
       "AJshAAIAANgMARAAAMBmCIAAAAA2QwAEAACwGQIgAACAzRAAAQAAbIYACAAAYDMEQAAAAJshAAIA\\\n",
       "ANhMSgbAhx9+WJdeeqkGDBigIUOGhDxn7969mjdvngYMGKARI0boJz/5iTo6OuLbUAAAgARIT3QD\\\n",
       "YqGtrU3XXHONSkpK9Nxzz3U67vF4NG/ePOXn5+svf/mLDhw4oBtuuEEZGRn6+c9/noAWAwAAxI/D\\\n",
       "MAwj0Y2IldWrV2vx4sU6duxYwPN/+tOf9I1vfEN1dXUaOXKkJOnpp5/W3XffrUOHDikzMzOi6zc2\\\n",
       "Nsrlcsntdis3N7evmw8AAGKA+3eKdgF3Z9OmTTrvvPOs8CdJc+bMUWNjoz799NOwr2ttbVVjY2PA\\\n",
       "FwAAQLKxZQCsr68PCH+SrMf19fVhX7d8+XK5XC7ra+zYsTFtJwAAQCwkTQC855575HA4uvzatWtX\\\n",
       "TNtw7733yu12W1/79u2L6fsBAADEQtJMArnrrru0cOHCLs8566yzIrpWfn6+Pvzww4DnGhoarGPh\\\n",
       "ZGVlKSsrK6L3AAAA6K+SJgDm5eUpLy+vT65VUlKihx9+WAcPHtSIESMkSevWrVNubq6Kior65D0A\\\n",
       "AAD6q6QJgD2xd+9eHTlyRHv37pXH49GOHTskSWeffbYGDRqk2bNnq6ioSNdff70effRR1dfX6777\\\n",
       "7lNZWRkVPgAAkPJSchmYhQsX6oUXXuj0/LvvvqvLLrtMkvTll1/qtttu03vvvaeBAwdqwYIFeuSR\\\n",
       "R5SeHnkmZho5AADJh/t3igbAeOEXCACA5MP9O4lmAQMAAKBvEAABAABshgAIAABgMwRAAAAAmyEA\\\n",
       "AgAA2AwBEAAAwGYIgAAAoM8tXbpUlZWVXZ5TWVmppUuXxqdBCJCSO4EAAIDEWbp0qZYtW2Y9Lisr\\\n",
       "63ROZWWlysvLA16D+KECCAAA+kxw+CsvL+9UCQwOf8uWLSMAxhkBEAAA9Ing8GfyD4HB4c9ECIwv\\\n",
       "toKLAlvJAADgEy78+Zs8ebJqamq6PGfJkiUxD4Lcv6kAAgCAPpCXlxf2WLGKJckKf+bjnl4HfYcA\\\n",
       "CAD9CDMnkazKyspUUVHR6fkFWqAVWqFSlUqSSlWqFVqhBVrQ6dyKioqQE0bQ95gFDAD9BDMnkezM\\\n",
       "31nzd7RYxVqohZKkRVqkUpXKJZckaaEWaqu2qlrVkgh/8UYFEAD6AWZOIlX4VwKrVa2VWmkdM8Of\\\n",
       "JK3USsJfAjEJJAoMIgXQF7oaPG/eGMPNnJTiM2ge6KmioiJrzN8arQkIf265NV/zJfkmhuzcuTOu\\\n",
       "beP+TQUQABKqu5mT5eXlKioqChv+JCqB6H8qKyut8Off7WtyyWWNCaypqel23Cv6HgEQABKImZOI\\\n",
       "mY+ekx4v9n2PI/9qdbGKtUiLrGNuua2fF2mR9TsdasgDYosACAAJxMxJxMzGxyX3Pt/3OAkeqlCt\\\n",
       "aq3Wakm+MX/zNd8aE7haq60xgBIhMN4YAxgFxhAA6CvBVZMVWmEdc8sd0IV2u25n8Dy699FzvvA3\\\n",
       "4w7popti/nZdjVMtVnFA2At+7C8ev9Pcv6kAAkBYv9v8paY/8o5+t/nLmL8XMyfR5y66Sbqjuvfh\\\n",
       "r4ddyIcOHQp7zPydnTx5csDjnl4HfYcACABhPPXe59p/rFlPvfd52HO6Cok9DZBlZWXWDbJKVQHj\\\n",
       "pSRfJbBKVZJ8N1LCn03Fa2xfJF3Ifm1ZunSplixZEvbUiooK7dy5M+SQBxMz2uOHAAgAYdx22USN\\\n",
       "HpKj2y6bGPacrkJiJAHSHzMnEZF4je2bcYfkGuv7HmFbwoVA/2p1uHGvhL/4IgACQBjfmzZeH9xz\\\n",
       "ub43bXzYc7oKibddNlFDcjLU1NrRbRWQmZOIWCTBzF93FcNwx0N1IQefG6ItwSEw1FCF4BBI+Is/\\\n",
       "JoFEgUGkALoz/ZF3tP9Ys0YPydEH91wuydc1/NR7n+u2yybqe9PGhxw8v0ALtFALtVIrVaUqlapU\\\n",
       "i7RIq7VaL+iFgHMrKirkmvqNgGsC1iSQ1hNSy9HTQc2cGCL5fm47ITWfOn5HiLF5/pNJzIpfqHPN\\\n",
       "88ZeIu3boqU7z1LeBXO6HKpQWVmpQ4cOxT38cf8mAEaFXyAAwYLDXfBjKTAU/svgmj6ZOTnhn2+X\\\n",
       "d/KcgKAJm3u82BfWcoZKmYN8Ae6dB31hL2OA1NEqGR4pe6iUNej0bGH/wCdJb/3Ed55/gDwV8jT2\\\n",
       "Emn3eskhyZAvaDrSfOc70qSv/zIuM5B7ivu3lJ7oBgBAMjMD3tTxQ7X1y6Nqau3QseZ2PfXe5/re\\\n",
       "tPHWl7+p44eq3t2sMwZm6pE3Pgx7bf+ZkzU1NV3OnLwgz6mGbsYrwmb8q31mCFv/oO97+8nT53W0\\\n",
       "Slfc7/v54VGnj5nVQ8Pje9z0d1+AnHiF9Okbvufd/y1f8pMvaLrG+kKhefytn/iO9cMQaHeMAQSA\\\n",
       "KPzqz7Xaf6xZf/hbnfYfa5akTuP+gmcDb/3yqDyG9PF+t9K+eq3GXHFD2OtHOnPyP1Y90e14RdhM\\\n",
       "qDF8V9zvC2kZA04/13FSevMuX7jzD4YDh/sqe/7nNR+Vql8/HQrN8CeHdPn9vrC5b4s06iunDnvi\\\n",
       "uhA1IkcABIAotHZ4JUkOh5TmkMYNG6DjLe1WFVA6PRv4V3+u1fRH3tHU8UOVdurGmuaQlj/0P5k5\\\n",
       "ifgwQ+Hsh3wVOyvhGVJ7a+C5dduloWcqMAUqxGNJxVf5rm2OETzw8alT0yKfrBIsQVvZ2QUBEAAi\\\n",
       "9LvNX+qCZW/rgmVvW9W8rHTf/416DcljSJ/WueUxfLdIswpozhSWpP3HmrXhvw5pcHaGhuRkaNm3\\\n",
       "ivW9aeOZOYn4uugm6e49vuAmh+TMkDqaO59Xt12nq3ynFFygTiFw93rfd3NW8Lnf9n2PZgxgAray\\\n",
       "sxPGAAJAhJ5673Mda263fv7etPH68ZxC3bfm9Ng8p8Mhj2HIkHSsuV33r6mWKydDP55TaL3uSFOr\\\n",
       "mtu9GpKTEdBla4a5vLy8sDMnzecTMXMSKeSj505PCJEkb3vkrz3wsTqFwuCi4PhLpaujrNwFz1hG\\\n",
       "n2IWcBSYRQTYy+82f6mH39yplnavzhvt0t+b2nTbZRP14RdH9ObHdTLkqwSGYs7O/d3mL63AmOF0\\\n",
       "aERuNku3IH7MGb7m0i99IWeob/zfRTeFnnncDyeAcP8mAEaFXyDAPszZvuYsX38ZaQ6lOx1qbvd2\\\n",
       "eY2vjHZZXcT+0hzSsm/5Fnfuai2/SJaYAcL66LnTS7qkD/B1+TrTJW+HOlX0ImEu8yJ1Xluw6e++\\\n",
       "SSPZQ30TT4JnIycY92/GAAJARMzZvq0dXmsCh6ndY3Qb/iTfrN/g8Cf5xg4+9d7n3W4dF3y8p1vN\\\n",
       "IUX0dnLExsdPzd51nBrvZ0iGN/SYvkiY4e+tn/iqfuaSL3dUSxlZvp8dYixfP0UABIAeyEp3atm3\\\n",
       "intzuwzLXDZm6vihXe49HLztXCR7FSMF9TZQjb3EV7XLyJFV8TM8oSd6RMKc9WsuCeO/5Mvlp5ab\\\n",
       "MZeG6cnWdYgLuoCjQAkZsI/g7tYLlr3dqSu4N5wOKTc7Q8ea29nFA5Hx36mjJ12q5vi87KFSa6Pf\\\n",
       "Wn7S6a08IlQwRWo67AuVn6/3LSGTkXV6LGA07YwD7t9UAAGgW6HG3km+yp0zylKg1/AtF5Pm8O0Q\\\n",
       "AnQr1ALPkTArcVfc7+u+dY2Viq/2fS+4ILJr5AyVlrp94c+9z7f8S0ujb7xfS2PguXT99msEQADo\\\n",
       "RvBCzr/6c62ONbdrYFa6tQ5gNNq9hjyGtOG/DvVBa4EwQgXH8Zf6nvNfuDnH/w8Rh6/alz309Gzf\\\n",
       "j57zzSLOHip5WgO7gM2t5qTQXb8s7txvEAABoBvBCzlLssbeZaWnWecNycno1fVzMnz/V9za4QnY\\\n",
       "Mg6IGbM699ZPfGHs3G/7wt+53/aFPGuXEMNX7Tv7Cl+Fb/tvfa9pPuo73G4uHu0I+CYpdOCkKthv\\\n",
       "EAABoBvfmzZeH9xzuX48p9AKeVPHD9VT732umf+QpyE5GcrJcKqptaPH1/7KaJd+Nq9Io4fkKCs9\\\n",
       "rdOs3uB9hIGIdFdpm3GHL/CZEzeufk5acsRXEdz4+KnhgMbprdw+feP0hBHDc+q1p86RfF3I5qSP\\\n",
       "rjAhpN8gAAJAN8wQJkkDs9J1rLldb35cp/3HmvWHv9VJkrLS09QeYhVo/4JIRtCAwSE5Gfp7U5s+\\\n",
       "/OKIJGnmP+R1mtXLUi/ole4qbRfddHocoH8YM1/XcsxXBTS3cjv325IcksPp+37ut31jCR2nKuBN\\\n",
       "hyMbl9jb8YvocwRAAOiGfwgzu4PnfaVAaQ5ZW741tYWu/vlHwoFZ6co4tYig+X3/sWYrTG798qg+\\\n",
       "uOfygEWdWeoFvRJJpS1UGDMrgzJ8O3mYx65+Tsoe4ls3UIa0b0v4EImkQABEQi1dulSVlZVdnlNZ\\\n",
       "Wcmep0go/xBmdgc/ed0Ua/cOybcYtP8YQLPWNyQnXUNyMjTk1H7AIwZnS5IGZqafOp6heV8p6Dbk\\\n",
       "ffjFEbqCEbneVtq6CnUOvx/MY1T0klZ6ohsA+1q6dKmWLVtmPTY3ufdXWVmp8vLygNcA8fa9aeMD\\\n",
       "qnL+y8LkZKSpud03C3LmP+Rp3c4GtbR7rMqfu7lDBX7hUVLAlnKjh+ToyeumhH1vs/pY7262dgxh\\\n",
       "2zdEras1+i66KXSgu7z/bemG3qMCiIQIDn/l5eWdKoHB4W/ZsmUEQPQL/l3CP5s32SqMbPivQxo2\\\n",
       "MFOGfDN70xxSdkZawBIykqwJJWbVr6uJHv5dznQFo8/0ZjbuRTf5wt/Gx1nGJQWwE0gUUnkl8b+t\\\n",
       "e0sfrnldF8+/Wuf/09f79NrB4c9fRUWFysrKOoU/f0uWLCEIIq5CLQTt/3jy/WvV3O5RRprD6tr9\\\n",
       "8ZzCgHOPNLWpud2jITkZ2rFkdsD1pz/yjvYfa2YnEMRPtLuJuMb6un6TVCrfvyNFBRAhfbjmdTUe\\\n",
       "PqgP17zep9ftKvxJvkpgUVFR2PAnUQlE/AXPxDXHAZ7uivX9Hd3uMawFos1j5rldLRjNRA/EVTRb\\\n",
       "tLGMS8ogACKki+dfrdzhI3Tx/Kv79Lp5eXlhjxXLN6C+pqYm4HFPrwP0te4CmrkYdE6GU0NyMtTU\\\n",
       "2tGpO9fs8v3xnEJJgev7dQ6U6nQO0GeiWYyZbuCUQRdwFCgh906o7t0FWqCFWqiVWqkqValUpVqk\\\n",
       "RVqt1XpBLwSca3YTA/2Ff5ewWS1Mc0jLvlUcdsJGJN2+dA0jJqKpAEop0Q3M/ZsKIBKgrKxMFRUV\\\n",
       "1uNiFWuhFkqSFmmR1miNFmmRJGmhFgZUAgl/6I++N228Ff6mjh+qNIesGbvhRNLtS9cwYiLapVvo\\\n",
       "Bk4JVACjwF8Q0fGvBJoVv2BmRVAi/KF/86/WmWEw3KQRAInF/ZsAGBV+gaJXVFRkjflbozVyyWUd\\\n",
       "c8ut+ZovSZo8ebJ27tyZiCYCEekq5NGVC/Qv3L/pAkYCVVZWWuGvVKUB4U+SXHKpVKWSfBNDutsx\\\n",
       "BEikcBM5JLpyAfQ/BMAU97d1b+nZshv1t3Vv9Zv3+Nu6t/QvM0us7t9iFQd0/7rltn5epEXWGMBQ\\\n",
       "i0UDyaCrcAgAiUAATHF9tZ5fVyGvp+/xiwcf1Mv/udl6XK1qrdZqSb4xf/M1Xyu1UpK0WqtVrdOz\\\n",
       "zMrLy/UvM0tiGmgBAEh1BMAU11fr+YUKeWYoLCicFPF73Hv7DwLCn+kFvaDbdbs14aNKVbpdt3da\\\n",
       "AkaSXv7PzfrFgw9G8a8BYov1+wD0d+mJbgBi6/x/+nqfbOV28fyrra3hTGYolKRbKp+3nu9qG7nq\\\n",
       "zZvCvodZ6Zs8ebJqamoCKn/Bcsef1at/BxAP/juH0O0LoD+iAoiInP9PX9ctlc8HBLpw1cWuuoQf\\\n",
       "+vnDmvOVSWHfp6KiQjt37gxYJzDYkiVL9PRv/70X/wogPpj0AaC/YxmYKMRyGnlXVbT+rru2P3bd\\\n",
       "P2vtx7u0budnAc8Hr/MXaseQJUuWsA8wACAqLANDBbDf6qvJG4kQqlror7BkhuZ+ZZKumzvLeu6e\\\n",
       "8tsCwt/f1r2lzJ1bdU/5bdZzhD8AAPoGYwD7qVBj7hKtr6qS8374r5r3w3+VJOVe//+r8cv/q9J/\\\n",
       "/kbAOWYAPmv4CFVUVOjQoUOEPwAA+ggBsJ/qq8kbPREc8IIf+1clw7XtzScfVe2mjSosmWGFPP/r\\\n",
       "/HdNtWo3bdSIM89Sc2OjJqtFHaPO0MaXfxtwzYLCSTp+5LAKCidpHtu/AQDQpwiAsAQHPPPxxqoX\\\n",
       "9eGa11VQ6Ju8YVYlQ1UEd/3lPyXD0K4PNmjP37apo71dHW1tkmHowzWv6/iRwzK8XjX8392+N3U4\\\n",
       "JEltrc167Lp/toJjXe0uGV6v6mp3xf+DAAAgxTEGEJbgWb3mYxkONR4+qNpNGwPC3saqF62AaErP\\\n",
       "zLR+bjlxQh2trZJhSA6HTh53y+FwSg6HRp51tnKHj9CkS/9RucNHyOvxyPB6VbtpY8i2AACAvsMs\\\n",
       "4CjYZRbRm08+ql0fbJAk5Q4fYa359+vrr1JHW6skadL0mVbFz9vhkdfTYb3emZYur9fjC4KS5HBo\\\n",
       "1k23BXT5huo6BgAgFuxy/+4KXcDoduyffzfsyeNuaxs2M/xJUu2mjTK83pDXDwh/ktUd7B8A/SeG\\\n",
       "AACA2KILGJ2WnAl+fPH8q+Vw+n5VOlpb9X9W/S+999vnAq4xaNgZYa/vTEtT9qBBSs/KUnpmlrIH\\\n",
       "DVJB4aSwewsDAIDYSskAuGfPHt10002aMGGCcnJyNHHiRC1ZskRtbW0B53388cf6x3/8R2VnZ2vs\\\n",
       "2LF69NFHE9TixHnzyUfV+PdDSs/MChj7lz1okE4ed+vXN1yljS//VoUlM5Q9cLD1uo7W1oDrHD98\\\n",
       "KOx7eDs6rPGAXo9HmdkDtPujLb7xgy//tsu2PXbdP+vNJ+333wsAALGUkl3Au3btktfr1cqVK3X2\\\n",
       "2Werurpat9xyi5qamvSrX/1Kkq//f/bs2Zo1a5aefvppffLJJ7rxxhs1ZMgQ3XrrrQn+F8RP7aaN\\\n",
       "kmHI09FudcmaM4BbTvj2+e1obVXtpo264sb/of+uqbbGA/aG19Ph2z/41Ozfjo42PVt2oxU+N1a9\\\n",
       "KBkOzbjueqtbuXbTRrqHAQDoQykZAOfOnau5c+daj8866yzV1tbqqaeesgLgv//7v6utrU3PP/+8\\\n",
       "MjMzde6552rHjh167LHHbBUAC0tmWJMv/F08/2ptrHrRWsbF8Hr14ZrXdUvl8zp6oO70Mi49NPKs\\\n",
       "s9Xc2KiCwkmqq92ltubmgO7mlhMnJPm6ocO1DQAARMc2s4Dvu+8+rV27Vn/9618lSTfccIMaGxu1\\\n",
       "Zs0a65x3331Xl19+uY4cOaKhQ4d2e027zCLynxQiSeuffzrshI8uORy6q+oPIa9dUDhJe3ZsV0dH\\\n",
       "m9LTMzXjuuuTbg9kAEBysMv9uyspWQEMtnv3bq1YscKq/klSfX29JkyYEHDeyJEjrWOhAmBra6ta\\\n",
       "/ca+NTY2xqjFiRUcyuQwNKP0Bp3/T1/Xs2U39i78SXI60zo9Z+548mzZjWppOh6wzAwAAIiNpJoE\\\n",
       "cs8998jhcHT5tWtX4M4R+/fv19y5c3XNNdfolltuier9ly9fLpfLZX2NHTs2qusl2t/WvRVyJq45\\\n",
       "C3jXBxvU0nRcLSdOWF20BYWT5HA6rVnBkXCmp5/6nhZ25q858aStuZmZwQAAxFhSBcC77rpLNTU1\\\n",
       "XX6dddZZ1vl1dXX62te+pksvvVTPPPNMwLXy8/PV0NAQ8Jz5OD8/P+T733vvvXK73dbXvn37+vhf\\\n",
       "GF/By72Y/Jd9kcOh7EGDrO5fc4u2rJyBSs/K6vY9Jk2fqcsX3npqRxEFzPw1A+ibTz6qjVUvqqWp\\\n",
       "SS1Nxzu1BwAA9K2k6gLOy8tTXl5eROfu379fX/va1zR16lT95je/kTOoYlVSUqKf/exnam9vV0ZG\\\n",
       "hiRp3bp1KiwsDDv+LysrS1kRhJ7+zr+LV1Kn7dbMsXfB+/ya55qvravdpYuvv1r/Z9X/CvtedbW7\\\n",
       "NGZyse+B49STDt+w041VL6rlxAk1/v1QwC4hbS0n9bd1bzEGEACAGEnJSSD79+/XZZddpvHjx+uF\\\n",
       "F15QWtrpsWdmdc/tdquwsFCzZ8/W3Xffrerqat144416/PHHI54FnKyDSJ8tu1GNhw9GNd7O/xon\\\n",
       "j7s7rQsoSdmDBkmGQ3IYajlxQtkDByszJ8cKj+br0jOzlJ6ZEXAuYwEBALGSrPfvvpRUFcBIrVu3\\\n",
       "Trt379bu3bs1ZsyYgGNm3nW5XHr77bdVVlamqVOnavjw4XrggQdssQSMWcULrvyZgreCC/V8QeEk\\\n",
       "HT9yWDm5uWprbpbX45HX49HgM4brxJG/a9CwM6zFobMHDlbu8BHW9czwmD1wsAYMdgW8T/CMYwAA\\\n",
       "0PdSsgIYL6n6F0Tljdeppem4sgcOVtnzL1vPW8Ft0CC1njzpmw3scPi6b/2+Zw8cqJamJqtbd9bN\\\n",
       "PwgbJOnmBQDEW6rev3siJSuAiJLDCPgePGawrblZhtcrh9OptIyMU924mfK0t8vwetVy4oTSs7Lk\\\n",
       "aW9XYcmMTiHPXPoFAAAkBgEQncwovSGgG9acLSxJt1Q+36mb1v/njS//VnIYOvP8CwMngAAAgH6D\\\n",
       "LuAo2KWE3JMuW/PctpaTTOYAAPRLdrl/d4UKILrVky5bs1roP/EDAAD0LwRA9FqoyqD/DGPG+QEA\\\n",
       "0D8RABFSJN2+ZrVv/fNPSwqsFJq7eRACAQDof5JqKzjET7ht4vyZW8YZXm/AeZG8FgAAJA4BECFd\\\n",
       "PP/qbsfwnf9PX9cVN/6PTudF8loAAJA4zAKOArOIAABIPty/qQACAADYDgEQAADAZgiAAAAANkMA\\\n",
       "BAAAsBkCIAAAgM0QAAEAAGyGAAgAAGAzBEAAAACbIQACAADYDAEQAADAZgiAAAAANkMABAAAsBkC\\\n",
       "IAAAgM2kJ7oBycwwDElSY2NjglsCAAAiZd63zfu4HREAo3D8+HFJ0tixYxPcEgAA0FPHjx+Xy+VK\\\n",
       "dDMSwmHYOf5Gyev1qq6uToMHD5bD4Uh0c3qlsbFRY8eO1b59+5Sbm5vo5qQ0Puv44bOOHz7r+OLz\\\n",
       "7huGYej48eMqKCiQ02nP0XBUAKPgdDo1ZsyYRDejT+Tm5vJ/JnHCZx0/fNbxw2cdX3ze0bNr5c9k\\\n",
       "z9gLAABgYwRAAAAAmyEA2lxWVpaWLFmirKysRDcl5fFZxw+fdfzwWccXnzf6CpNAAAAAbIYKIAAA\\\n",
       "gM0QAAEAAGyGAAgAAGAzBEAAAACbIQDa2MMPP6xLL71UAwYM0JAhQ0Kes3fvXs2bN08DBgzQiBEj\\\n",
       "9JOf/EQdHR3xbWiKqKys1Jlnnqns7Gxdcskl+vDDDxPdpKS3YcMGffOb31RBQYEcDofWrFkTcNww\\\n",
       "DD3wwAMaNWqUcnJyNGvWLH322WeJaWySW758uS666CINHjxYI0aM0Pz581VbWxtwTktLi8rKynTG\\\n",
       "GWdo0KBBuuqqq9TQ0JCgFievp556Sl/5ylesxZ5LSkr0pz/9yTrO54y+QAC0sba2Nl1zzTW67bbb\\\n",
       "Qh73eDyaN2+e2tra9Je//EUvvPCCVq9erQceeCDOLU1+r7zyiu68804tWbJE27Zt0/nnn685c+bo\\\n",
       "4MGDiW5aUmtqatL555+vysrKkMcfffRRPfnkk3r66ae1ZcsWDRw4UHPmzFFLS0ucW5r83n//fZWV\\\n",
       "lWnz5s1at26d2tvbNXv2bDU1NVnn3HHHHfrDH/6g1157Te+//77q6ur0ne98J4GtTk5jxozRI488\\\n",
       "oq1bt+qvf/2rLr/8cn3rW9/Sp59+KonPGX3EgO395je/MVwuV6fn33rrLcPpdBr19fXWc0899ZSR\\\n",
       "m5trtLa2xrGFye/iiy82ysrKrMcej8coKCgwli9fnsBWpRZJxhtvvGE99nq9Rn5+vvHLX/7Seu7Y\\\n",
       "sWNGVlaW8fLLLyeghanl4MGDhiTj/fffNwzD99lmZGQYr732mnVOTU2NIcnYtGlTopqZMoYOHWqs\\\n",
       "WrWKzxl9hgogwtq0aZPOO+88jRw50npuzpw5amxstP4SRffa2tq0detWzZo1y3rO6XRq1qxZ2rRp\\\n",
       "UwJbltq++OIL1dfXB3zuLpdLl1xyCZ97H3C73ZKkYcOGSZK2bt2q9vb2gM970qRJGjduHJ93FDwe\\\n",
       "j6qqqtTU1KSSkhI+Z/SZ9EQ3AP1XfX19QPiTZD2ur69PRJOS0uHDh+XxeEJ+lrt27UpQq1Kf+Tsa\\\n",
       "6nPn9zc6Xq9Xixcv1vTp01VcXCzJ93lnZmZ2Gk/M5907n3zyiUpKStTS0qJBgwbpjTfeUFFRkXbs\\\n",
       "2MHnjD5BBTDF3HPPPXI4HF1+EToARKOsrEzV1dWqqqpKdFNSVmFhoXbs2KEtW7botttu04IFC7Rz\\\n",
       "585ENwsphApgirnrrru0cOHCLs8566yzIrpWfn5+p5mq5kyz/Pz8XrXPjoYPH660tLROs/QaGhr4\\\n",
       "HGPI/GwbGho0atQo6/mGhgZdcMEFCWpV8isvL9cf//hHbdiwQWPGjLGez8/PV1tbm44dOxZQneL3\\\n",
       "vHcyMzN19tlnS5KmTp2qjz76SL/+9a/13e9+l88ZfYIKYIrJy8vTpEmTuvzKzMyM6FolJSX65JNP\\\n",
       "Amaqrlu3Trm5uSoqKorVPyHlZGZmaurUqVq/fr31nNfr1fr161VSUpLAlqW2CRMmKD8/P+Bzb2xs\\\n",
       "1JYtW/jce8EwDJWXl+uNN97QO++8owkTJgQcnzp1qjIyMgI+79raWu3du5fPuw94vV61trbyOaPP\\\n",
       "UAG0sb179+rIkSPau3evPB6PduzYIUk6++yzNWjQIM2ePVtFRUW6/vrr9eijj6q+vl733XefysrK\\\n",
       "lJWVldjGJ5k777xTCxYs0Fe/+lVdfPHFeuKJJ9TU1KTvf//7iW5aUjtx4oR2795tPf7iiy+0Y8cO\\\n",
       "DRs2TOPGjdPixYv10EMP6ZxzztGECRN0//33q6CgQPPnz09co5NUWVmZXnrpJf3+97/X4MGDrfFm\\\n",
       "LpdLOTk5crlcuummm3TnnXdq2LBhys3N1e23366SkhJNmzYtwa1PLvfee6+uvPJKjRs3TsePH9dL\\\n",
       "L72k9957T3/+85/5nNF3Ej0NGYmzYMECQ1Knr3fffdc6Z8+ePcaVV15p5OTkGMOHDzfuuusuo729\\\n",
       "PXGNTmIrVqwwxo0bZ2RmZhoXX3yxsXnz5kQ3Kem9++67IX+HFyxYYBiGbymY+++/3xg5cqSRlZVl\\\n",
       "XHHFFUZtbW1iG52kQn3Okozf/OY31jnNzc3GD37wA2Po0KHGgAEDjG9/+9vGgQMHEtfoJHXjjTca\\\n",
       "48ePNzIzM428vDzjiiuuMN5++23rOJ8z+oLDMAwj/rETAAAAicIYQAAAAJshAAIAANgMARAAAMBm\\\n",
       "CIAAAAA2QwAEAACwGQIgAACAzRAAAQAAbIYACAAAYDMEQAAAAJshAAIAANgMARAAAMBmCIAAAAA2\\\n",
       "QwAEAACwGQIgAACAzRAAAQAAbIYACAAAYDMEQAAAAJshAAIAANgMARAAAMBmCIAAAAA2QwAEAACw\\\n",
       "GQIgAACAzRAAAQAAbIYACAAAYDMEQAAAAJshAAIAANgMARAAAMBmCIAAAAA2QwAEAACwGQIgAACA\\\n",
       "zRAAAQAAbOb/AbgRh6SeSaU/AAAAAElFTkSuQmCC\\\n",
       "\"\n",
       "  frames[2] = \"data:image/png;base64,iVBORw0KGgoAAAANSUhEUgAAAoAAAAHgCAYAAAA10dzkAAAAOXRFWHRTb2Z0d2FyZQBNYXRwbG90\\\n",
       "bGliIHZlcnNpb24zLjcuMiwgaHR0cHM6Ly9tYXRwbG90bGliLm9yZy8pXeV/AAAACXBIWXMAAA9h\\\n",
       "AAAPYQGoP6dpAAAle0lEQVR4nO3df4zX9YHv+xeojL9glHVk5IgtjcZCcG1Cqx276bUrB+pxe2W1\\\n",
       "npLNdgdrW2IHbiymrcYfM6Q/aGxz1paZVfZ0I242Lq5NZG972m4JWk1Oqbb0uusImJq1C7d0cJrW\\\n",
       "GUsULHzvH+x8LzPMIMjMfGe+78dj883y/Xw+8+XdfqCfJ+/v58eUSqVSCQAAxZha6wEAADC+BCAA\\\n",
       "QGEEIABAYQQgAEBhBCAAQGEEIABAYQQgAEBhBCAAQGEEIABAYQQgAEBhBCAAQGEEIABAYQQgAEBh\\\n",
       "BCAAQGEEIABAYQQgAEBhBCAAQGEEIABAYQQgAEBhBCAAQGEEIABAYQQgAEBhBCAAQGEEIABAYQQg\\\n",
       "AEBhBCAAQGEEIABAYQQgAEBhBCAAQGEEIABAYQQgAEBhBCAAQGEEIABAYQQgAEBhBCAAQGEEIABA\\\n",
       "YQQgAEBhBCAAQGEEIABAYQQgAEBhBCAAQGEEIABAYQQgAEBhBCAAQGEEIABAYQQgAEBhBCAAQGEE\\\n",
       "IABAYQQgAEBhBCAAQGEEIABAYQQgAEBhBCAAQGEEIABAYQQgAEBhBCAAQGFOrfUAJrNDhw5lz549\\\n",
       "mT59eqZMmVLr4QAAx6FSqeS1117L7NmzM3VqmXNhAvAk7NmzJ3PmzKn1MACAt2H37t258MILaz2M\\\n",
       "mhCAJ2H69OlJDv8BmjFjRo1HAwAcj/7+/syZM6d6HC+RADwJA1/7zpgxQwACwCRT8ulbZX7xDQBQ\\\n",
       "MAEIAFAYAQgAUBgBCABQGAEIY6SjoyNdXV3H3KarqysdHR3jMyAA+E+uAoYx0NHRkTVr1lTft7W1\\\n",
       "HbVNV1dXVq5cOehnAGA8mAGEUTY0/lauXHnUTODQ+FuzZo0ABGDcCEAYRUPjb8CRETg0/gaIQADG\\\n",
       "y5RKpVKp9SAmq/7+/jQ2Nqavr8+NoBkx/o40b9687Nix45jbtLe3C0GAMeT4bQYQRk1TU9OI6xZk\\\n",
       "QZJU42/g/Yl+DgCMBgEIo6StrS2dnZ1HLW9Na9ZlXZZlWZJkWZZlXdalNa1HbdvZ2TnsBSMAMJp8\\\n",
       "BXwSTCEznCPP8VuQBVmXddV1felLYxqr71dlVbrTnUT8AYwXx28zgDDqjpwJ7E531md9dd2R8bc+\\\n",
       "68UfADVhBvAk+BcExzJ//vzqOX+bsmlQ/PWlL0uzNMnhC0O2b99eiyECFMnx2wwgjImurq5q/C3L\\\n",
       "skHxlxyeCRw4J3DHjh1v+cQQABhNAhBG2dBzAFdkRXVdX/qqv16RFdWrgYe7WTQAjBUBCKNo6E2e\\\n",
       "u9OdDdmQ5PA5f0uztHpO4IZsqJ4DmIhA6pNnYsPE5FnAMEpGesLHw3k427KtGnsbszHd//l/Qw38\\\n",
       "vAtCqAeeiQ0TlxlAGCW9vb0jrhuIvXnz5g16f6KfA5OFZ2LDxCYAYZR0dHSkvb19xPWdnZ3Zvn37\\\n",
       "sDeLHuAxcNQDz8SGSaBSp77yla9U3vve91bOPvvsSlNTU+X666+v7Ny5c9A2r7/+euUzn/lMZebM\\\n",
       "mZWzzjqrcsMNN1R6enqO+/fo6+urJKn09fWN9vCZxNrb2ytJBr06OzsHbdPZ2XnUNu3t7bUZMIyi\\\n",
       "4f78D33NmzfvLbfx94Gx5PhdqdTtDOBTTz2Vtra2/OQnP8nmzZvz5ptvZvHixdm3b191m89+9rP5\\\n",
       "zne+k8ceeyxPPfVU9uzZkxtuuKGGo6YeDJ0JHO4mz0MfG2fmj3rhmdgwORRzI+je3t6cf/75eeqp\\\n",
       "p/LBD34wfX19aWpqyiOPPJKPfvSjSZKdO3dm3rx52bp1a97//ve/5We6kSTH0tHRkaampmNe0NHV\\\n",
       "1ZXe3l7xR10Z7uvd1rRmeZZnfdZnYzZmWZZlRVZkQzbk4Tw8aFtPxmGsOX4XFIAvvfRSLrnkkjz/\\\n",
       "/PNZsGBBnnjiiVxzzTX53e9+l3POOae63Tve8Y7cdttt+exnP/uWn+kPEMDwPBObiczxu5CLQA4d\\\n",
       "OpTbbrstH/jAB7JgweGvHHp6ejJt2rRB8Zcks2bNSk9Pz7Cfs3///vT39w96AXA0z8SGia2IAGxr\\\n",
       "a0t3d3c2btx4Up+zdu3aNDY2Vl9z5swZpREC1J+2trbqrY82ZuOgJ+Ekh2cCN+bw/y7PmzdP/ME4\\\n",
       "qvsAXLlyZb773e/mySefzIUXXlhd3tzcnAMHDuTVV18dtP3evXvT3Nw87Gfdeeed6evrq7527949\\\n",
       "lkMHmNQ8Exsmrrp9EkilUsmqVavy+OOP50c/+lHmzp07aP3ChQtz2mmnZcuWLbnxxhuTJC+++GJ2\\\n",
       "7dqVlpaWYT+zoaEhDQ0NYz52audvbn0iQ8+KPXtmQ1q/8oHaDAgmqbd6JvZADK7IiuqTcTwJB8ZP\\\n",
       "3c4AtrW15R/+4R/yyCOPZPr06enp6UlPT09ef/31JEljY2NuueWWrF69Ok8++WS2bduWm2++OS0t\\\n",
       "Lcd1BTD1abhLon7/2/3jPxCYxDwTGya+up0BfOCBB5IkV1999aDlDz30UJYvX54k+eu//utMnTo1\\\n",
       "N954Y/bv358lS5bkb/7mb8Z5pEx0Z8806wvHyzOxYXKo2wA8nrvbnH766enq6vKvTUZ06mlTff0L\\\n",
       "J+B4n4m9Y8cOz8SGGqrbr4Dh7fg//uLSNJx5ak49bWoazjw1H7jpkloPCSYVz8SGyaFuZwDh7Vjw\\\n",
       "wf+SBR/8L7UeBkxqA/G2Zs2aQcuPvM/fwP8f+nWx+IPxYQYQgFHnmdgwsZkBBGBMDMTcsZ6JPbDc\\\n",
       "M7FhfBXzLOCx4FmCADD5OH77ChgAoDgCEACgMAIQoCD/9OI/ZfG3F+efXvynWg8FqCEBCFCQbz3/\\\n",
       "rfx636/zree/VeuhADUkAAEK8snLPpkLzrogn7zsk8e1/eJvL85lD1+Wyx6+LF94+gtjPDpgvLgK\\\n",
       "+CS4igiod5c9fNmg98+3Pl+jkcDocfw2AwjACTALCPVBAAJwlIGLRYb6wS9/UIPRAKNNAAJwlIGL\\\n",
       "RYb68Ds/XIPRAKPNo+AAOMonL/tkvvX8t/LJyz6Z/37pf6/1cIBR5iKQk+AkUgCYfBy/fQUMAFAc\\\n",
       "AQgAUBgBCABQGAEIAFAYAQgAUBgBCABQGAEIAFAYAQgAUBgBCABQGAEIAFAYAQgAUBgBCABQGAEI\\\n",
       "AFAYAQgAUBgBCABQGAEIAFAYAQgAUBgBCABQGAEIAFAYAQgAUBgBCABQGAEIAFAYAQgAUBgBCABQ\\\n",
       "GAEIAFAYAQgAUBgBCABQGAEIAFAYAQgAUBgBCABQGAEIAFAYAQgAUBgBCABQGAEIAFAYAQgAUBgB\\\n",
       "CABQGAEIAFAYAQgAUBgBCABQGAEIAFAYAQgAUBgBCABQGAEIAFAYAQgAUBgBCABQGAEIAFAYAQgA\\\n",
       "UBgBCABQGAEIAFAYAQgAUBgBCABQGAEIAFAYAQgAUBgBCABQGAEIAFCYug3Ap59+Oh/5yEcye/bs\\\n",
       "TJkyJZs2bRq0vlKp5N57780FF1yQM844I4sWLcovfvGL2gwWAGAc1W0A7tu3L5dffnm6urqGXX/f\\\n",
       "ffflm9/8Zh588ME888wzOeuss7JkyZK88cYb4zxSAIDxdWqtBzBWrr322lx77bXDrqtUKrn//vtz\\\n",
       "99135/rrr0+S/P3f/31mzZqVTZs2ZdmyZeM5VACAcVW3M4DH8vLLL6enpyeLFi2qLmtsbMyVV16Z\\\n",
       "rVu3jvhz+/fvT39//6AXAMBkU2QA9vT0JElmzZo1aPmsWbOq64azdu3aNDY2Vl9z5swZ03ECAIyF\\\n",
       "IgPw7brzzjvT19dXfe3evbvWQwIAOGFFBmBzc3OSZO/evYOW7927t7puOA0NDZkxY8agFwDAZFNk\\\n",
       "AM6dOzfNzc3ZsmVLdVl/f3+eeeaZtLS01HBkAABjr26vAv7973+fl156qfr+5ZdfznPPPZeZM2fm\\\n",
       "oosuym233ZYvfelLueSSSzJ37tzcc889mT17dpYuXVq7QQMAjIO6DcCf/exn+dCHPlR9v3r16iRJ\\\n",
       "a2trNmzYkM9//vPZt29fPv3pT+fVV1/Nn/zJn+QHP/hBTj/99FoNGQBgXEypVCqVWg9isurv709j\\\n",
       "Y2P6+vqcDwgAk4Tjd6HnAAIAlEwAAgAURgACABRGAAIAFEYAAgAURgACABRGAAIAFEYAAgAURgAC\\\n",
       "ABRGAAIAFEYAAgAURgACABRGAAIAFEYAAgAURgACABRGAAIAFEYAAgAURgACABRGAAIAFEYAAgAU\\\n",
       "RgACABRGAAIAFEYAAgAURgACABRGAAIAFEYAAgAURgACABRGAAIAFEYAAgAURgACABRGAAIAFEYA\\\n",
       "AgAURgACABRGAAIAFEYAAgAURgACABRGAAIAFEYAAgAURgACABRGAAIAFEYAAgAURgBSjI6OjnR1\\\n",
       "dR1zm66urnR0dIzPgACgRk6t9QBgPHR0dGTNmjXV921tbUdt09XVlZUrVw76GQCoR2YAqXtD42/l\\\n",
       "ypVHzQQOjb81a9YIQADqlgCkrg2NvwFHRuDQ+BsgAgGoV1MqlUql1oOYrPr7+9PY2Ji+vr7MmDGj\\\n",
       "1sNhiJHi70jz5s3Ljh07jrlNe3u7EASoI47fZgCpY01NTSOuW5AFSVKNv4H3J/o5ADAZCUDqVltb\\\n",
       "Wzo7O49a3prWrMu6LMuyJMmyLMu6rEtrWo/atrOzc9gLRgBgMvMV8EkwhTw5HHmO34IsyLqsq67r\\\n",
       "S18a01h9vyqr0p3uJOIPoF45fpsBpABHzgR2pzvrs7667sj4W5/14g+AIpgBPAn+BTG5zJ8/v3rO\\\n",
       "36ZsGhR/fenL0ixNcvjCkO3bt9diiACMA8dvM4AUoqurqxp/y7JsUPwlh2cCB84J3LFjx1s+MQQA\\\n",
       "JjMBSN0beg7giqyorutLX/XXK7KiejXwcDeLBoB6IQCpa0Nv8tyd7mzIhiSHz/lbmqXVcwI3ZEP1\\\n",
       "HMBEBAJQv5wDeBKcQzCxjfSEj+TwTOCRsTf0/ZFcEAJQXxy/zQBSx3p7e0dcNxB78+bNG/T+RD8H\\\n",
       "ACYjAUjd6ujoSHt7+4jrOzs7s3379mFvFj3AY+AAqEcCkLo2UgQe+bXuSE8MEX8A1CsBSN0bGoHD\\\n",
       "ndM3NALFHwD17NRaDwDGw0DMNTU1jXhBx8Dy3t5e8QdAXXMV8ElwFREATD6O374CBgAojgAEACiM\\\n",
       "AAQAKIwABAAojAAEACiM28AwKex497xB7+ft3FGjkQDA5GcGkAnv5Y/eVOshAEBdEYBMeG90d9d6\\\n",
       "CABQVwQgE97pCxbUeggAUFeKD8Curq68853vzOmnn54rr7wyzz77bK2HxBBzv/1YTp09+/CbU05J\\\n",
       "c0f7sX8AADimogPw0UcfzerVq9Pe3p6f//znufzyy7NkyZK88sortR4aQ5z36U/l1Nmz03zP3Tl3\\\n",
       "2bJaDwcAJrWinwV85ZVX5n3ve186OzuTJIcOHcqcOXOyatWq3HHHHW/5854lCACTj+N3wTOABw4c\\\n",
       "yLZt27Jo0aLqsqlTp2bRokXZunVrDUcGADC2ir0P4G9+85scPHgws2bNGrR81qxZ2blz57A/s3//\\\n",
       "/uzfv7/6vr+/f0zHCAAwFoqdAXw71q5dm8bGxuprzpw5tR4SAMAJKzYAzzvvvJxyyinZu3fvoOV7\\\n",
       "9+5Nc3PzsD9z5513pq+vr/ravXv3eAwVAGBUFRuA06ZNy8KFC7Nly5bqskOHDmXLli1paWkZ9mca\\\n",
       "GhoyY8aMQS8AgMmm2HMAk2T16tVpbW3Ne9/73lxxxRW5//77s2/fvtx88821HhoAwJgpOgA/9rGP\\\n",
       "pbe3N/fee296enrynve8Jz/4wQ+OujAEAKCeFH0fwJPlPkIAMPk4fhd8DiAAQKkEIABAYQQgAEBh\\\n",
       "BCAAQGEEIABAYQQgAEBhBCAAQGEEIABAYQQgAEBhBCAAQGEEIABAYQQgAEBhBCAAQGEEIABAYQQg\\\n",
       "AEBhBCAAQGEEIABAYQQgAEBhBCAAQGEEIABAYQQgAEBhBCAAQGEEIABAYQQgAEBhBCAAQGEEIABA\\\n",
       "YQQgAEBhBCAAQGEEIABAYQQgAEBhBCAAQGEEIABAYQQgAEBhBCAAQGEEIABAYQQgAEBhBCAAQGEE\\\n",
       "IABAYQQgAEBhBCAAQGEEIABAYQQgAEBhBCAAQGEEIABAYQQgAEBhBCAAQGEEIABAYQQgAEBhBCAA\\\n",
       "QGEEIABAYQQgAEBhBCAAQGEEIABAYQQgAEBhBCAAQGEEIABAYQQgAEBhBCAAQGEEIABAYQQgAEBh\\\n",
       "BCAAQGEEIABAYQQgAEBhBCAAQGEEIABAYQQgAEBhBCAAQGEEIABAYQQgAEBhBCAAQGEEIABAYeoy\\\n",
       "AL/85S/nqquuyplnnplzzjln2G127dqV6667LmeeeWbOP//8fO5zn8sf/vCH8R0oAEANnFrrAYyF\\\n",
       "AwcO5KabbkpLS0v+7u/+7qj1Bw8ezHXXXZfm5ub8+Mc/zq9//ev81V/9VU477bR85StfqcGIAQDG\\\n",
       "z5RKpVKp9SDGyoYNG3Lbbbfl1VdfHbT8+9//fv7sz/4se/bsyaxZs5IkDz74YL7whS+kt7c306ZN\\\n",
       "O67P7+/vT2NjY/r6+jJjxozRHj4AMAYcv+v0K+C3snXr1lx22WXV+EuSJUuWpL+/Py+88MKIP7d/\\\n",
       "//709/cPegEATDZFBmBPT8+g+EtSfd/T0zPiz61duzaNjY3V15w5c8Z0nAAAY2HSBOAdd9yRKVOm\\\n",
       "HPO1c+fOMR3DnXfemb6+vupr9+7dY/r7AQCMhUlzEcjtt9+e5cuXH3Obd73rXcf1Wc3NzXn22WcH\\\n",
       "Ldu7d2913UgaGhrS0NBwXL8HAMBENWkCsKmpKU1NTaPyWS0tLfnyl7+cV155Jeeff36SZPPmzZkx\\\n",
       "Y0bmz58/Kr8HAMBENWkC8ETs2rUrv/3tb7Nr164cPHgwzz33XJLk4osvztlnn53Fixdn/vz5+fjH\\\n",
       "P5777rsvPT09ufvuu9PW1maGDwCoe3V5G5jly5fn4YcfPmr5k08+mauvvjpJ8h//8R+59dZb86Mf\\\n",
       "/ShnnXVWWltb89WvfjWnnnr8TewycgCYfBy/6zQAx4s/QAAw+Th+T6KrgAEAGB0CEACgMAIQAKAw\\\n",
       "AhAAoDACEACgMAIQAKAwAhAAoDACEACouY6OjnR1dR1zm66urnR0dIzPgOpcXT4KDgCYPDo6OrJm\\\n",
       "zZrq+7a2tqO26erqysqVKwf9DG+fGUAAoGaGxt/KlSuPmgkcGn9r1qwRgCdJAAIANTE0/gYcGYFD\\\n",
       "42+ACDw5ngV8EjxLEADenpHi70jz5s3Ljh07jrlNe3v7CYeg47cZQACgBpqamkZctyALkqQafwPv\\\n",
       "T/RzGJkABBhjrm6Eo7W1taWzs/Oo5a1pzbqsy7IsS5Isy7Ksy7q0pvWobTs7O4e9YIS35ipggDHk\\\n",
       "6kYY2cDfh4E//wuyIMuzPEmyIiuyLMvSmMYkyfIsz7ZsS3e6k4i/k2UGEGCMuLoR3tqRM4Hd6c76\\\n",
       "rK+uG4i/JFmf9eJvFLkI5CQ4iRQYybFOcB84eI10dWPy9k5sh8ls/vz51XP+NmXToPjrS1+WZmmS\\\n",
       "wxeGbN++/aR+L8dvM4AAo+6trm5cuXJl5s+fP2L8JWYCKUtXV1c1/o782ndAYxqr5wTu2LHjLc+p\\\n",
       "5a0JQIBR5upGOH5HzoQvyIKsyIrqur70VX+9Iiuqf1+GO52CEyMAAUaZqxvh+Aw9DaI73dmQDUkO\\\n",
       "n/O3NEur5wRuyIbqOYCJCDxZzgE8Cc4hAI5l6MzGuqyrrutL36CvuVZllRPcKcqxzoFdkAWDYm/o\\\n",
       "+yO9nb8vjt9mAAHGjKsbYWS9vb0jrhv4+zBv3rxB70/0cxiZAAQYQ21tbdWD2MZsHHROU3J4JnBj\\\n",
       "NiY5fLATf5Sio6Mj7e3tI67v7OzM9u3bhz2dYoCr5d8+AQgwhlzdCCMbKQKPnAkf6Zxa8XdyBCDA\\\n",
       "GHF1I7y1oRE43GkQQyNQ/J08j4IDGAMjXd24PMuzPuuzMRuzLMuyIiuGvboxGf6xcVCPBmKuqalp\\\n",
       "xD/3A8t7e3vF3yhwFfBJcBURMJxaXt0IvDXHb18BA4w6VzcCE50ABBhlrm4EJjoBCDAGXN0ITGQC\\\n",
       "EGCMuLoRmKhcBQwwhlzdCExErgI+Ca4iAqBoP/275H+tPnr5df8jed8t4z+e4+T47StgAODt2vLF\\\n",
       "4Zc/McJyJgwBCAC8PVNGWO67xQlPAAIAb8+f3pNMGSYlrrln/MfCCXERCMAx/F//+P/k//7XPUmS\\\n",
       "M06bmruum5+/fP87ajwqmCDed8uEPtePkZkBBDiGgfhLktffPJR7No385A6AyUIAApwApzYB9UAA\\\n",
       "ApyAkc55B5hMBCDAMfyfl8+u/vqUKckXly6o4WgARocbQZ8EN5IEgMnH8dsMIABAcQQgAEBhBGAh\\\n",
       "Ojo60tXVdcxturq6PIgeAArgRtAF6OjoyJo1a6rv29rajtqmq6srK1euHPQzAEB9MgNY54bG38qV\\\n",
       "K4+aCRwaf2vWrBGAAFDHBGAdGxp/A46MwKHxN0AEAkD9chuYkzCRLyMfKf6ONG/evOzYseOY27S3\\\n",
       "twtBAOrKRD5+jxczgHWqqalpxHULcvhGtgPxN/D+RD8HAJicBGCdamtrS2dn51HLW9OadVmXZVmW\\\n",
       "JFmWZVmXdWlN61HbdnZ2DnvBCAAwufkK+CRMhinkI8/xW5AFWZd11XV96UtjGqvvV2VVutOdRPwB\\\n",
       "UL8mw/F7rJkBrHNHzgR2pzvrs7667sj4W5/14g8ACmEG8CRMpn9BzJ8/v3rO36ZsGhR/fenL0ixN\\\n",
       "cvjCkO3bt9diiAAwLibT8XusmAEsQFdXVzX+lmXZoPhLDs8EDpwTuGPHjrd8YggAMLkJwDo39BzA\\\n",
       "FVlRXdeXvuqvV2RF9Wrg4W4WDQDUDwFYx4be5Lk73dmQDUkOn/O3NEur5wRuyIbqOYCJCASAeuYc\\\n",
       "wJMwkc8hGOkJH8nhmcAjY2/o+yO5IASAejORj9/jxQxgnert7R1x3UDszZs3b9D7E/0cAGByEoB1\\\n",
       "qqOjI+3t7SOu7+zszPbt24e9WfQAj4EDgPokAOvYSBF45Ne6Iz0xRPwBQP0SgHVuaAQOd07f0AgU\\\n",
       "fwBQ306t9QAYewMx19TUNOIFHQPLe3t7xR8A1DlXAZ8EVxEBwOTj+O0rYACA4ghAAIDCCEAAgMII\\\n",
       "QACAwghAAIDCCEAAgMIIwAnqXzd/L/+z7RP5183fq/VQAIA6U5c3gv7lL3+ZL37xi3niiSfS09OT\\\n",
       "2bNn5y//8i9z1113Zdq0adXt/u3f/i1tbW356U9/mqampqxatSqf//znazjy/9+zm76d/t+8kmc3\\\n",
       "fTv/747u7PzfTx+1zfTzmvLprodqMDoAYDKrywDcuXNnDh06lPXr1+fiiy9Od3d3PvWpT2Xfvn35\\\n",
       "+te/nuTwTSAXL16cRYsW5cEHH8zzzz+fT3ziEznnnHPy6U9/usb/CZIrln40z276dmZf+u5h4y9J\\\n",
       "XvtN7ziPCgCoB8U8CeRrX/taHnjggfz7v/97kuSBBx7IXXfdlZ6enuqs4B133JFNmzZl586dx/WZ\\\n",
       "43En8f/Z9on0/+aVYdeZAQSAE+dJIAWdA9jX15eZM2dW32/dujUf/OAHB30lvGTJkrz44ov53e9+\\\n",
       "N+xn7N+/P/39/YNeY+2KpR/N6WdNP2p5w1lniz8A4G2py6+Ah3rppZeybt266te/SdLT05O5c+cO\\\n",
       "2m7WrFnVdeeee+5Rn7N27dqsWbNmbAc7xOX/9b/l8v/638b19wQA6tukmgG84447MmXKlGO+hn59\\\n",
       "+6tf/Sof/vCHc9NNN+VTn/rUSf3+d955Z/r6+qqv3bt3n9TnAQDUwqSaAbz99tuzfPnyY27zrne9\\\n",
       "q/rrPXv25EMf+lCuuuqq/O3f/u2g7Zqbm7N3795BywbeNzc3D/vZDQ0NaWhoeBsjBwCYOCZVADY1\\\n",
       "NaWpqem4tv3Vr36VD33oQ1m4cGEeeuihTJ06eLKzpaUld911V958882cdtppSZLNmzfn0ksvHfbr\\\n",
       "XwCAejGpvgI+Xr/61a9y9dVX56KLLsrXv/719Pb2pqenJz09PdVt/uIv/iLTpk3LLbfckhdeeCGP\\\n",
       "PvpovvGNb2T16tU1HDkAwNibVDOAx2vz5s156aWX8tJLL+XCCy8ctG7grjeNjY354Q9/mLa2tixc\\\n",
       "uDDnnXde7r333glxD0AAgLFUzH0Ax4L7CAHA5OP4XadfAQMAMDIBCABQGAEIAFAYAQgAUBgBCABQ\\\n",
       "GAEIAFAYAQgAUJi6vBH0eBm4hWJ/f3+NRwIAHK+B43bJt0IWgCfhtddeS5LMmTOnxiMBAE7Ua6+9\\\n",
       "lsbGxloPoyY8CeQkHDp0KHv27Mn06dMzZcqU6vL+/v7MmTMnu3fvLvYO4xOVfTOx2T8Tl30zsdk/\\\n",
       "J6ZSqeS1117L7NmzM3VqmWfDmQE8CVOnTj3qWcNHmjFjhr+IE5R9M7HZPxOXfTOx2T/Hr9SZvwFl\\\n",
       "Zi8AQMEEIABAYQTgGGhoaEh7e3saGhpqPRSGsG8mNvtn4rJvJjb7hxPlIhAAgMKYAQQAKIwABAAo\\\n",
       "jAAEACiMAAQAKIwAHGVf/vKXc9VVV+XMM8/MOeecM+w2u3btynXXXZczzzwz559/fj73uc/lD3/4\\\n",
       "w/gOtFBdXV155zvfmdNPPz1XXnllnn322VoPqUhPP/10PvKRj2T27NmZMmVKNm3aNGh9pVLJvffe\\\n",
       "mwsuuCBnnHFGFi1alF/84he1GWxh1q5dm/e9732ZPn16zj///CxdujQvvvjioG3eeOONtLW15Y/+\\\n",
       "6I9y9tln58Ybb8zevXtrNOJyPPDAA/njP/7j6s2eW1pa8v3vf7+63n7hRAjAUXbgwIHcdNNNufXW\\\n",
       "W4ddf/DgwVx33XU5cOBAfvzjH+fhhx/Ohg0bcu+9947zSMvz6KOPZvXq1Wlvb8/Pf/7zXH755Vmy\\\n",
       "ZEleeeWVWg+tOPv27cvll1+erq6uYdffd999+eY3v5kHH3wwzzzzTM4666wsWbIkb7zxxjiPtDxP\\\n",
       "PfVU2tra8pOf/CSbN2/Om2++mcWLF2ffvn3VbT772c/mO9/5Th577LE89dRT2bNnT2644YYajroM\\\n",
       "F154Yb761a9m27Zt+dnPfpY//dM/zfXXX58XXnghif3CCaowJh566KFKY2PjUcu/973vVaZOnVrp\\\n",
       "6empLnvggQcqM2bMqOzfv38cR1ieK664otLW1lZ9f/Dgwcrs2bMra9eureGoSFJ5/PHHq+8PHTpU\\\n",
       "aW5urnzta1+rLnv11VcrDQ0NlX/8x3+swQjL9sorr1SSVJ566qlKpXJ4X5x22mmVxx57rLrNjh07\\\n",
       "KkkqW7durdUwi3XuuedWvvWtb9kvnDAzgONs69atueyyyzJr1qzqsiVLlqS/v7/6rzhG34EDB7Jt\\\n",
       "27YsWrSoumzq1KlZtGhRtm7dWsORMdTLL7+cnp6eQfuqsbExV155pX1VA319fUmSmTNnJkm2bduW\\\n",
       "N998c9D+efe7352LLrrI/hlHBw8ezMaNG7Nv3760tLTYL5ywU2s9gNL09PQMir8k1fc9PT21GFIR\\\n",
       "fvOb3+TgwYPD/ne/c+fOGo2K4Qz8PRhuX/k7Mr4OHTqU2267LR/4wAeyYMGCJIf3z7Rp0446x9n+\\\n",
       "GR/PP/98Wlpa8sYbb+Tss8/O448/nvnz5+e5556zXzghZgCPwx133JEpU6Yc8yUigHrT1taW7u7u\\\n",
       "bNy4sdZD4T9deumlee655/LMM8/k1ltvTWtra7Zv317rYTEJmQE8DrfffnuWL19+zG3e9a53Hddn\\\n",
       "NTc3H3Xl6cBVWs3NzW9rfLy18847L6eccspRV8Tt3bvXf+8TzMD+2Lt3by644ILq8r179+Y973lP\\\n",
       "jUZVnpUrV+a73/1unn766Vx44YXV5c3NzTlw4EBeffXVQbNN/i6Nj2nTpuXiiy9OkixcuDA//elP\\\n",
       "841vfCMf+9jH7BdOiBnA49DU1JR3v/vdx3xNmzbtuD6rpaUlzz///KArTzdv3pwZM2Zk/vz5Y/Uf\\\n",
       "oXjTpk3LwoULs2XLluqyQ4cOZcuWLWlpaanhyBhq7ty5aW5uHrSv+vv788wzz9hX46BSqWTlypV5\\\n",
       "/PHH88QTT2Tu3LmD1i9cuDCnnXbaoP3z4osvZteuXfZPDRw6dCj79++3XzhhZgBH2a5du/Lb3/42\\\n",
       "u3btysGDB/Pcc88lSS6++OKcffbZWbx4cebPn5+Pf/zjue+++9LT05O77747bW1taWhoqO3g69zq\\\n",
       "1avT2tqa9773vbniiity//33Z9++fbn55ptrPbTi/P73v89LL71Uff/yyy/nueeey8yZM3PRRRfl\\\n",
       "tttuy5e+9KVccsklmTt3bu65557Mnj07S5curd2gC9HW1pZHHnkk//zP/5zp06dXzx9rbGzMGWec\\\n",
       "kcbGxtxyyy1ZvXp1Zs6cmRkzZmTVqlVpaWnJ+9///hqPvr7deeedufbaa3PRRRfltddeyyOPPJIf\\\n",
       "/ehH+Zd/+Rf7hRNX68uQ601ra2slyVGvJ598srrNL3/5y8q1115bOeOMMyrnnXde5fbbb6+8+eab\\\n",
       "tRt0QdatW1e56KKLKtOmTatcccUVlZ/85Ce1HlKRnnzyyWH/nrS2tlYqlcO3grnnnnsqs2bNqjQ0\\\n",
       "NFSuueaayosvvljbQRdiuP2SpPLQQw9Vt3n99dcrn/nMZyrnnntu5cwzz6z8+Z//eeXXv/517QZd\\\n",
       "iE984hOVd7zjHZVp06ZVmpqaKtdcc03lhz/8YXW9/cKJmFKpVCrjn50AANSKcwABAAojAAEACiMA\\\n",
       "AQAKIwABAAojAAEACiMAAQAKIwABAAojAAEACiMAAQAKIwABAAojAAEACiMAAQAKIwABAAojAAEA\\\n",
       "CiMAAQAKIwABAAojAAEACiMAAQAKIwABAAojAAEACiMAAQAKIwABAAojAAEACiMAAQAKIwABAAoj\\\n",
       "AAEACiMAAQAKIwABAAojAAEACiMAAQAKIwABAArz/wEc2DfQEJ1JbQAAAABJRU5ErkJggg==\\\n",
       "\"\n",
       "  frames[3] = \"data:image/png;base64,iVBORw0KGgoAAAANSUhEUgAAAoAAAAHgCAYAAAA10dzkAAAAOXRFWHRTb2Z0d2FyZQBNYXRwbG90\\\n",
       "bGliIHZlcnNpb24zLjcuMiwgaHR0cHM6Ly9tYXRwbG90bGliLm9yZy8pXeV/AAAACXBIWXMAAA9h\\\n",
       "AAAPYQGoP6dpAAAj2ElEQVR4nO3df6zV9WHH/xdUuYrKVeYVJEKL07QwOpvg1NtujW2JaFwj05mS\\\n",
       "Je3FGsvXXkwQ000z9V6SWhrXb2fLvVOSreKyOYx/yNJ+166EIv5R1NWGTORHSmIHkV68rfVeSxQs\\\n",
       "nO8f7J7de7kXgcu9h3vej0dzEs75fO7h7T6wz5P359eESqVSCQAAxZhY6wEAADC2BCAAQGEEIABA\\\n",
       "YQQgAEBhBCAAQGEEIABAYQQgAEBhBCAAQGEEIABAYQQgAEBhBCAAQGEEIABAYQQgAEBhBCAAQGEE\\\n",
       "IABAYQQgAEBhBCAAQGEEIABAYQQgAEBhBCAAQGEEIABAYQQgAEBhBCAAQGEEIABAYQQgAEBhBCAA\\\n",
       "QGEEIABAYQQgAEBhBCAAQGEEIABAYQQgAEBhBCAAQGEEIABAYQQgAEBhBCAAQGEEIABAYQQgAEBh\\\n",
       "BCAAQGEEIABAYQQgAEBhBCAAQGEEIABAYQQgAEBhBCAAQGEEIABAYQQgAEBhBCAAQGEEIABAYQQg\\\n",
       "AEBhBCAAQGEEIABAYQQgAEBhBCAAQGEEIABAYQQgAEBhBCAAQGHOqvUAxrMjR45k3759ueCCCzJh\\\n",
       "woRaDwcAOAGVSiXvvPNOZsyYkYkTy5wLE4AjsG/fvsycObPWwwAATsHevXtz2WWX1XoYNSEAR+CC\\\n",
       "Cy5IcvQP0JQpU2o8GgDgRPT29mbmzJnV/XiJBOAI9B32nTJligAEgHGm5NO3yjzwDQBQMAEIAFAY\\\n",
       "AQgAUBgBCABQGAEIp0l7e3s6OzuPu05nZ2fa29vHZkAAMAxXAcNp0N7enpUrV1bft7a2HrNOZ2dn\\\n",
       "li1bNuBnAKAWzADCCA2Ov2XLlh0zEzg4/lauXCkAAagZAQgjMDj++vSPwMHx10cEAlArEyqVSqXW\\\n",
       "gxivent709jYmJ6eHjeCLtBw8dffnDlzsmPHjuOu09bWJgQBxpD9txlAOGVNTU3DLpuXeUlSjb++\\\n",
       "9yf7PQAwGgQgnKLW1tZ0dHQc83lLWrI6q7M4i5Mki7M4q7M6LWk5Zt2Ojo4hLxgBgNHkEPAImEIm\\\n",
       "GXiO37zMy+qsri7rSU8a01h9f0/uybZsSyL+AGrF/tsMIIxY/5nAbdmWNVlTXdY//tZkjfgD4Ixg\\\n",
       "BnAE/AuC/ubOnVs952991g+Iv570ZFEWJTl6Ycj27dtrMUQAYv+dmAGE06Kzs7Maf4uzeED8JUdn\\\n",
       "AvvOCdyxY8cHPjEEAEaTAIQRGnwO4NIsrS7rSU/110uztHo18FA3iwaAsSIAYQQG3+R5W7ZlbdYm\\\n",
       "OXrO36Isqp4TuDZrq+cAJiKQ+ubZ2HBm8yxgOEXDPeHjqTyVV/JKNfbWZV22/e//Buv7eReEUE88\\\n",
       "GxvOfGYA4RR1d3cPu6wv9ubMmTPg/cl+D4w3no0N44MAhFPU3t6etra2YZd3dHRk+/btQ94suo/H\\\n",
       "wFFPPBsbxpFKnfrGN75Rufrqqyvnn39+pampqXLLLbdUdu7cOWCdd999t/LVr361MnXq1Mp5551X\\\n",
       "ufXWWytdXV0n/Hv09PRUklR6enpO9/AZR9ra2ipJBrw6OjoGrNPR0XHMOm1tbbUZMIyCof4eDH7N\\\n",
       "mTPnA9fx94KxYP9dqdTtDODmzZvT2tqaF198MRs2bMj777+fG264IQcOHKiuc++99+b73/9+nn32\\\n",
       "2WzevDn79u3LrbfeWsNRMx4Nngkc6ibPgx8bZ+aPeuPZ2DC+FHMj6O7u7lxyySXZvHlzPv3pT6en\\\n",
       "pydNTU15+umn85d/+ZdJkp07d2bOnDnZsmVLrrvuug/8TjeSpL/29vY0NTUd94KOzs7OdHd3iz/q\\\n",
       "0lCHd1vSkiVZkjVZk3VZl8VZnKVZmrVZm6fy1IB1PSGHsWL/XVAA7t69O1deeWVeffXVzJs3Lz/5\\\n",
       "yU/yuc99Lr/97W9z4YUXVtf78Ic/nOXLl+fee+/9wO/0BwhgIM/GZjyw/y7kIpAjR45k+fLl+dSn\\\n",
       "PpV5844eeujq6sqkSZMGxF+STJs2LV1dXUN+z8GDB9Pb2zvgBcD/8WxsGB+KCMDW1tZs27Yt69at\\\n",
       "G9H3rFq1Ko2NjdXXzJkzT9MIAepHa2tr9RZI67JuwBNxkqMzgety9P8fz5kzR/xBDdR9AC5btiw/\\\n",
       "+MEPsmnTplx22WXVz6dPn55Dhw7l7bffHrD+/v37M3369CG/64EHHkhPT0/1tXfv3tEcOsC45NnY\\\n",
       "cOar2yeBVCqV3HPPPXnuuefy/PPPZ/bs2QOWz58/P2effXY2btyY2267LUmya9eu7NmzJ83NzUN+\\\n",
       "Z0NDQxoaGkZ97Iytzv/nJ9Vftz7x2RqOBMa/D3o2dl8MLs3S6hNyPBEHxl7dzgC2trbmX/7lX/L0\\\n",
       "00/nggsuSFdXV7q6uvLuu+8mSRobG3PnnXdmxYoV2bRpU1555ZXccccdaW5uPqErgAEYyLOxYfyo\\\n",
       "2xnAxx9/PEly/fXXD/j8ySefzJIlS5Ikf//3f5+JEyfmtttuy8GDB7Nw4cL8wz/8wxiPFGD882xs\\\n",
       "GF/qNgBP5O4255xzTjo7O/2rs3AO+8LIneizsXfs2OHZ2HAGqNtDwACMHc/GhvFFAAJwWgwXgf3v\\\n",
       "8zf4sYh9xB+MLQEIwGnj2dgwPtTtOYAA1EZfzB3v2dh9n3s2NtRGMc8CHg2eJQgA44/9t0PAAADF\\\n",
       "EYAAAIURgAAAhRGAAACFEYAAAIVxGxgAjvHxpz5e/fWrLa/WcCTAaDADCABQGAEIAFAYh4ABOIbD\\\n",
       "vlDfzAACABRGAAIAFEYAAgAURgACABRGAAIAFEYAAgAURgACABRGAAIAFEYAAgAURgACABRGAAIA\\\n",
       "FEYAAgAURgACABRGAAIAFEYAAgAURgACABRGAAIAFEYAAgAURgACABRGAAIAFEYAAgAURgACABRG\\\n",
       "AAIAFEYAAgAURgACABRGAAIAFEYAAgAURgACABRGAAIAFEYAAgAURgACABRGAAIAFEYAAgAURgAC\\\n",
       "ABRGAAIAFEYAAgAURgACABRGAAIAFEYAAgAURgACABRGAAIAFEYAAgAURgACABRGAAIAFEYAAgAU\\\n",
       "RgACABRGAAIAFEYAAgAURgACABRGAAIAFEYAAgAURgACABRGAAIAFEYAAgAURgACABRGAAIAFEYA\\\n",
       "AgAUpm4D8IUXXsjnP//5zJgxIxMmTMj69esHLK9UKnn44Ydz6aWX5txzz82CBQvyi1/8ojaDBQAY\\\n",
       "Q3UbgAcOHMhVV12Vzs7OIZc/+uij+e53v5snnngiL730Us4777wsXLgw77333hiPFABgbJ1V6wGM\\\n",
       "lptuuik33XTTkMsqlUoee+yxPPjgg7nllluSJP/8z/+cadOmZf369Vm8ePFYDhUAYEzV7Qzg8bz+\\\n",
       "+uvp6urKggULqp81Njbm2muvzZYtW4b9uYMHD6a3t3fACwBgvCkyALu6upIk06ZNG/D5tGnTqsuG\\\n",
       "smrVqjQ2NlZfM2fOHNVxAgCMhiID8FQ98MAD6enpqb727t1b6yEBAJy0IgNw+vTpSZL9+/cP+Hz/\\\n",
       "/v3VZUNpaGjIlClTBrwAAMabIgNw9uzZmT59ejZu3Fj9rLe3Ny+99FKam5trODIAgNFXt1cB/+53\\\n",
       "v8vu3bur719//fVs3bo1U6dOzaxZs7J8+fJ8/etfz5VXXpnZs2fnoYceyowZM7Jo0aLaDRoAYAzU\\\n",
       "bQD+7Gc/y2c+85nq+xUrViRJWlpasnbt2vz1X/91Dhw4kK985St5++2386d/+qf50Y9+lHPOOadW\\\n",
       "QwYAGBMTKpVKpdaDGK96e3vT2NiYnp4e5wMCwDhh/13oOYAAACUTgAAAhRGAAACFEYAAAIURgAAA\\\n",
       "hRGAAACFEYAAAIURgAAAhRGAAACFEYAAAIURgAAAhRGAAACFEYAAAIURgAAAhRGAAACFEYAAAIUR\\\n",
       "gAAAhRGAAACFEYAAAIURgAAAhRGAAACFEYAAAIURgAAAhRGAAACFEYAAAIURgAAAhRGAAACFEYAA\\\n",
       "AIURgAAAhRGAAACFEYAAAIURgAAAhRGAAACFEYAAAIURgAAAhRGAAACFEYAAAIURgAAAhRGAAACF\\\n",
       "EYAAAIURgAAAhRGAAACFEYDUrfb29nR2dh53nc7OzrS3t4/NgADgDHFWrQcAo6G9vT0rV66svm9t\\\n",
       "bT1mnc7OzixbtmzAzwBACcwAUncGx9+yZcuOmQkcHH8rV64UgAAUQwBSVwbHX5/+ETg4/vqIQABK\\\n",
       "MaFSqVRqPYjxqre3N42Njenp6cmUKVNqPZziDRd//c2ZMyc7duw47jptbW1CEKCO2X+bAaSONDU1\\\n",
       "DbtsXuYlSTX++t6f7PcAQD0QgNSN1tbWdHR0HPN5S1qyOquzOIuTJIuzOKuzOi1pOWbdjo6OIS8Y\\\n",
       "AYB64hDwCJhCPjP1P8dvXuZldVZXl/WkJ41prL6/J/dkW7YlEX8ApbD/NgNIHeo/E7gt27Ima6rL\\\n",
       "+sffmqwRfwAUyQzgCPgXxJlt7ty51XP+1mf9gPjrSU8WZVGSoxeGbN++vRZDBKAG7L/NAFKnOjs7\\\n",
       "q/G3OIsHxF9ydCaw75zAHTt2fOATQwCgnghA6s7gcwCXZml1WU96qr9emqXVq4GHulk0ANQrAUhd\\\n",
       "GXyT523ZlrVZm+ToOX+Lsqh6TuDarK2eA5iIQADK4RzAEXAOwZlluCd8JEdnAvvH3uD3/bkgBKC+\\\n",
       "2X+bAaSOdHd3D7usL/bmzJkz4P3Jfg8A1AMBSN1ob29PW1vbsMs7Ojqyffv2IW8W3cdj4AAogQCk\\\n",
       "rgwXgf0P6w73xBDxB0ApBCB1Z3AEDnVO3+AIFH8AlOSsWg8ARkNfzDU1NQ17QUff593d3eIPgKK4\\\n",
       "CngEXEUEAOOP/bdDwAAAxRGAAACFEYAAAIURgAAAhRGAAACFcRsYzkg7Pjan+us5O3fUcCQAUH/M\\\n",
       "AAIAFEYAAgAUxiFgzkgO+wLA6Cl+BrCzszMf+chHcs455+Taa6/Nyy+/XOshAQCMqqID8JlnnsmK\\\n",
       "FSvS1taWn//857nqqquycOHCvPnmm7UeGgDAqCk6AL/97W/nrrvuyh133JG5c+fmiSeeyOTJk/O9\\\n",
       "732v1kMDABg1xQbgoUOH8sorr2TBggXVzyZOnJgFCxZky5YtQ/7MwYMH09vbO+AFADDeFBuAv/71\\\n",
       "r3P48OFMmzZtwOfTpk1LV1fXkD+zatWqNDY2Vl8zZ84ci6ECAJxWxQbgqXjggQfS09NTfe3du7fW\\\n",
       "QwIAOGnF3gbm4osvzoc+9KHs379/wOf79+/P9OnTh/yZhoaGNDQ0jMXwAABGTbEzgJMmTcr8+fOz\\\n",
       "cePG6mdHjhzJxo0b09zcXMORAQCMrmJnAJNkxYoVaWlpydVXX51rrrkmjz32WA4cOJA77rij1kMD\\\n",
       "ABg1RQfgF77whXR3d+fhhx9OV1dXPvGJT+RHP/rRMReGAADUkwmVSqVS60GMV729vWlsbExPT0+m\\\n",
       "TJlS6+EAACfA/rvgcwABAEolAAEACiMAAQAKIwABAAojAAEACiMAAQAKIwABAAojAAEACiMAAQAK\\\n",
       "IwABAAojAAEACiMAAQAKIwABAAojAAEACiMAAQAKIwABAAojAAEACiMAAQAKIwABAAojAAEACiMA\\\n",
       "AQAKIwABAAojAAEACiMAAQAKIwABAAojAAEACiMAAQAKIwABAAojAAEACiMAAQAKIwABAAojAAEA\\\n",
       "CiMAAQAKIwABAAojAAEACiMAAQAKIwABAAojAAEACiMAAQAKIwABAAojAAEACiMAAQAKIwABAAoj\\\n",
       "AAEACiMAAQAKIwABAAojAAEACiMAAQAKIwABAAojAAEACiMAAQAKIwABAAojAAEACiMAAQAKIwAB\\\n",
       "AAojAAEACiMAAQAKIwABAAojAAEACiMAAQAKIwABAAojAAEACiMAAQAKIwABAAojAAEACiMAAQAK\\\n",
       "IwABAAojAAEACiMAAQAKIwABAAojAAEAClOXAfjII4/kk5/8ZCZPnpwLL7xwyHX27NmTm2++OZMn\\\n",
       "T84ll1ySr33ta/n9738/tgMFAKiBs2o9gNFw6NCh3H777Wlubs4//dM/HbP88OHDufnmmzN9+vT8\\\n",
       "9Kc/za9+9at86Utfytlnn51vfOMbNRgxAMDYmVCpVCq1HsRoWbt2bZYvX5633357wOc//OEP8+d/\\\n",
       "/ufZt29fpk2bliR54okn8jd/8zfp7u7OpEmTTuj7e3t709jYmJ6enkyZMuV0Dx8AGAX233V6CPiD\\\n",
       "bNmyJR//+Mer8ZckCxcuTG9vb1577bVhf+7gwYPp7e0d8AIAGG+KDMCurq4B8Zek+r6rq2vYn1u1\\\n",
       "alUaGxurr5kzZ47qOAEARsO4CcD7778/EyZMOO5r586dozqGBx54ID09PdXX3r17R/X3AwAYDePm\\\n",
       "IpD77rsvS5YsOe46l19++Ql91/Tp0/Pyyy8P+Gz//v3VZcNpaGhIQ0PDCf0eAABnqnETgE1NTWlq\\\n",
       "ajot39Xc3JxHHnkkb775Zi655JIkyYYNGzJlypTMnTv3tPweAABnqnETgCdjz549eeutt7Jnz54c\\\n",
       "Pnw4W7duTZJcccUVOf/883PDDTdk7ty5+eIXv5hHH300XV1defDBB9Pa2mqGDwCoe3V5G5glS5bk\\\n",
       "qaeeOubzTZs25frrr0+S/M///E/uvvvuPP/88znvvPPS0tKSb37zmznrrBNvYpeRA8D4Y/9dpwE4\\\n",
       "VvwBAoDxx/57HF0FDADA6SEAAQAKIwABAAojAAEACiMAAQAKIwABAAojAAGAmmtvb09nZ+dx1+ns\\\n",
       "7Ex7e/vYDKjO1eWTQACA8aO9vT0rV66svm9tbT1mnc7OzixbtmzAz3DqzAACADUzOP6WLVt2zEzg\\\n",
       "4PhbuXKlABwhAQgA1MTg+OvTPwIHx18fETgyHgU3Ah4lAwCnZrj462/OnDnZsWPHcddpa2s76RC0\\\n",
       "/zYDCADUQFNT07DL5mVeklTjr+/9yX4PwxOAAMCYa21tTUdHxzGft6Qlq7M6i7M4SbI4i7M6q9OS\\\n",
       "lmPW7ejoGPKCET6YAAQYBW5pAR9scATOy7wsyZIkydIszfqsz9IsTZIsyZIBM4Hib2TcBgbgNHNL\\\n",
       "CzhxfX8/li1blm3ZljVZU42+xjRW11uTNdmWbUnE3+ngIpARcBIpMNhQJ7YP3lkNdVXjqZzIDvVk\\\n",
       "7ty51XP+1mf9gPjrSU8WZVGSoxeGbN++fUS/l/23Q8AAp41bWsCp6ezsrMbf4iweEH/J0ZnAvnMC\\\n",
       "d+zY8YGnV/DBzACOgH9BAH1qeUsLGM/6/6NoXuZldVZXl/WkZ0AM3pN7TsthYPtvM4AAp4VbWsDJ\\\n",
       "Gzwjvi3bsjZrkxw9529RFmVN1iRJ1mZtNf6SoZ8YwokzAzgC/gUB9DfU4d2WtGRJlmRN1mRd1mVx\\\n",
       "FmdplmZt1uapPDVgXSe2U5LhTodIjv4jqX/sDX7f36n8vbH/NgMIcNq4pQWcuO7u7mGX9cXenDlz\\\n",
       "Brw/2e9heAIQ4DTqH4F9t7To45YW8H/a29vT1tY27PKOjo5s3759yJtF93HO7KlzCHgETCEDwxnL\\\n",
       "W1rAeFaLWyfZf5sBBDjt3NICTtzgmcChZsQHn15h5m/kPAkE4DQafEuLvnP+koG3tFiapdn2v//r\\\n",
       "W99hYErVF3NNTU3D/j3o+7y7u1v8nQYOAY+AKWSgP1cBw/hg/y0AR8QfIKBPLW9pAZwc+2/nAAKc\\\n",
       "Fm5pAYwnAhDgNHBLC2A8EYAAp8lwEdj/sO7gqxn7iD9gLAlAgNPILS2A8cBtYABOM7e0AM50rgIe\\\n",
       "AVcRAUCS9n43O2/vqd04TpD9t0PAAADFEYAAAIVxDiAAMDLj4LAvA5kBBAAojBlAgCF85P7/r/rr\\\n",
       "X37z5hqOBOD0MwMIAFAYAQgAUBiHgAGG4LAvUM/MAAIAFEYAAgAURgACABRGANah9vb2dHZ2Hned\\\n",
       "zs5OD6AHgEK5CKTOtLe3Z+XKldX3ra2tx6zT2dmZZcuWDfgZAKAcZgDryOD4W7Zs2TEzgYPjb+XK\\\n",
       "lQIQAAojAOvE4Pjr0z8CB8dfHxEIAGWZUKlUKrUexHjV29ubxsbG9PT0ZMqUKTUbx3Dx19+cOXOy\\\n",
       "Y8eO467T1tYmBAGoe2fK/ruWzADWgaampmGXzcu8JKnGX9/7k/0eAKB+CMA60Nramo6OjmM+b0lL\\\n",
       "Vmd1FmdxkmRxFmd1VqclLces29HRMeQFIwBA/XEIeATOtCnk/uf4zcu8rM7q6rKe9KQxjdX39+Se\\\n",
       "bMu2JOIPgLKcafvvWjADWEf6zwRuy7asyZrqsv7xtyZrxB8AFMwM4Aicqf+CmDt3bvWcv/VZPyD+\\\n",
       "etKTRVmU5OiFIdu3b6/FEAGgZs7U/fdYMgNYZzo7O6vxtziLB8RfcnQmsO+cwB07dnzgE0MAgPoj\\\n",
       "AOvI4HMAl2ZpdVlPeqq/Xpql1auBh7pZNABQ3wRgnRh8k+dt2Za1WZvk6Dl/i7Koek7g2qytngOY\\\n",
       "iEAAKI1zAEfgTDmHYLgnfCRHZwL7x97g9/25IASAEpwp++9aMgNYB7q7u4dd1hd7c+bMGfD+ZL8H\\\n",
       "AKgfArAOtLe3p62tbdjlHR0d2b59+5A3i+7jMXAAUA4BWCeGi8D+h3WHe2KI+AOAsgjAOjI4Aoc6\\\n",
       "p29wBIo/ACjPWbUeAKdXX8w1NTUNe0FH3+fd3d3iDwAK5CrgEXAVEQCMP/bfDgEDABRHAAIAFEYA\\\n",
       "AgAURgACABRGAAIAFEYAAgAUpi4D8Je//GXuvPPOzJ49O+eee27+8A//MG1tbTl06NCA9f77v/87\\\n",
       "f/Znf5ZzzjknM2fOzKOPPlqjEQMAjJ26vBH0zp07c+TIkaxZsyZXXHFFtm3blrvuuisHDhzIt771\\\n",
       "rSRH7wF0ww03ZMGCBXniiSfy6quv5stf/nIuvPDCfOUrX6nxf0Hy/37hz6u/vu+ZH9RwJABAvanL\\\n",
       "ALzxxhtz4403Vt9ffvnl2bVrVx5//PFqAP7rv/5rDh06lO9973uZNGlS/uiP/ihbt27Nt7/97TMi\\\n",
       "AAEARktdHgIeSk9PT6ZOnVp9v2XLlnz605/OpEmTqp8tXLgwu3btym9/+9taDBEAYEzU5QzgYLt3\\\n",
       "787q1aurs39J0tXVldmzZw9Yb9q0adVlF1100THfc/DgwRw8eLD6vre3d5RG7LAvADB6xtUM4P33\\\n",
       "358JEyYc97Vz584BP/PGG2/kxhtvzO2335677rprRL//qlWr0tjYWH3NnDlzRN8HAFALEyqVSqXW\\\n",
       "gzhR3d3d+c1vfnPcdS6//PLqYd19+/bl+uuvz3XXXZe1a9dm4sT/690vfelL6e3tzfr166ufbdq0\\\n",
       "KZ/97Gfz1ltvnfAM4MyZM4t+mDQAjDe9vb1pbGwsev89rg4BNzU1pamp6YTWfeONN/KZz3wm8+fP\\\n",
       "z5NPPjkg/pKkubk5f/u3f5v3338/Z599dpJkw4YN+ehHPzpk/CVJQ0NDGhoaRvYfAQBQY+PqEPCJ\\\n",
       "euONN3L99ddn1qxZ+da3vpXu7u50dXWlq6urus5f/dVfZdKkSbnzzjvz2muv5Zlnnsl3vvOdrFix\\\n",
       "ooYjBwAYfeNqBvBEbdiwIbt3787u3btz2WWXDVjWd8S7sbExP/7xj9Pa2pr58+fn4osvzsMPP+wW\\\n",
       "MABA3RtX5wCeaZxDAADjj/13nR4CBgBgeAIQAKAwAhAAoDACEACgMAIQAKAwAhAAoDACEACgMHV5\\\n",
       "I+ix0ncLxd7e3hqPBAA4UX377ZJvhSwAR+A3v/lNkmTmzJk1HgkAcLLeeeedNDY21noYNSEAR2Dq\\\n",
       "1KlJkj179hT7B+hM19vbm5kzZ2bv3r3F3u39TGcbndlsnzOfbXTyKpVK3nnnncyYMaPWQ6kZATgC\\\n",
       "EycePYWysbHRX7oz3JQpU2yjM5xtdGazfc58ttHJKX3ixkUgAACFEYAAAIURgCPQ0NCQtra2NDQ0\\\n",
       "1HooDMM2OvPZRmc22+fMZxtxKiZUSr4GGgCgQGYAAQAKIwABAAojAAEACiMAAQAKIwBP0SOPPJJP\\\n",
       "fvKTmTx5ci688MIh19mzZ09uvvnmTJ48OZdcckm+9rWv5fe///3YDrRwnZ2d+chHPpJzzjkn1157\\\n",
       "bV5++eVaD6lIL7zwQj7/+c9nxowZmTBhQtavXz9geaVSycMPP5xLL7005557bhYsWJBf/OIXtRls\\\n",
       "oVatWpU/+ZM/yQUXXJBLLrkkixYtyq5duwas895776W1tTV/8Ad/kPPPPz+33XZb9u/fX6MRl+Xx\\\n",
       "xx/PH//xH1dv9tzc3Jwf/vCH1eW2DSdLAJ6iQ4cO5fbbb8/dd9895PLDhw/n5ptvzqFDh/LTn/40\\\n",
       "Tz31VNauXZuHH354jEdarmeeeSYrVqxIW1tbfv7zn+eqq67KwoUL8+abb9Z6aMU5cOBArrrqqnR2\\\n",
       "dg65/NFHH813v/vdPPHEE3nppZdy3nnnZeHChXnvvffGeKTl2rx5c1pbW/Piiy9mw4YNef/993PD\\\n",
       "DTfkwIED1XXuvffefP/738+zzz6bzZs3Z9++fbn11ltrOOpyXHbZZfnmN7+ZV155JT/72c/y2c9+\\\n",
       "Nrfccktee+21JLYNp6DCiDz55JOVxsbGYz7/j//4j8rEiRMrXV1d1c8ef/zxypQpUyoHDx4cwxGW\\\n",
       "65prrqm0trZW3x8+fLgyY8aMyqpVq2o4KpJUnnvuuer7I0eOVKZPn175u7/7u+pnb7/9dqWhoaHy\\\n",
       "b//2bzUYIZVKpfLmm29WklQ2b95cqVSObpOzzz678uyzz1bX2bFjRyVJZcuWLbUaZtEuuuiiyj/+\\\n",
       "4z/aNpwSM4CjZMuWLfn4xz+eadOmVT9buHBhent7q/9iY/QcOnQor7zyShYsWFD9bOLEiVmwYEG2\\\n",
       "bNlSw5Ex2Ouvv56urq4B26qxsTHXXnutbVVDPT09SZKpU6cmSV555ZW8//77A7bTxz72scyaNct2\\\n",
       "GmOHDx/OunXrcuDAgTQ3N9s2nJKzaj2AetXV1TUg/pJU33d1ddViSEX59a9/ncOHDw+5DXbu3Fmj\\\n",
       "UTGUvr8PQ20rf1dq48iRI1m+fHk+9alPZd68eUmObqdJkyYdc86z7TR2Xn311TQ3N+e9997L+eef\\\n",
       "n+eeey5z587N1q1bbRtOmhnAfu6///5MmDDhuC/xANS71tbWbNu2LevWrav1UOjnox/9aLZu3ZqX\\\n",
       "Xnopd999d1paWrJ9+/ZaD4txygxgP/fdd1+WLFly3HUuv/zyE/qu6dOnH3PFad8VWdOnTz+l8XHi\\\n",
       "Lr744nzoQx865iq4/fv3+7//GaZve+zfvz+XXnpp9fP9+/fnE5/4RI1GVa5ly5blBz/4QV544YVc\\\n",
       "dtll1c+nT5+eQ4cO5e233x4w0+Tv1NiZNGlSrrjiiiTJ/Pnz81//9V/5zne+ky984Qu2DSfNDGA/\\\n",
       "TU1N+djHPnbc16RJk07ou5qbm/Pqq68OuOJ0w4YNmTJlSubOnTta/wn8r0mTJmX+/PnZuHFj9bMj\\\n",
       "R45k48aNaW5uruHIGGz27NmZPn36gG3V29ubl156ybYaQ5VKJcuWLctzzz2Xn/zkJ5k9e/aA5fPn\\\n",
       "z8/ZZ589YDvt2rUre/bssZ1q5MiRIzl48KBtwykxA3iK9uzZk7feeit79uzJ4cOHs3Xr1iTJFVdc\\\n",
       "kfPPPz833HBD5s6dmy9+8Yt59NFH09XVlQcffDCtra1paGio7eALsWLFirS0tOTqq6/ONddck8ce\\\n",
       "eywHDhzIHXfcUeuhFed3v/tddu/eXX3/+uuvZ+vWrZk6dWpmzZqV5cuX5+tf/3quvPLKzJ49Ow89\\\n",
       "9FBmzJiRRYsW1W7QhWltbc3TTz+df//3f88FF1xQPXessbEx5557bhobG3PnnXdmxYoVmTp1aqZM\\\n",
       "mZJ77rknzc3Nue6662o8+vr3wAMP5KabbsqsWbPyzjvv5Omnn87zzz+f//zP/7RtODW1vgx5vGpp\\\n",
       "aakkOea1adOm6jq//OUvKzfddFPl3HPPrVx88cWV++67r/L+++/XbtAFWr16dWXWrFmVSZMmVa65\\\n",
       "5prKiy++WOshFWnTpk1D/n1paWmpVCpHbwXz0EMPVaZNm1ZpaGiofO5zn6vs2rWrtoMuzFDbJ0nl\\\n",
       "ySefrK7z7rvvVr761a9WLrroosrkyZMrf/EXf1H51a9+VbtBF+TLX/5y5cMf/nBl0qRJlaampsrn\\\n",
       "Pve5yo9//OPqctuGkzWhUqlUxj47AQCoFecAAgAURgACABRGAAIAFEYAAgAURgACABRGAAIAFEYA\\\n",
       "AgAURgACABRGAAIAFEYAAgAURgACABRGAAIAFEYAAgAURgACABRGAAIAFEYAAgAURgACABRGAAIA\\\n",
       "FEYAAgAURgACABRGAAIAFEYAAgAURgACABRGAAIAFEYAAgAURgACABRGAAIAFEYAAgAURgACABRG\\\n",
       "AAIAFEYAAgAU5v8HGjCyxFOSWoAAAAAASUVORK5CYII=\\\n",
       "\"\n",
       "  frames[4] = \"data:image/png;base64,iVBORw0KGgoAAAANSUhEUgAAAoAAAAHgCAYAAAA10dzkAAAAOXRFWHRTb2Z0d2FyZQBNYXRwbG90\\\n",
       "bGliIHZlcnNpb24zLjcuMiwgaHR0cHM6Ly9tYXRwbG90bGliLm9yZy8pXeV/AAAACXBIWXMAAA9h\\\n",
       "AAAPYQGoP6dpAAAj20lEQVR4nO3db4yV5YH//w9UGUVllHUEidDialpYujbBVafdbWxLROM2srqm\\\n",
       "ZJN2sMbys4MJYrqrWXWGpJbG7bdry8wqyW7Fza6L8YFs2t+2W0IRHxR1a0NW5E9KYhciHZzWOmOJ\\\n",
       "goXzfcB3zs4MMwgMM4c51+tlTjLn3PccLj2M93uu+9+ESqVSCQAAxZhY6wEAADC2BCAAQGEEIABA\\\n",
       "YQQgAEBhBCAAQGEEIABAYQQgAEBhBCAAQGEEIABAYQQgAEBhBCAAQGEEIABAYQQgAEBhBCAAQGEE\\\n",
       "IABAYQQgAEBhBCAAQGEEIABAYQQgAEBhBCAAQGEEIABAYQQgAEBhBCAAQGEEIABAYQQgAEBhBCAA\\\n",
       "QGEEIABAYQQgAEBhBCAAQGEEIABAYQQgAEBhBCAAQGEEIABAYQQgAEBhBCAAQGEEIABAYQQgAEBh\\\n",
       "BCAAQGEEIABAYQQgAEBhBCAAQGEEIABAYQQgAEBhBCAAQGEEIABAYQQgAEBhBCAAQGEEIABAYQQg\\\n",
       "AEBhBCAAQGEEIABAYQQgAEBhBCAAQGEEIABAYQQgAEBhBCAAQGHOqvUAxrMjR45k3759ueCCCzJh\\\n",
       "woRaDwcAOAGVSiXvvPNOZsyYkYkTy5wLE4AjsG/fvsycObPWwwAATsHevXtz2WWX1XoYNSEAR+CC\\\n",
       "Cy5IcvQv0JQpU2o8GgDgRPT29mbmzJnV7XiJBOAI9O32nTJligAEgHGm5MO3ytzxDQBQMAEIAFAY\\\n",
       "AQgAUBgBCABQGAEIp0l7e3s6OzuPu05nZ2fa29vHZkAAMAxnAcNp0N7enpUrV1aft7a2HrNOZ2dn\\\n",
       "li1bNuB7AKAWzADCCA2Ov2XLlh0zEzg4/lauXCkAAagZAQgjMDj++vSPwMHx10cEAlArEyqVSqXW\\\n",
       "gxivent709jYmJ6eHheCLtBw8dffnDlzsmPHjuOu09bWJgQBxpDttxlAOGVNTU3DLpuXeUlSjb++\\\n",
       "5yf7PgAwGgQgnKLW1tZ0dHQc83pLWrI6q7M4i5Mki7M4q7M6LWk5Zt2Ojo4hTxgBgNFkF/AImEIm\\\n",
       "GXiM37zMy+qsri7rSU8a01h9fk/uybZsSyL+AGrF9tsMIIxY/5nAbdmWNVlTXdY//tZkjfgD4Ixg\\\n",
       "BnAE/AZBf3Pnzq0e87c+6wfEX096siiLkhw9MWT79u21GCIAsf1OzADCadHZ2VmNv8VZPCD+kqMz\\\n",
       "gX3HBO7YseMD7xgCAKNJAMIIDT4GcGmWVpf1pKf69dIsrZ4NPNTFogFgrAhAGIHBF3nelm1Zm7VJ\\\n",
       "jh7ztyiLqscErs3a6jGAiQikvrk3NpzZ3AsYTtFwd/h4Kk/llbxSjb11WZdt/++fwfq+3wkh1BP3\\\n",
       "xoYznxlAOEXd3d3DLuuLvTlz5gx4frLvA+ONe2PD+CAA4RS1t7enra1t2OUdHR3Zvn37kBeL7uM2\\\n",
       "cNQT98aGcaRSp77xjW9Urr766sr5559faWpqqtxyyy2VnTt3Dljn3XffrXz1q1+tTJ06tXLeeedV\\\n",
       "br311kpXV9cJ/xk9PT2VJJWenp7TPXzGkba2tkqSAY+Ojo4B63R0dByzTltbW20GDKNgqJ+DwY85\\\n",
       "c+Z84Dp+LhgLtt+VSt3OAG7evDmtra158cUXs2HDhrz//vu54YYbcuDAgeo69957b77//e/n2Wef\\\n",
       "zebNm7Nv377ceuutNRw149HgmcChLvI8+LZxZv6oN+6NDeNLMReC7u7uziWXXJLNmzfn05/+dHp6\\\n",
       "etLU1JSnn346f/mXf5kk2blzZ+bMmZMtW7bkuuuu+8D3dCFJ+mtvb09TU9NxT+jo7OxMd3e3+KMu\\\n",
       "DbV7tyUtWZIlWZM1WZd1WZzFWZqlWZu1eSpPDVjXHXIYK7bfBQXg7t27c+WVV+bVV1/NvHnz8pOf\\\n",
       "/CSf+9zn8tvf/jYXXnhhdb0Pf/jDWb58ee69994PfE9/gQAGcm9sxgPb70JOAjly5EiWL1+eT33q\\\n",
       "U5k37+iuh66urkyaNGlA/CXJtGnT0tXVNeT7HDx4ML29vQMeAPwv98aG8aGIAGxtbc22bduybt26\\\n",
       "Eb3PqlWr0tjYWH3MnDnzNI0QoH60trZWL4G0LusG3BEnOToTuC5H/388Z84c8Qc1UPcBuGzZsvzg\\\n",
       "Bz/Ipk2bctlll1Vfnz59eg4dOpS33357wPr79+/P9OnTh3yvBx54ID09PdXH3r17R3PoAOOSe2PD\\\n",
       "ma9u7wRSqVRyzz335Lnnnsvzzz+f2bNnD1g+f/78nH322dm4cWNuu+22JMmuXbuyZ8+eNDc3D/me\\\n",
       "DQ0NaWhoGPWxM7Y6/7+fVL9ufeKzNRwJjH8fdG/svhhcmqXVO+S4Iw6MvbqdAWxtbc2//Mu/5Omn\\\n",
       "n84FF1yQrq6udHV15d13302SNDY25s4778yKFSuyadOmvPLKK7njjjvS3Nx8QmcAAzCQe2PD+FG3\\\n",
       "M4CPP/54kuT6668f8PqTTz6ZJUuWJEn+/u//PhMnTsxtt92WgwcPZuHChfmHf/iHMR4pwPjn3tgw\\\n",
       "vtRtAJ7I1W3OOeecdHZ2+q2zcHb7wsid6L2xd+zY4d7YcAao213AAIwd98aG8UUAAnBaDBeB/a/z\\\n",
       "N/i2iH3EH4wtAQjAaePe2DA+1O0xgADURl/MHe/e2H2vuzc21EYx9wIeDe4lCADjj+23XcAAAMUR\\\n",
       "gAAAhRGAAACFEYAAAIURgAAAhXEZGACO8fGnPl79+tWWV2s4EmA0mAEEACiMAAQAKIxdwAAcw25f\\\n",
       "qG9mAAEACiMAAQAKIwABAAojAAEACiMAAQAKIwABAAojAAEACiMAAQAKIwABAAojAAEACiMAAQAK\\\n",
       "IwABAAojAAEACiMAAQAKIwABAAojAAEACiMAAQAKIwABAAojAAEACiMAAQAKIwABAAojAAEACiMA\\\n",
       "AQAKIwABAAojAAEACiMAAQAKIwABAAojAAEACiMAAQAKIwABAAojAAEACiMAAQAKIwABAAojAAEA\\\n",
       "CiMAAQAKIwABAAojAAEACiMAAQAKIwABAAojAAEACiMAAQAKIwABAAojAAEACiMAAQAKIwABAAoj\\\n",
       "AAEACiMAAQAKIwABAAojAAEACiMAAQAKIwABAAojAAEACiMAAQAKIwABAAojAAEACiMAAQAKIwAB\\\n",
       "AApTtwH4wgsv5POf/3xmzJiRCRMmZP369QOWVyqVPPzww7n00ktz7rnnZsGCBfnFL35Rm8ECAIyh\\\n",
       "ug3AAwcO5KqrrkpnZ+eQyx999NF897vfzRNPPJGXXnop5513XhYuXJj33ntvjEcKADC2zqr1AEbL\\\n",
       "TTfdlJtuumnIZZVKJY899lgefPDB3HLLLUmSf/7nf860adOyfv36LF68eCyHCgAwpup2BvB4Xn/9\\\n",
       "9XR1dWXBggXV1xobG3Pttddmy5Ytw37fwYMH09vbO+ABADDeFBmAXV1dSZJp06YNeH3atGnVZUNZ\\\n",
       "tWpVGhsbq4+ZM2eO6jgBAEZDkQF4qh544IH09PRUH3v37q31kAAATlqRATh9+vQkyf79+we8vn//\\\n",
       "/uqyoTQ0NGTKlCkDHgAA402RATh79uxMnz49GzdurL7W29ubl156Kc3NzTUcGQDA6Kvbs4B/97vf\\\n",
       "Zffu3dXnr7/+erZu3ZqpU6dm1qxZWb58eb7+9a/nyiuvzOzZs/PQQw9lxowZWbRoUe0GDQAwBuo2\\\n",
       "AH/2s5/lM5/5TPX5ihUrkiQtLS1Zu3Zt/vqv/zoHDhzIV77ylbz99tv50z/90/zoRz/KOeecU6sh\\\n",
       "AwCMiQmVSqVS60GMV729vWlsbExPT4/jAQFgnLD9LvQYQACAkglAAIDCCEAAgMIIQACAwghAAIDC\\\n",
       "CEAAgMIIQACAwghAAIDCCEAAgMIIQACAwghAAIDCCEAAgMIIQACAwghAAIDCCEAAgMIIQACAwghA\\\n",
       "AIDCCEAAgMIIQACAwghAAIDCCEAAgMIIQACAwghAAIDCCEAAgMIIQACAwghAAIDCCEAAgMIIQACA\\\n",
       "wghAAIDCCEAAgMIIQACAwghAAIDCCEAAgMIIQACAwghAAIDCCEAAgMIIQACAwghAAIDCCEAAgMII\\\n",
       "QACAwghAAIDCCEAAgMIIQOpWe3t7Ojs7j7tOZ2dn2tvbx2ZAAHCGOKvWA4DR0N7enpUrV1aft7a2\\\n",
       "HrNOZ2dnli1bNuB7AKAEZgCpO4Pjb9myZcfMBA6Ov5UrVwpAAIohAKkrg+OvT/8IHBx/fUQgAKWY\\\n",
       "UKlUKrUexHjV29ubxsbG9PT0ZMqUKbUeTvGGi7/+5syZkx07dhx3nba2NiEIUMdsv80AUkeampqG\\\n",
       "XTYv85KkGn99z0/2fQCgHghA6kZra2s6OjqOeb0lLVmd1VmcxUmSxVmc1VmdlrQcs25HR8eQJ4wA\\\n",
       "QD2xC3gETCGfmfof4zcv87I6q6vLetKTxjRWn9+Te7It25KIP4BS2H6bAaQO9Z8J3JZtWZM11WX9\\\n",
       "429N1og/AIpkBnAE/AZxZps7d271mL/1WT8g/nrSk0VZlOToiSHbt2+vxRABqAHbbzOA1KnOzs5q\\\n",
       "/C3O4gHxlxydCew7JnDHjh0feMcQAKgnApC6M/gYwKVZWl3Wk57q10uztHo28FAXiwaAeiUAqSuD\\\n",
       "L/K8LduyNmuTHD3mb1EWVY8JXJu11WMAExEIQDkcAzgCjiE4swx3h4/k6Exg/9gb/Lw/J4QA1Dfb\\\n",
       "bzOA1JHu7u5hl/XF3pw5cwY8P9n3AYB6IACpG+3t7Wlraxt2eUdHR7Zv3z7kxaL7uA0cACUQgNSV\\\n",
       "4SKw/27d4e4YIv4AKIUApO4MjsChjukbHIHiD4CSnFXrAcBo6Iu5pqamYU/o6Hu9u7tb/AFQFGcB\\\n",
       "j4CziABg/LH9tgsYAKA4AhAAoDACEACgMAIQAKAwAhAAoDAuA8MZacfH5lS/nrNzRw1HAgD1xwwg\\\n",
       "AEBhBCAAQGHsAuaMZLcvAIye4mcAOzs785GPfCTnnHNOrr322rz88su1HhIAwKgqOgCfeeaZrFix\\\n",
       "Im1tbfn5z3+eq666KgsXLsybb75Z66EBAIyaogPw29/+du66667ccccdmTt3bp544olMnjw53/ve\\\n",
       "92o9NACAUVNsAB46dCivvPJKFixYUH1t4sSJWbBgQbZs2TLk9xw8eDC9vb0DHgAA402xAfjrX/86\\\n",
       "hw8fzrRp0wa8Pm3atHR1dQ35PatWrUpjY2P1MXPmzLEYKgDAaVVsAJ6KBx54ID09PdXH3r17az0k\\\n",
       "AICTVuxlYC6++OJ86EMfyv79+we8vn///kyfPn3I72loaEhDQ8NYDA8AYNQUOwM4adKkzJ8/Pxs3\\\n",
       "bqy+duTIkWzcuDHNzc01HBkAwOgqdgYwSVasWJGWlpZcffXVueaaa/LYY4/lwIEDueOOO2o9NACA\\\n",
       "UVN0AH7hC19Id3d3Hn744XR1deUTn/hEfvSjHx1zYggAQD2ZUKlUKrUexHjV29ubxsbG9PT0ZMqU\\\n",
       "KbUeDgBwAmy/Cz4GEACgVAIQAKAwAhAAoDACEACgMAIQAKAwAhAAoDACEACgMAIQAKAwAhAAoDAC\\\n",
       "EACgMAIQAKAwAhAAoDACEACgMAIQAKAwAhAAoDACEACgMAIQAKAwAhAAoDACEACgMAIQAKAwAhAA\\\n",
       "oDACEACgMAIQAKAwAhAAoDACEACgMAIQAKAwAhAAoDACEACgMAIQAKAwAhAAoDACEACgMAIQAKAw\\\n",
       "AhAAoDACEACgMAIQAKAwAhAAoDACEACgMAIQAKAwAhAAoDACEACgMAIQAKAwAhAAoDACEACgMAIQ\\\n",
       "AKAwAhAAoDACEACgMAIQAKAwAhAAoDACEACgMAIQAKAwAhAAoDACEACgMAIQAKAwAhAAoDACEACg\\\n",
       "MAIQAKAwAhAAoDACEACgMAIQAKAwAhAAoDACEACgMAIQAKAwAhAAoDACEACgMAIQAKAwAhAAoDAC\\\n",
       "EACgMAIQAKAwAhAAoDACEACgMAIQAKAwdRmAjzzySD75yU9m8uTJufDCC4dcZ8+ePbn55pszefLk\\\n",
       "XHLJJfna176W3//+92M7UACAGjir1gMYDYcOHcrtt9+e5ubm/NM//dMxyw8fPpybb74506dPz09/\\\n",
       "+tP86le/ype+9KWcffbZ+cY3vlGDEQMAjJ0JlUqlUutBjJa1a9dm+fLlefvttwe8/sMf/jB//ud/\\\n",
       "nn379mXatGlJkieeeCJ/8zd/k+7u7kyaNOmE3r+3tzeNjY3p6enJlClTTvfwAYBRYPtdp7uAP8iW\\\n",
       "LVvy8Y9/vBp/SbJw4cL09vbmtddeG/b7Dh48mN7e3gEPAIDxpsgA7OrqGhB/SarPu7q6hv2+VatW\\\n",
       "pbGxsfqYOXPmqI4TAGA0jJsAvP/++zNhwoTjPnbu3DmqY3jggQfS09NTfezdu3dU/zwAgNEwbk4C\\\n",
       "ue+++7JkyZLjrnP55Zef0HtNnz49L7/88oDX9u/fX102nIaGhjQ0NJzQnwEAcKYaNwHY1NSUpqam\\\n",
       "0/Jezc3NeeSRR/Lmm2/mkksuSZJs2LAhU6ZMydy5c0/LnwEAcKYaNwF4Mvbs2ZO33nore/bsyeHD\\\n",
       "h7N169YkyRVXXJHzzz8/N9xwQ+bOnZsvfvGLefTRR9PV1ZUHH3wwra2tZvgAgLpXl5eBWbJkSZ56\\\n",
       "6qljXt+0aVOuv/76JMn//M//5O67787zzz+f8847Ly0tLfnmN7+Zs8468SZ2GjkAjD+233UagGPF\\\n",
       "XyAAGH9sv8fRWcAAAJweAhAAoDACEACgMAIQAKAwAhAAoDACEACgMAIQAKi59vb2dHZ2Hnedzs7O\\\n",
       "tLe3j82A6lxd3gkEABg/2tvbs3Llyurz1tbWY9bp7OzMsmXLBnwPp84MIABQM4Pjb9myZcfMBA6O\\\n",
       "v5UrVwrAERKAAEBNDI6/Pv0jcHD89RGBI+NWcCPgVjIAcGqGi7/+5syZkx07dhx3nba2tpMOQdtv\\\n",
       "M4AAQA00NTUNu2xe5iVJNf76np/s+zA8AQgAjLnW1tZ0dHQc83pLWrI6q7M4i5Mki7M4q7M6LWk5\\\n",
       "Zt2Ojo4hTxjhgwlAgFHgkhbwwQZH4LzMy5IsSZIszdKsz/oszdIkyZIsGTATKP5GxmVgAE4zl7SA\\\n",
       "E9f387Fs2bJsy7asyZpq9DWmsbremqzJtmxLIv5OByeBjICDSIHBhjqwffDGaqizGk/lQHaoJ3Pn\\\n",
       "zq0e87c+6wfEX096siiLkhw9MWT79u0j+rNsv+0CBjhtXNICTk1nZ2c1/hZn8YD4S47OBPYdE7hj\\\n",
       "x44PPLyCD2YGcAT8BgH0qeUlLWA86/9L0bzMy+qsri7rSc+AGLwn95yW3cC232YAAU4Ll7SAkzd4\\\n",
       "RnxbtmVt1iY5eszfoizKmqxJkqzN2mr8JUPfMYQTZwZwBPwGAfQ31O7dlrRkSZZkTdZkXdZlcRZn\\\n",
       "aZZmbdbmqTw1YF0HtlOS4Q6HSI7+ktQ/9gY/7+9Ufm5sv80AApw2LmkBJ667u3vYZX2xN2fOnAHP\\\n",
       "T/Z9GJ4ABDiN+kdg3yUt+rikBfyv9vb2tLW1Dbu8o6Mj27dvH/Ji0X0cM3vq7AIeAVPIwHDG8pIW\\\n",
       "MJ7V4tJJtt9mAAFOO5e0gBM3eCZwqBnxwYdXmPkbOXcCATiNBl/Sou+Yv2TgJS2WZmm2/b9/+ta3\\\n",
       "G5hS9cVcU1PTsD8Hfa93d3eLv9PALuARMIUM9OcsYBgfbL8F4Ij4CwT0qeUlLYCTY/vtGECA08Il\\\n",
       "LYDxRAACnAYuaQGMJwIQ4DQZLgL779YdfDZjH/EHjCUBCHAauaQFMB64DAzAaeaSFsCZzlnAI+As\\\n",
       "IgBI0t7vYuftPbUbxwmy/bYLGACgOAIQAKAwjgEEAEZmHOz2ZSAzgAAAhTEDCDCEj9z//1e//uU3\\\n",
       "b67hSABOPzOAAACFEYAAAIWxCxhgCHb7AvXMDCAAQGEEIABAYQQgAEBhBGAdam9vT2dn53HX6ezs\\\n",
       "dAN6ACiUk0DqTHt7e1auXFl93traesw6nZ2dWbZs2YDvAQDKYQawjgyOv2XLlh0zEzg4/lauXCkA\\\n",
       "AaAwArBODI6/Pv0jcHD89RGBAFCWCZVKpVLrQYxXvb29aWxsTE9PT6ZMmVKzcQwXf/3NmTMnO3bs\\\n",
       "OO46bW1tQhCAunembL9ryQxgHWhqahp22bzMS5Jq/PU9P9n3AQDqhwCsA62treno6Djm9Za0ZHVW\\\n",
       "Z3EWJ0kWZ3FWZ3Va0nLMuh0dHUOeMAIA1B+7gEfgTJtC7n+M37zMy+qsri7rSU8a01h9fk/uybZs\\\n",
       "SyL+ACjLmbb9rgUzgHWk/0zgtmzLmqypLusff2uyRvwBQMHMAI7AmfobxNy5c6vH/K3P+gHx15Oe\\\n",
       "LMqiJEdPDNm+fXsthggANXOmbr/HkhnAOtPZ2VmNv8VZPCD+kqMzgX3HBO7YseMD7xgCANQfAVhH\\\n",
       "Bh8DuDRLq8t60lP9emmWVs8GHupi0QBAfROAdWLwRZ63ZVvWZm2So8f8Lcqi6jGBa7O2egxgIgIB\\\n",
       "oDSOARyBM+UYguHu8JEcnQnsH3uDn/fnhBAASnCmbL9ryQxgHeju7h52WV/szZkzZ8Dzk30fAKB+\\\n",
       "CMA60N7enra2tmGXd3R0ZPv27UNeLLqP28ABQDkEYJ0YLgL779Yd7o4h4g8AyiIA68jgCBzqmL7B\\\n",
       "ESj+AKA8Z9V6AJxefTHX1NQ07Akdfa93d3eLPwAokLOAR8BZRAAw/th+2wUMAFAcAQgAUBgBCABQ\\\n",
       "GAEIAFAYAQgAUBgBCABQmLoMwF/+8pe58847M3v27Jx77rn5wz/8w7S1teXQoUMD1vvv//7v/Nmf\\\n",
       "/VnOOeeczJw5M48++miNRgwAMHbq8kLQO3fuzJEjR7JmzZpcccUV2bZtW+66664cOHAg3/rWt5Ic\\\n",
       "vQbQDTfckAULFuSJJ57Iq6++mi9/+cu58MIL85WvfKXG/wbJ//nCn1e/vu+ZH9RwJABAvanLALzx\\\n",
       "xhtz4403Vp9ffvnl2bVrVx5//PFqAP7rv/5rDh06lO9973uZNGlS/uiP/ihbt27Nt7/97TMiAAEA\\\n",
       "Rktd7gIeSk9PT6ZOnVp9vmXLlnz605/OpEmTqq8tXLgwu3btym9/+9taDBEAYEzU5QzgYLt3787q\\\n",
       "1aurs39J0tXVldmzZw9Yb9q0adVlF1100THvc/DgwRw8eLD6vLe3d5RGbLcvADB6xtUM4P33358J\\\n",
       "EyYc97Fz584B3/PGG2/kxhtvzO2335677rprRH/+qlWr0tjYWH3MnDlzRO8HAFALEyqVSqXWgzhR\\\n",
       "3d3d+c1vfnPcdS6//PLqbt19+/bl+uuvz3XXXZe1a9dm4sT/7d0vfelL6e3tzfr166uvbdq0KZ/9\\\n",
       "7Gfz1ltvnfAM4MyZM4u+mTQAjDe9vb1pbGwsevs9rnYBNzU1pamp6YTWfeONN/KZz3wm8+fPz5NP\\\n",
       "Pjkg/pKkubk5f/u3f5v3338/Z599dpJkw4YN+ehHPzpk/CVJQ0NDGhoaRvYvAQBQY+NqF/CJeuON\\\n",
       "N3L99ddn1qxZ+da3vpXu7u50dXWlq6urus5f/dVfZdKkSbnzzjvz2muv5Zlnnsl3vvOdrFixooYj\\\n",
       "BwAYfeNqBvBEbdiwIbt3787u3btz2WWXDVjWt8e7sbExP/7xj9Pa2pr58+fn4osvzsMPP+wSMABA\\\n",
       "3RtXxwCeaRxDAADjj+13ne4CBgBgeAIQAKAwAhAAoDACEACgMAIQAKAwAhAAoDACEACgMHV5Ieix\\\n",
       "0ncJxd7e3hqPBAA4UX3b7ZIvhSwAR+A3v/lNkmTmzJk1HgkAcLLeeeedNDY21noYNSEAR2Dq1KlJ\\\n",
       "kj179hT7F+hM19vbm5kzZ2bv3r3FXu39TOczOrP5fM58PqOTV6lU8s4772TGjBm1HkrNCMARmDjx\\\n",
       "6CGUjY2NfujOcFOmTPEZneF8Rmc2n8+Zz2d0ckqfuHESCABAYQQgAEBhBOAINDQ0pK2tLQ0NDbUe\\\n",
       "CsPwGZ35fEZnNp/Pmc9nxKmYUCn5HGgAgAKZAQQAKIwABAAojAAEACiMAAQAKIwAPEWPPPJIPvnJ\\\n",
       "T2by5Mm58MILh1xnz549ufnmmzN58uRccskl+drXvpbf//73YzvQgnV2duYjH/lIzjnnnFx77bV5\\\n",
       "+eWXaz2kYr3wwgv5/Oc/nxkzZmTChAlZv379gOWVSiUPP/xwLr300px77rlZsGBBfvGLX9RmsIVa\\\n",
       "tWpV/uRP/iQXXHBBLrnkkixatCi7du0asM57772X1tbW/MEf/EHOP//83Hbbbdm/f3+NRlyWxx9/\\\n",
       "PH/8x39cvdhzc3NzfvjDH1aX+2w4WQLwFB06dCi333577r777iGXHz58ODfffHMOHTqUn/70p3nq\\\n",
       "qaeydu3aPPzww2M80jI988wzWbFiRdra2vLzn/88V111VRYuXJg333yz1kMr0oEDB3LVVVels7Nz\\\n",
       "yOWPPvpovvvd7+aJJ57ISy+9lPPOOy8LFy7Me++9N8YjLdfmzZvT2tqaF198MRs2bMj777+fG264\\\n",
       "IQcOHKiuc++99+b73/9+nn322WzevDn79u3LrbfeWsNRl+Oyyy7LN7/5zbzyyiv52c9+ls9+9rO5\\\n",
       "5ZZb8tprryXx2XAKKozIk08+WWlsbDzm9f/4j/+oTJw4sdLV1VV97fHHH69MmTKlcvDgwTEcYZmu\\\n",
       "ueaaSmtra/X54cOHKzNmzKisWrWqhqOiUqlUklSee+656vMjR45Upk+fXvm7v/u76mtvv/12paGh\\\n",
       "ofJv//ZvNRghlUql8uabb1aSVDZv3lypVI5+JmeffXbl2Wefra6zY8eOSpLKli1bajXMol100UWV\\\n",
       "f/zHf/TZcErMAI6SLVu25OMf/3imTZtWfW3hwoXp7e2t/sbG6Dh06FBeeeWVLFiwoPraxIkTs2DB\\\n",
       "gmzZsqWGI2Mor7/+erq6ugZ8Xo2Njbn22mt9XjXU09OTJJk6dWqS5JVXXsn7778/4HP62Mc+llmz\\\n",
       "Zvmcxtjhw4ezbt26HDhwIM3NzT4bTslZtR5Averq6hoQf0mqz7u6umoxpGL8+te/zuHDh4f8779z\\\n",
       "584ajYrh9P08DPV5+VmpjSNHjmT58uX51Kc+lXnz5iU5+jlNmjTpmGOefU5j59VXX01zc3Pee++9\\\n",
       "nH/++Xnuuecyd+7cbN261WfDSTMD2M/999+fCRMmHPchIIB619ramm3btmXdunW1Hgr9fPSjH83W\\\n",
       "rVvz0ksv5e67705LS0u2b99e62ExTpkB7Oe+++7LkiVLjrvO5ZdffkLvNX369GPOOu07I2v69Omn\\\n",
       "ND5OzMUXX5wPfehDx5wBt3//fv/tz0B9n8n+/ftz6aWXVl/fv39/PvGJT9RoVOVatmxZfvCDH+SF\\\n",
       "F17IZZddVn19+vTpOXToUN5+++0BM01+rsbOpEmTcsUVVyRJ5s+fn//6r//Kd77znXzhC1/w2XDS\\\n",
       "zAD209TUlI997GPHfUyaNOmE3qu5uTmvvvrqgLNON2zYkClTpmTu3Lmj9a9Ajv5Pcv78+dm4cWP1\\\n",
       "tSNHjmTjxo1pbm6u4cgYyuzZszN9+vQBn1dvb29eeukln9cYqlQqWbZsWZ577rn85Cc/yezZswcs\\\n",
       "nz9/fs4+++wBn9OuXbuyZ88en1ONHDlyJAcPHvTZcErMAJ6iPXv25K233sqePXty+PDhbN26NUly\\\n",
       "xRVX5Pzzz88NN9yQuXPn5otf/GIeffTRdHV15cEHH0xra2saGhpqO/gCrFixIi0tLbn66qtzzTXX\\\n",
       "5LHHHsuBAwdyxx131HpoRfrd736X3bt3V5+//vrr2bp1a6ZOnZpZs2Zl+fLl+frXv54rr7wys2fP\\\n",
       "zkMPPZQZM2Zk0aJFtRt0YVpbW/P000/n3//933PBBRdUjx1rbGzMueeem8bGxtx5551ZsWJFpk6d\\\n",
       "milTpuSee+5Jc3NzrrvuuhqPvv498MADuemmmzJr1qy88847efrpp/P888/nP//zP302nJpan4Y8\\\n",
       "XrW0tFSSHPPYtGlTdZ1f/vKXlZtuuqly7rnnVi6++OLKfffdV3n//fdrN+jCrF69ujJr1qzKpEmT\\\n",
       "Ktdcc03lxRdfrPWQirVp06Yhf15aWloqlcrRS8E89NBDlWnTplUaGhoqn/vc5yq7du2q7aALM9Tn\\\n",
       "k6Ty5JNPVtd59913K1/96lcrF110UWXy5MmVv/iLv6j86le/qt2gC/LlL3+58uEPf7gyadKkSlNT\\\n",
       "U+Vzn/tc5cc//nF1uc+GkzWhUqlUxj47AQCoFccAAgAURgACABRGAAIAFEYAAgAURgACABRGAAIA\\\n",
       "FEYAAgAURgACABRGAAIAFEYAAgAURgACABRGAAIAFEYAAgAURgACABRGAAIAFEYAAgAURgACABRG\\\n",
       "AAIAFEYAAgAURgACABRGAAIAFEYAAgAURgACABRGAAIAFEYAAgAURgACABRGAAIAFEYAAgAURgAC\\\n",
       "ABRGAAIAFEYAAgAU5v8CvUSyxIuVw/IAAAAASUVORK5CYII=\\\n",
       "\"\n",
       "\n",
       "\n",
       "    /* set a timeout to make sure all the above elements are created before\n",
       "       the object is initialized. */\n",
       "    setTimeout(function() {\n",
       "        anim9c08200be8574e759569ddaf61edfd23 = new Animation(frames, img_id, slider_id, 500.0,\n",
       "                                 loop_select_id);\n",
       "    }, 0);\n",
       "  })()\n",
       "</script>\n"
      ],
      "text/plain": [
       "<IPython.core.display.HTML object>"
      ]
     },
     "execution_count": 161,
     "metadata": {},
     "output_type": "execute_result"
    }
   ],
   "source": [
    "X = data.clone()\n",
    "fig,ax = plt.subplots()\n",
    "ani = FuncAnimation(fig, do_one, frames=5, interval=500, repeat=False)\n",
    "plt.close()\n",
    "HTML(ani.to_jshtml())"
   ]
  },
  {
   "cell_type": "markdown",
   "id": "a87ff958",
   "metadata": {},
   "source": [
    "# GPU batched algorithm\n",
    "\n",
    "We can make things go even faster if we can run it on the GPU."
   ]
  },
  {
   "cell_type": "code",
   "execution_count": 162,
   "id": "7fe17094",
   "metadata": {
    "execution": {
     "iopub.execute_input": "2025-09-28T22:08:31.605637Z",
     "iopub.status.busy": "2025-09-28T22:08:31.605384Z",
     "iopub.status.idle": "2025-09-28T22:08:31.610960Z",
     "shell.execute_reply": "2025-09-28T22:08:31.610240Z",
     "shell.execute_reply.started": "2025-09-28T22:08:31.605617Z"
    }
   },
   "outputs": [
    {
     "data": {
      "text/plain": [
       "(torch.Size([1500, 2]), torch.Size([5, 2]))"
      ]
     },
     "execution_count": 162,
     "metadata": {},
     "output_type": "execute_result"
    }
   ],
   "source": [
    "bs=5\n",
    "X = data.clone()\n",
    "x = X[:bs]\n",
    "X.shape, x.shape"
   ]
  },
  {
   "cell_type": "markdown",
   "id": "2f0761f2",
   "metadata": {},
   "source": [
    "Have to add some new dims to make these compatible:"
   ]
  },
  {
   "cell_type": "code",
   "execution_count": 163,
   "id": "6804b343",
   "metadata": {
    "execution": {
     "iopub.execute_input": "2025-09-28T22:08:31.612400Z",
     "iopub.status.busy": "2025-09-28T22:08:31.611683Z",
     "iopub.status.idle": "2025-09-28T22:08:31.625921Z",
     "shell.execute_reply": "2025-09-28T22:08:31.625398Z",
     "shell.execute_reply.started": "2025-09-28T22:08:31.612365Z"
    }
   },
   "outputs": [
    {
     "data": {
      "text/plain": [
       "(torch.Size([1, 1500, 2]), torch.Size([5, 1, 2]))"
      ]
     },
     "execution_count": 163,
     "metadata": {},
     "output_type": "execute_result"
    }
   ],
   "source": [
    "X[None].shape, x[:, None].shape"
   ]
  },
  {
   "cell_type": "code",
   "execution_count": 164,
   "id": "c31d31a7",
   "metadata": {
    "execution": {
     "iopub.execute_input": "2025-09-28T22:08:31.627211Z",
     "iopub.status.busy": "2025-09-28T22:08:31.626659Z",
     "iopub.status.idle": "2025-09-28T22:08:31.640341Z",
     "shell.execute_reply": "2025-09-28T22:08:31.639845Z",
     "shell.execute_reply.started": "2025-09-28T22:08:31.627194Z"
    }
   },
   "outputs": [
    {
     "data": {
      "text/plain": [
       "torch.Size([5, 1500, 2])"
      ]
     },
     "execution_count": 164,
     "metadata": {},
     "output_type": "execute_result"
    }
   ],
   "source": [
    "diff = X[None] - x[:,None]\n",
    "diff.shape"
   ]
  },
  {
   "cell_type": "code",
   "execution_count": 165,
   "id": "b6b47e41",
   "metadata": {
    "execution": {
     "iopub.execute_input": "2025-09-28T22:08:31.641229Z",
     "iopub.status.busy": "2025-09-28T22:08:31.640992Z",
     "iopub.status.idle": "2025-09-28T22:08:31.655550Z",
     "shell.execute_reply": "2025-09-28T22:08:31.654946Z",
     "shell.execute_reply.started": "2025-09-28T22:08:31.641209Z"
    }
   },
   "outputs": [
    {
     "data": {
      "text/plain": [
       "torch.Size([5, 1500])"
      ]
     },
     "execution_count": 165,
     "metadata": {},
     "output_type": "execute_result"
    }
   ],
   "source": [
    "(torch.einsum(\"ijk,ijk->ij\", diff, diff)).sqrt().shape"
   ]
  },
  {
   "cell_type": "code",
   "execution_count": 166,
   "id": "a25e0352",
   "metadata": {
    "execution": {
     "iopub.execute_input": "2025-09-28T22:08:31.656607Z",
     "iopub.status.busy": "2025-09-28T22:08:31.656325Z",
     "iopub.status.idle": "2025-09-28T22:08:31.667462Z",
     "shell.execute_reply": "2025-09-28T22:08:31.666844Z",
     "shell.execute_reply.started": "2025-09-28T22:08:31.656583Z"
    }
   },
   "outputs": [],
   "source": [
    "# def dist_gpu(m): return (torch.einsum(\"ijk,ijk->ij\", m, m)).sqrt()\n",
    "\n",
    "def dist_gpu(full,batch): return ((full[None] - batch[:,None])**2).sum(2).sqrt() # this is faster on the gpu"
   ]
  },
  {
   "cell_type": "code",
   "execution_count": 167,
   "id": "725de80b",
   "metadata": {
    "execution": {
     "iopub.execute_input": "2025-09-28T22:08:31.668358Z",
     "iopub.status.busy": "2025-09-28T22:08:31.668169Z",
     "iopub.status.idle": "2025-09-28T22:08:31.683301Z",
     "shell.execute_reply": "2025-09-28T22:08:31.682691Z",
     "shell.execute_reply.started": "2025-09-28T22:08:31.668344Z"
    }
   },
   "outputs": [
    {
     "data": {
      "text/plain": [
       "torch.Size([5, 1500])"
      ]
     },
     "execution_count": 167,
     "metadata": {},
     "output_type": "execute_result"
    }
   ],
   "source": [
    "weight_gpu = gaussian(dist_gpu(X,x), bw=2.5)\n",
    "weight_gpu.shape"
   ]
  },
  {
   "cell_type": "code",
   "execution_count": 168,
   "id": "4aa0c61d",
   "metadata": {
    "execution": {
     "iopub.execute_input": "2025-09-28T22:08:31.684032Z",
     "iopub.status.busy": "2025-09-28T22:08:31.683871Z",
     "iopub.status.idle": "2025-09-28T22:08:31.694745Z",
     "shell.execute_reply": "2025-09-28T22:08:31.694117Z",
     "shell.execute_reply.started": "2025-09-28T22:08:31.684018Z"
    }
   },
   "outputs": [
    {
     "data": {
      "text/plain": [
       "(torch.Size([1, 1500, 2]), torch.Size([5, 1500, 1]))"
      ]
     },
     "execution_count": 168,
     "metadata": {},
     "output_type": "execute_result"
    }
   ],
   "source": [
    "X[None].shape, weight_gpu[...,None].shape"
   ]
  },
  {
   "cell_type": "code",
   "execution_count": 169,
   "id": "c82ae644",
   "metadata": {
    "execution": {
     "iopub.execute_input": "2025-09-28T22:08:31.695983Z",
     "iopub.status.busy": "2025-09-28T22:08:31.695677Z",
     "iopub.status.idle": "2025-09-28T22:08:31.708735Z",
     "shell.execute_reply": "2025-09-28T22:08:31.708162Z",
     "shell.execute_reply.started": "2025-09-28T22:08:31.695962Z"
    }
   },
   "outputs": [
    {
     "data": {
      "text/plain": [
       "torch.Size([5, 1])"
      ]
     },
     "execution_count": 169,
     "metadata": {},
     "output_type": "execute_result"
    }
   ],
   "source": [
    "weight_gpu.sum(1)[:,None].shape"
   ]
  },
  {
   "cell_type": "code",
   "execution_count": 170,
   "id": "b15ec62a",
   "metadata": {
    "execution": {
     "iopub.execute_input": "2025-09-28T22:08:31.709580Z",
     "iopub.status.busy": "2025-09-28T22:08:31.709347Z",
     "iopub.status.idle": "2025-09-28T22:08:31.723275Z",
     "shell.execute_reply": "2025-09-28T22:08:31.722706Z",
     "shell.execute_reply.started": "2025-09-28T22:08:31.709564Z"
    }
   },
   "outputs": [
    {
     "data": {
      "text/plain": [
       "tensor([[ 12.882, -16.199],\n",
       "        [ 14.804, -15.716],\n",
       "        [ 14.205, -15.367],\n",
       "        [ 13.608, -16.356],\n",
       "        [ 13.019, -14.632]])"
      ]
     },
     "execution_count": 170,
     "metadata": {},
     "output_type": "execute_result"
    }
   ],
   "source": [
    "(X[None]*weight_gpu[...,None]).sum(1) / weight_gpu.sum(1)[:,None]"
   ]
  },
  {
   "cell_type": "markdown",
   "id": "75e84632",
   "metadata": {},
   "source": [
    "If we do this using ```einsum```:"
   ]
  },
  {
   "cell_type": "code",
   "execution_count": 171,
   "id": "cd59a4b7",
   "metadata": {
    "execution": {
     "iopub.execute_input": "2025-09-28T22:08:31.724204Z",
     "iopub.status.busy": "2025-09-28T22:08:31.723964Z",
     "iopub.status.idle": "2025-09-28T22:08:31.736441Z",
     "shell.execute_reply": "2025-09-28T22:08:31.735883Z",
     "shell.execute_reply.started": "2025-09-28T22:08:31.724172Z"
    }
   },
   "outputs": [
    {
     "data": {
      "text/plain": [
       "tensor([[ 12.882, -16.199],\n",
       "        [ 14.804, -15.716],\n",
       "        [ 14.205, -15.367],\n",
       "        [ 13.608, -16.356],\n",
       "        [ 13.019, -14.632]])"
      ]
     },
     "execution_count": 171,
     "metadata": {},
     "output_type": "execute_result"
    }
   ],
   "source": [
    "torch.einsum(\"ik,kj->ij\", weight_gpu, X) / weight_gpu.sum(1)[:,None]"
   ]
  },
  {
   "cell_type": "markdown",
   "id": "a8a48648",
   "metadata": {},
   "source": [
    "The ```weight_gpu * X``` is actually just a simple matrix multiplication, so we can just do this:"
   ]
  },
  {
   "cell_type": "code",
   "execution_count": 172,
   "id": "4b5dcf0b",
   "metadata": {
    "execution": {
     "iopub.execute_input": "2025-09-28T22:08:31.737097Z",
     "iopub.status.busy": "2025-09-28T22:08:31.736901Z",
     "iopub.status.idle": "2025-09-28T22:08:31.748966Z",
     "shell.execute_reply": "2025-09-28T22:08:31.748398Z",
     "shell.execute_reply.started": "2025-09-28T22:08:31.737082Z"
    }
   },
   "outputs": [
    {
     "data": {
      "text/plain": [
       "tensor([[ 12.882, -16.199],\n",
       "        [ 14.804, -15.716],\n",
       "        [ 14.205, -15.367],\n",
       "        [ 13.608, -16.356],\n",
       "        [ 13.019, -14.632]])"
      ]
     },
     "execution_count": 172,
     "metadata": {},
     "output_type": "execute_result"
    }
   ],
   "source": [
    "weight_gpu@X / weight_gpu.sum(1)[:,None]"
   ]
  },
  {
   "cell_type": "code",
   "execution_count": 173,
   "id": "091c7c0c",
   "metadata": {
    "execution": {
     "iopub.execute_input": "2025-09-28T22:08:31.749769Z",
     "iopub.status.busy": "2025-09-28T22:08:31.749593Z",
     "iopub.status.idle": "2025-09-28T22:08:31.760825Z",
     "shell.execute_reply": "2025-09-28T22:08:31.760139Z",
     "shell.execute_reply.started": "2025-09-28T22:08:31.749755Z"
    }
   },
   "outputs": [],
   "source": [
    "def meanshift(data, bs=500):\n",
    "    n = len(data)\n",
    "    X = data.clone()\n",
    "    for it in range(5):\n",
    "        for i in range(0, n, bs):\n",
    "            s = slice(i, min(i+bs, n))\n",
    "            # x = X[s]\n",
    "            # diff = X[None] - x[:,None]\n",
    "            weight_gpu = gaussian(dist_gpu(X, X[s]), bw=2.5)\n",
    "            X[s] = weight_gpu@X / weight_gpu.sum(1)[:,None]\n",
    "    return X"
   ]
  },
  {
   "cell_type": "code",
   "execution_count": 174,
   "id": "7d265e02",
   "metadata": {
    "execution": {
     "iopub.execute_input": "2025-09-28T22:08:31.761697Z",
     "iopub.status.busy": "2025-09-28T22:08:31.761489Z",
     "iopub.status.idle": "2025-09-28T22:08:31.774676Z",
     "shell.execute_reply": "2025-09-28T22:08:31.774072Z",
     "shell.execute_reply.started": "2025-09-28T22:08:31.761674Z"
    }
   },
   "outputs": [],
   "source": [
    "data = data.cuda()"
   ]
  },
  {
   "cell_type": "code",
   "execution_count": 175,
   "id": "10766b36",
   "metadata": {
    "execution": {
     "iopub.execute_input": "2025-09-28T22:08:31.775528Z",
     "iopub.status.busy": "2025-09-28T22:08:31.775322Z",
     "iopub.status.idle": "2025-09-28T22:08:31.791438Z",
     "shell.execute_reply": "2025-09-28T22:08:31.790850Z",
     "shell.execute_reply.started": "2025-09-28T22:08:31.775504Z"
    }
   },
   "outputs": [],
   "source": [
    "X = meanshift(data).cpu()"
   ]
  },
  {
   "cell_type": "code",
   "execution_count": 176,
   "id": "4a99bf91-6c44-4cf5-8dde-96c9cad2df37",
   "metadata": {
    "execution": {
     "iopub.execute_input": "2025-09-28T22:08:31.792325Z",
     "iopub.status.busy": "2025-09-28T22:08:31.792138Z",
     "iopub.status.idle": "2025-09-28T22:08:31.945999Z",
     "shell.execute_reply": "2025-09-28T22:08:31.945215Z",
     "shell.execute_reply.started": "2025-09-28T22:08:31.792311Z"
    }
   },
   "outputs": [
    {
     "name": "stdout",
     "output_type": "stream",
     "text": [
      "4.16 ms ± 316 µs per loop (mean ± std. dev. of 7 runs, 5 loops each)\n"
     ]
    }
   ],
   "source": [
    "%timeit -n 5 _=meanshift(data,bs=500).cpu()"
   ]
  },
  {
   "cell_type": "markdown",
   "id": "12acf8c7-d3f1-445f-956a-b00769739f1a",
   "metadata": {},
   "source": [
    "Much faster!"
   ]
  },
  {
   "cell_type": "code",
   "execution_count": 177,
   "id": "52e5d0d6-4163-45fc-960f-67d6a79eeafb",
   "metadata": {
    "execution": {
     "iopub.execute_input": "2025-09-28T22:08:31.947628Z",
     "iopub.status.busy": "2025-09-28T22:08:31.946836Z",
     "iopub.status.idle": "2025-09-28T22:08:32.178483Z",
     "shell.execute_reply": "2025-09-28T22:08:32.177831Z",
     "shell.execute_reply.started": "2025-09-28T22:08:31.947597Z"
    }
   },
   "outputs": [
    {
     "data": {
      "image/png": "[encoded data removed]",
      "text/plain": [
       "<Figure size 640x480 with 1 Axes>"
      ]
     },
     "metadata": {},
     "output_type": "display_data"
    }
   ],
   "source": [
    "plot_data(centroids+2, X)"
   ]
  }
 ],
 "metadata": {
  "kaggle": {
   "accelerator": "gpu",
   "dataSources": [],
   "dockerImageVersionId": 31090,
   "isGpuEnabled": true,
   "isInternetEnabled": true,
   "language": "python",
   "sourceType": "notebook"
  },
  "kernelspec": {
   "display_name": "Python 3 (ipykernel)",
   "language": "python",
   "name": "python3"
  },
  "language_info": {
   "codemirror_mode": {
    "name": "ipython",
    "version": 3
   },
   "file_extension": ".py",
   "mimetype": "text/x-python",
   "name": "python",
   "nbconvert_exporter": "python",
   "pygments_lexer": "ipython3",
   "version": "3.11.4"
  }
 },
 "nbformat": 4,
 "nbformat_minor": 5
}
